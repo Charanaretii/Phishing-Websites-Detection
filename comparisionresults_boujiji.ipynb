{
 "cells": [
  {
   "cell_type": "code",
   "execution_count": 1,
   "id": "4e682b98",
   "metadata": {},
   "outputs": [],
   "source": [
    "import numpy as np\n",
    "import pandas as pd\n",
    "import matplotlib.pyplot as plt\n",
    "import seaborn as sns\n"
   ]
  },
  {
   "cell_type": "code",
   "execution_count": 2,
   "id": "c9f9ae5e",
   "metadata": {},
   "outputs": [
    {
     "data": {
      "text/html": [
       "<div>\n",
       "<style scoped>\n",
       "    .dataframe tbody tr th:only-of-type {\n",
       "        vertical-align: middle;\n",
       "    }\n",
       "\n",
       "    .dataframe tbody tr th {\n",
       "        vertical-align: top;\n",
       "    }\n",
       "\n",
       "    .dataframe thead th {\n",
       "        text-align: right;\n",
       "    }\n",
       "</style>\n",
       "<table border=\"1\" class=\"dataframe\">\n",
       "  <thead>\n",
       "    <tr style=\"text-align: right;\">\n",
       "      <th></th>\n",
       "      <th>NumDots</th>\n",
       "      <th>SubdomainLevel</th>\n",
       "      <th>PathLevel</th>\n",
       "      <th>UrlLength</th>\n",
       "      <th>NumDash</th>\n",
       "      <th>NumDashInHostname</th>\n",
       "      <th>AtSymbol</th>\n",
       "      <th>TildeSymbol</th>\n",
       "      <th>NumUnderscore</th>\n",
       "      <th>NumPercent</th>\n",
       "      <th>...</th>\n",
       "      <th>IframeOrFrame</th>\n",
       "      <th>MissingTitle</th>\n",
       "      <th>ImagesOnlyInForm</th>\n",
       "      <th>SubdomainLevelRT</th>\n",
       "      <th>UrlLengthRT</th>\n",
       "      <th>PctExtResourceUrlsRT</th>\n",
       "      <th>AbnormalExtFormActionR</th>\n",
       "      <th>ExtMetaScriptLinkRT</th>\n",
       "      <th>PctExtNullSelfRedirectHyperlinksRT</th>\n",
       "      <th>CLASS_LABEL</th>\n",
       "    </tr>\n",
       "  </thead>\n",
       "  <tbody>\n",
       "    <tr>\n",
       "      <th>0</th>\n",
       "      <td>3.0</td>\n",
       "      <td>1.0</td>\n",
       "      <td>5.0</td>\n",
       "      <td>72.0</td>\n",
       "      <td>0.0</td>\n",
       "      <td>0.0</td>\n",
       "      <td>0.0</td>\n",
       "      <td>0.0</td>\n",
       "      <td>0.0</td>\n",
       "      <td>0.0</td>\n",
       "      <td>...</td>\n",
       "      <td>0.0</td>\n",
       "      <td>0.0</td>\n",
       "      <td>1.0</td>\n",
       "      <td>1.0</td>\n",
       "      <td>0.0</td>\n",
       "      <td>1.0</td>\n",
       "      <td>1.0</td>\n",
       "      <td>-1.0</td>\n",
       "      <td>1.0</td>\n",
       "      <td>b'1'</td>\n",
       "    </tr>\n",
       "    <tr>\n",
       "      <th>1</th>\n",
       "      <td>3.0</td>\n",
       "      <td>1.0</td>\n",
       "      <td>3.0</td>\n",
       "      <td>144.0</td>\n",
       "      <td>0.0</td>\n",
       "      <td>0.0</td>\n",
       "      <td>0.0</td>\n",
       "      <td>0.0</td>\n",
       "      <td>2.0</td>\n",
       "      <td>0.0</td>\n",
       "      <td>...</td>\n",
       "      <td>0.0</td>\n",
       "      <td>0.0</td>\n",
       "      <td>0.0</td>\n",
       "      <td>1.0</td>\n",
       "      <td>-1.0</td>\n",
       "      <td>1.0</td>\n",
       "      <td>1.0</td>\n",
       "      <td>1.0</td>\n",
       "      <td>1.0</td>\n",
       "      <td>b'1'</td>\n",
       "    </tr>\n",
       "    <tr>\n",
       "      <th>2</th>\n",
       "      <td>3.0</td>\n",
       "      <td>1.0</td>\n",
       "      <td>2.0</td>\n",
       "      <td>58.0</td>\n",
       "      <td>0.0</td>\n",
       "      <td>0.0</td>\n",
       "      <td>0.0</td>\n",
       "      <td>0.0</td>\n",
       "      <td>0.0</td>\n",
       "      <td>0.0</td>\n",
       "      <td>...</td>\n",
       "      <td>0.0</td>\n",
       "      <td>0.0</td>\n",
       "      <td>0.0</td>\n",
       "      <td>1.0</td>\n",
       "      <td>0.0</td>\n",
       "      <td>-1.0</td>\n",
       "      <td>1.0</td>\n",
       "      <td>-1.0</td>\n",
       "      <td>0.0</td>\n",
       "      <td>b'1'</td>\n",
       "    </tr>\n",
       "    <tr>\n",
       "      <th>3</th>\n",
       "      <td>3.0</td>\n",
       "      <td>1.0</td>\n",
       "      <td>6.0</td>\n",
       "      <td>79.0</td>\n",
       "      <td>1.0</td>\n",
       "      <td>0.0</td>\n",
       "      <td>0.0</td>\n",
       "      <td>0.0</td>\n",
       "      <td>0.0</td>\n",
       "      <td>0.0</td>\n",
       "      <td>...</td>\n",
       "      <td>0.0</td>\n",
       "      <td>0.0</td>\n",
       "      <td>0.0</td>\n",
       "      <td>1.0</td>\n",
       "      <td>-1.0</td>\n",
       "      <td>1.0</td>\n",
       "      <td>1.0</td>\n",
       "      <td>1.0</td>\n",
       "      <td>-1.0</td>\n",
       "      <td>b'1'</td>\n",
       "    </tr>\n",
       "    <tr>\n",
       "      <th>4</th>\n",
       "      <td>3.0</td>\n",
       "      <td>0.0</td>\n",
       "      <td>4.0</td>\n",
       "      <td>46.0</td>\n",
       "      <td>0.0</td>\n",
       "      <td>0.0</td>\n",
       "      <td>0.0</td>\n",
       "      <td>0.0</td>\n",
       "      <td>0.0</td>\n",
       "      <td>0.0</td>\n",
       "      <td>...</td>\n",
       "      <td>1.0</td>\n",
       "      <td>0.0</td>\n",
       "      <td>0.0</td>\n",
       "      <td>1.0</td>\n",
       "      <td>1.0</td>\n",
       "      <td>-1.0</td>\n",
       "      <td>0.0</td>\n",
       "      <td>-1.0</td>\n",
       "      <td>-1.0</td>\n",
       "      <td>b'1'</td>\n",
       "    </tr>\n",
       "    <tr>\n",
       "      <th>...</th>\n",
       "      <td>...</td>\n",
       "      <td>...</td>\n",
       "      <td>...</td>\n",
       "      <td>...</td>\n",
       "      <td>...</td>\n",
       "      <td>...</td>\n",
       "      <td>...</td>\n",
       "      <td>...</td>\n",
       "      <td>...</td>\n",
       "      <td>...</td>\n",
       "      <td>...</td>\n",
       "      <td>...</td>\n",
       "      <td>...</td>\n",
       "      <td>...</td>\n",
       "      <td>...</td>\n",
       "      <td>...</td>\n",
       "      <td>...</td>\n",
       "      <td>...</td>\n",
       "      <td>...</td>\n",
       "      <td>...</td>\n",
       "      <td>...</td>\n",
       "    </tr>\n",
       "    <tr>\n",
       "      <th>9995</th>\n",
       "      <td>3.0</td>\n",
       "      <td>1.0</td>\n",
       "      <td>1.0</td>\n",
       "      <td>50.0</td>\n",
       "      <td>0.0</td>\n",
       "      <td>0.0</td>\n",
       "      <td>0.0</td>\n",
       "      <td>0.0</td>\n",
       "      <td>0.0</td>\n",
       "      <td>0.0</td>\n",
       "      <td>...</td>\n",
       "      <td>0.0</td>\n",
       "      <td>0.0</td>\n",
       "      <td>0.0</td>\n",
       "      <td>1.0</td>\n",
       "      <td>1.0</td>\n",
       "      <td>-1.0</td>\n",
       "      <td>1.0</td>\n",
       "      <td>0.0</td>\n",
       "      <td>1.0</td>\n",
       "      <td>b'0'</td>\n",
       "    </tr>\n",
       "    <tr>\n",
       "      <th>9996</th>\n",
       "      <td>2.0</td>\n",
       "      <td>1.0</td>\n",
       "      <td>4.0</td>\n",
       "      <td>59.0</td>\n",
       "      <td>1.0</td>\n",
       "      <td>0.0</td>\n",
       "      <td>0.0</td>\n",
       "      <td>0.0</td>\n",
       "      <td>0.0</td>\n",
       "      <td>0.0</td>\n",
       "      <td>...</td>\n",
       "      <td>1.0</td>\n",
       "      <td>0.0</td>\n",
       "      <td>0.0</td>\n",
       "      <td>1.0</td>\n",
       "      <td>0.0</td>\n",
       "      <td>0.0</td>\n",
       "      <td>1.0</td>\n",
       "      <td>0.0</td>\n",
       "      <td>1.0</td>\n",
       "      <td>b'0'</td>\n",
       "    </tr>\n",
       "    <tr>\n",
       "      <th>9997</th>\n",
       "      <td>2.0</td>\n",
       "      <td>1.0</td>\n",
       "      <td>4.0</td>\n",
       "      <td>57.0</td>\n",
       "      <td>0.0</td>\n",
       "      <td>0.0</td>\n",
       "      <td>0.0</td>\n",
       "      <td>0.0</td>\n",
       "      <td>0.0</td>\n",
       "      <td>0.0</td>\n",
       "      <td>...</td>\n",
       "      <td>0.0</td>\n",
       "      <td>0.0</td>\n",
       "      <td>0.0</td>\n",
       "      <td>1.0</td>\n",
       "      <td>0.0</td>\n",
       "      <td>1.0</td>\n",
       "      <td>1.0</td>\n",
       "      <td>0.0</td>\n",
       "      <td>1.0</td>\n",
       "      <td>b'0'</td>\n",
       "    </tr>\n",
       "    <tr>\n",
       "      <th>9998</th>\n",
       "      <td>3.0</td>\n",
       "      <td>1.0</td>\n",
       "      <td>1.0</td>\n",
       "      <td>49.0</td>\n",
       "      <td>0.0</td>\n",
       "      <td>0.0</td>\n",
       "      <td>0.0</td>\n",
       "      <td>0.0</td>\n",
       "      <td>0.0</td>\n",
       "      <td>0.0</td>\n",
       "      <td>...</td>\n",
       "      <td>1.0</td>\n",
       "      <td>0.0</td>\n",
       "      <td>0.0</td>\n",
       "      <td>1.0</td>\n",
       "      <td>1.0</td>\n",
       "      <td>0.0</td>\n",
       "      <td>1.0</td>\n",
       "      <td>0.0</td>\n",
       "      <td>1.0</td>\n",
       "      <td>b'0'</td>\n",
       "    </tr>\n",
       "    <tr>\n",
       "      <th>9999</th>\n",
       "      <td>3.0</td>\n",
       "      <td>1.0</td>\n",
       "      <td>2.0</td>\n",
       "      <td>52.0</td>\n",
       "      <td>3.0</td>\n",
       "      <td>0.0</td>\n",
       "      <td>0.0</td>\n",
       "      <td>0.0</td>\n",
       "      <td>0.0</td>\n",
       "      <td>0.0</td>\n",
       "      <td>...</td>\n",
       "      <td>0.0</td>\n",
       "      <td>0.0</td>\n",
       "      <td>0.0</td>\n",
       "      <td>1.0</td>\n",
       "      <td>1.0</td>\n",
       "      <td>1.0</td>\n",
       "      <td>1.0</td>\n",
       "      <td>1.0</td>\n",
       "      <td>1.0</td>\n",
       "      <td>b'0'</td>\n",
       "    </tr>\n",
       "  </tbody>\n",
       "</table>\n",
       "<p>10000 rows × 49 columns</p>\n",
       "</div>"
      ],
      "text/plain": [
       "      NumDots  SubdomainLevel  PathLevel  UrlLength  NumDash  \\\n",
       "0         3.0             1.0        5.0       72.0      0.0   \n",
       "1         3.0             1.0        3.0      144.0      0.0   \n",
       "2         3.0             1.0        2.0       58.0      0.0   \n",
       "3         3.0             1.0        6.0       79.0      1.0   \n",
       "4         3.0             0.0        4.0       46.0      0.0   \n",
       "...       ...             ...        ...        ...      ...   \n",
       "9995      3.0             1.0        1.0       50.0      0.0   \n",
       "9996      2.0             1.0        4.0       59.0      1.0   \n",
       "9997      2.0             1.0        4.0       57.0      0.0   \n",
       "9998      3.0             1.0        1.0       49.0      0.0   \n",
       "9999      3.0             1.0        2.0       52.0      3.0   \n",
       "\n",
       "      NumDashInHostname  AtSymbol  TildeSymbol  NumUnderscore  NumPercent  \\\n",
       "0                   0.0       0.0          0.0            0.0         0.0   \n",
       "1                   0.0       0.0          0.0            2.0         0.0   \n",
       "2                   0.0       0.0          0.0            0.0         0.0   \n",
       "3                   0.0       0.0          0.0            0.0         0.0   \n",
       "4                   0.0       0.0          0.0            0.0         0.0   \n",
       "...                 ...       ...          ...            ...         ...   \n",
       "9995                0.0       0.0          0.0            0.0         0.0   \n",
       "9996                0.0       0.0          0.0            0.0         0.0   \n",
       "9997                0.0       0.0          0.0            0.0         0.0   \n",
       "9998                0.0       0.0          0.0            0.0         0.0   \n",
       "9999                0.0       0.0          0.0            0.0         0.0   \n",
       "\n",
       "      ...  IframeOrFrame  MissingTitle  ImagesOnlyInForm  SubdomainLevelRT  \\\n",
       "0     ...            0.0           0.0               1.0               1.0   \n",
       "1     ...            0.0           0.0               0.0               1.0   \n",
       "2     ...            0.0           0.0               0.0               1.0   \n",
       "3     ...            0.0           0.0               0.0               1.0   \n",
       "4     ...            1.0           0.0               0.0               1.0   \n",
       "...   ...            ...           ...               ...               ...   \n",
       "9995  ...            0.0           0.0               0.0               1.0   \n",
       "9996  ...            1.0           0.0               0.0               1.0   \n",
       "9997  ...            0.0           0.0               0.0               1.0   \n",
       "9998  ...            1.0           0.0               0.0               1.0   \n",
       "9999  ...            0.0           0.0               0.0               1.0   \n",
       "\n",
       "      UrlLengthRT  PctExtResourceUrlsRT  AbnormalExtFormActionR  \\\n",
       "0             0.0                   1.0                     1.0   \n",
       "1            -1.0                   1.0                     1.0   \n",
       "2             0.0                  -1.0                     1.0   \n",
       "3            -1.0                   1.0                     1.0   \n",
       "4             1.0                  -1.0                     0.0   \n",
       "...           ...                   ...                     ...   \n",
       "9995          1.0                  -1.0                     1.0   \n",
       "9996          0.0                   0.0                     1.0   \n",
       "9997          0.0                   1.0                     1.0   \n",
       "9998          1.0                   0.0                     1.0   \n",
       "9999          1.0                   1.0                     1.0   \n",
       "\n",
       "      ExtMetaScriptLinkRT  PctExtNullSelfRedirectHyperlinksRT  CLASS_LABEL  \n",
       "0                    -1.0                                 1.0         b'1'  \n",
       "1                     1.0                                 1.0         b'1'  \n",
       "2                    -1.0                                 0.0         b'1'  \n",
       "3                     1.0                                -1.0         b'1'  \n",
       "4                    -1.0                                -1.0         b'1'  \n",
       "...                   ...                                 ...          ...  \n",
       "9995                  0.0                                 1.0         b'0'  \n",
       "9996                  0.0                                 1.0         b'0'  \n",
       "9997                  0.0                                 1.0         b'0'  \n",
       "9998                  0.0                                 1.0         b'0'  \n",
       "9999                  1.0                                 1.0         b'0'  \n",
       "\n",
       "[10000 rows x 49 columns]"
      ]
     },
     "execution_count": 2,
     "metadata": {},
     "output_type": "execute_result"
    }
   ],
   "source": [
    "from scipy.io import arff\n",
    "import pandas as pd\n",
    "\n",
    "data = arff.loadarff('Phishing_Legitimate_full.arff')\n",
    "df = pd.DataFrame(data[0])\n",
    "\n",
    "df"
   ]
  },
  {
   "cell_type": "code",
   "execution_count": null,
   "id": "6036fb90",
   "metadata": {},
   "outputs": [],
   "source": []
  },
  {
   "cell_type": "code",
   "execution_count": 3,
   "id": "4917226c",
   "metadata": {},
   "outputs": [
    {
     "data": {
      "text/html": [
       "<div>\n",
       "<style scoped>\n",
       "    .dataframe tbody tr th:only-of-type {\n",
       "        vertical-align: middle;\n",
       "    }\n",
       "\n",
       "    .dataframe tbody tr th {\n",
       "        vertical-align: top;\n",
       "    }\n",
       "\n",
       "    .dataframe thead th {\n",
       "        text-align: right;\n",
       "    }\n",
       "</style>\n",
       "<table border=\"1\" class=\"dataframe\">\n",
       "  <thead>\n",
       "    <tr style=\"text-align: right;\">\n",
       "      <th></th>\n",
       "      <th>url</th>\n",
       "      <th>label</th>\n",
       "      <th>protocol</th>\n",
       "      <th>domain</th>\n",
       "      <th>path</th>\n",
       "      <th>query</th>\n",
       "      <th>fragment</th>\n",
       "      <th>url_length</th>\n",
       "      <th>Dot_Count_url</th>\n",
       "      <th>Slash_Count_url</th>\n",
       "      <th>...</th>\n",
       "      <th>URL_Depth</th>\n",
       "      <th>Redirection</th>\n",
       "      <th>https_Domain</th>\n",
       "      <th>TinyURL</th>\n",
       "      <th>http/https</th>\n",
       "      <th>statistical_report</th>\n",
       "      <th>web_traffic</th>\n",
       "      <th>domain_registration_length</th>\n",
       "      <th>age_domain</th>\n",
       "      <th>dns_record</th>\n",
       "    </tr>\n",
       "  </thead>\n",
       "  <tbody>\n",
       "    <tr>\n",
       "      <th>0</th>\n",
       "      <td>http://validation-newpayee.com/</td>\n",
       "      <td>1</td>\n",
       "      <td>http</td>\n",
       "      <td>validation-newpayee.com</td>\n",
       "      <td>/</td>\n",
       "      <td>NaN</td>\n",
       "      <td>NaN</td>\n",
       "      <td>31</td>\n",
       "      <td>1</td>\n",
       "      <td>3</td>\n",
       "      <td>...</td>\n",
       "      <td>0</td>\n",
       "      <td>0</td>\n",
       "      <td>0</td>\n",
       "      <td>0</td>\n",
       "      <td>1</td>\n",
       "      <td>1</td>\n",
       "      <td>1</td>\n",
       "      <td>1</td>\n",
       "      <td>1</td>\n",
       "      <td>1</td>\n",
       "    </tr>\n",
       "    <tr>\n",
       "      <th>1</th>\n",
       "      <td>http://halifax-pairingcancel.com/</td>\n",
       "      <td>1</td>\n",
       "      <td>http</td>\n",
       "      <td>halifax-pairingcancel.com</td>\n",
       "      <td>/</td>\n",
       "      <td>NaN</td>\n",
       "      <td>NaN</td>\n",
       "      <td>33</td>\n",
       "      <td>1</td>\n",
       "      <td>3</td>\n",
       "      <td>...</td>\n",
       "      <td>0</td>\n",
       "      <td>0</td>\n",
       "      <td>0</td>\n",
       "      <td>0</td>\n",
       "      <td>1</td>\n",
       "      <td>1</td>\n",
       "      <td>1</td>\n",
       "      <td>1</td>\n",
       "      <td>1</td>\n",
       "      <td>1</td>\n",
       "    </tr>\n",
       "    <tr>\n",
       "      <th>2</th>\n",
       "      <td>https://lloyds-secuirtycheck.com/</td>\n",
       "      <td>1</td>\n",
       "      <td>https</td>\n",
       "      <td>lloyds-secuirtycheck.com</td>\n",
       "      <td>/</td>\n",
       "      <td>NaN</td>\n",
       "      <td>NaN</td>\n",
       "      <td>33</td>\n",
       "      <td>1</td>\n",
       "      <td>3</td>\n",
       "      <td>...</td>\n",
       "      <td>0</td>\n",
       "      <td>0</td>\n",
       "      <td>0</td>\n",
       "      <td>0</td>\n",
       "      <td>0</td>\n",
       "      <td>1</td>\n",
       "      <td>1</td>\n",
       "      <td>1</td>\n",
       "      <td>1</td>\n",
       "      <td>1</td>\n",
       "    </tr>\n",
       "    <tr>\n",
       "      <th>3</th>\n",
       "      <td>http://lloyds-bankauthentication.com/</td>\n",
       "      <td>1</td>\n",
       "      <td>http</td>\n",
       "      <td>lloyds-bankauthentication.com</td>\n",
       "      <td>/</td>\n",
       "      <td>NaN</td>\n",
       "      <td>NaN</td>\n",
       "      <td>37</td>\n",
       "      <td>1</td>\n",
       "      <td>3</td>\n",
       "      <td>...</td>\n",
       "      <td>0</td>\n",
       "      <td>0</td>\n",
       "      <td>0</td>\n",
       "      <td>0</td>\n",
       "      <td>1</td>\n",
       "      <td>1</td>\n",
       "      <td>1</td>\n",
       "      <td>1</td>\n",
       "      <td>1</td>\n",
       "      <td>1</td>\n",
       "    </tr>\n",
       "    <tr>\n",
       "      <th>4</th>\n",
       "      <td>http://lloyds-newdevice.com/</td>\n",
       "      <td>1</td>\n",
       "      <td>http</td>\n",
       "      <td>lloyds-newdevice.com</td>\n",
       "      <td>/</td>\n",
       "      <td>NaN</td>\n",
       "      <td>NaN</td>\n",
       "      <td>28</td>\n",
       "      <td>1</td>\n",
       "      <td>3</td>\n",
       "      <td>...</td>\n",
       "      <td>0</td>\n",
       "      <td>0</td>\n",
       "      <td>0</td>\n",
       "      <td>0</td>\n",
       "      <td>1</td>\n",
       "      <td>1</td>\n",
       "      <td>1</td>\n",
       "      <td>1</td>\n",
       "      <td>1</td>\n",
       "      <td>1</td>\n",
       "    </tr>\n",
       "  </tbody>\n",
       "</table>\n",
       "<p>5 rows × 82 columns</p>\n",
       "</div>"
      ],
      "text/plain": [
       "                                     url  label protocol  \\\n",
       "0        http://validation-newpayee.com/      1     http   \n",
       "1      http://halifax-pairingcancel.com/      1     http   \n",
       "2      https://lloyds-secuirtycheck.com/      1    https   \n",
       "3  http://lloyds-bankauthentication.com/      1     http   \n",
       "4           http://lloyds-newdevice.com/      1     http   \n",
       "\n",
       "                          domain path query fragment  url_length  \\\n",
       "0        validation-newpayee.com    /   NaN      NaN          31   \n",
       "1      halifax-pairingcancel.com    /   NaN      NaN          33   \n",
       "2       lloyds-secuirtycheck.com    /   NaN      NaN          33   \n",
       "3  lloyds-bankauthentication.com    /   NaN      NaN          37   \n",
       "4           lloyds-newdevice.com    /   NaN      NaN          28   \n",
       "\n",
       "   Dot_Count_url  Slash_Count_url  ...  URL_Depth  Redirection  https_Domain  \\\n",
       "0              1                3  ...          0            0             0   \n",
       "1              1                3  ...          0            0             0   \n",
       "2              1                3  ...          0            0             0   \n",
       "3              1                3  ...          0            0             0   \n",
       "4              1                3  ...          0            0             0   \n",
       "\n",
       "   TinyURL  http/https  statistical_report  web_traffic  \\\n",
       "0        0           1                   1            1   \n",
       "1        0           1                   1            1   \n",
       "2        0           0                   1            1   \n",
       "3        0           1                   1            1   \n",
       "4        0           1                   1            1   \n",
       "\n",
       "   domain_registration_length  age_domain  dns_record  \n",
       "0                           1           1           1  \n",
       "1                           1           1           1  \n",
       "2                           1           1           1  \n",
       "3                           1           1           1  \n",
       "4                           1           1           1  \n",
       "\n",
       "[5 rows x 82 columns]"
      ]
     },
     "execution_count": 3,
     "metadata": {},
     "output_type": "execute_result"
    }
   ],
   "source": [
    "df=pd.read_excel('boujiji.xlsx')\n",
    "df.head()"
   ]
  },
  {
   "cell_type": "code",
   "execution_count": 4,
   "id": "ab18af67",
   "metadata": {},
   "outputs": [
    {
     "data": {
      "text/html": [
       "<div>\n",
       "<style scoped>\n",
       "    .dataframe tbody tr th:only-of-type {\n",
       "        vertical-align: middle;\n",
       "    }\n",
       "\n",
       "    .dataframe tbody tr th {\n",
       "        vertical-align: top;\n",
       "    }\n",
       "\n",
       "    .dataframe thead th {\n",
       "        text-align: right;\n",
       "    }\n",
       "</style>\n",
       "<table border=\"1\" class=\"dataframe\">\n",
       "  <thead>\n",
       "    <tr style=\"text-align: right;\">\n",
       "      <th></th>\n",
       "      <th>url</th>\n",
       "      <th>label</th>\n",
       "      <th>protocol</th>\n",
       "      <th>domain</th>\n",
       "      <th>path</th>\n",
       "      <th>query</th>\n",
       "      <th>fragment</th>\n",
       "      <th>url_length</th>\n",
       "      <th>Dot_Count_url</th>\n",
       "      <th>Slash_Count_url</th>\n",
       "      <th>...</th>\n",
       "      <th>URL_Depth</th>\n",
       "      <th>Redirection</th>\n",
       "      <th>https_Domain</th>\n",
       "      <th>TinyURL</th>\n",
       "      <th>http/https</th>\n",
       "      <th>statistical_report</th>\n",
       "      <th>web_traffic</th>\n",
       "      <th>domain_registration_length</th>\n",
       "      <th>age_domain</th>\n",
       "      <th>dns_record</th>\n",
       "    </tr>\n",
       "  </thead>\n",
       "  <tbody>\n",
       "    <tr>\n",
       "      <th>11274</th>\n",
       "      <td>https://www.nedbank.co.za/content/nedbank/desk...</td>\n",
       "      <td>0</td>\n",
       "      <td>https</td>\n",
       "      <td>www.nedbank.co.za</td>\n",
       "      <td>/content/nedbank/desktop/gt/en/aboutus/legal/...</td>\n",
       "      <td>NaN</td>\n",
       "      <td>NaN</td>\n",
       "      <td>73</td>\n",
       "      <td>6</td>\n",
       "      <td>10</td>\n",
       "      <td>...</td>\n",
       "      <td>8</td>\n",
       "      <td>0</td>\n",
       "      <td>0</td>\n",
       "      <td>0</td>\n",
       "      <td>0</td>\n",
       "      <td>0</td>\n",
       "      <td>0</td>\n",
       "      <td>1</td>\n",
       "      <td>1</td>\n",
       "      <td>0</td>\n",
       "    </tr>\n",
       "    <tr>\n",
       "      <th>11275</th>\n",
       "      <td>https://www.onlineassignmentexpert.com/us/biol...</td>\n",
       "      <td>0</td>\n",
       "      <td>https</td>\n",
       "      <td>www.onlineassignmentexpert.com</td>\n",
       "      <td>/us/biology-homework-help-us.htm...</td>\n",
       "      <td>NaN</td>\n",
       "      <td>NaN</td>\n",
       "      <td>73</td>\n",
       "      <td>6</td>\n",
       "      <td>4</td>\n",
       "      <td>...</td>\n",
       "      <td>2</td>\n",
       "      <td>0</td>\n",
       "      <td>0</td>\n",
       "      <td>1</td>\n",
       "      <td>0</td>\n",
       "      <td>0</td>\n",
       "      <td>1</td>\n",
       "      <td>1</td>\n",
       "      <td>1</td>\n",
       "      <td>0</td>\n",
       "    </tr>\n",
       "    <tr>\n",
       "      <th>11276</th>\n",
       "      <td>https://www.sambandhfin.com/</td>\n",
       "      <td>0</td>\n",
       "      <td>https</td>\n",
       "      <td>www.sambandhfin.com</td>\n",
       "      <td>/</td>\n",
       "      <td>NaN</td>\n",
       "      <td>NaN</td>\n",
       "      <td>28</td>\n",
       "      <td>2</td>\n",
       "      <td>3</td>\n",
       "      <td>...</td>\n",
       "      <td>0</td>\n",
       "      <td>0</td>\n",
       "      <td>0</td>\n",
       "      <td>0</td>\n",
       "      <td>0</td>\n",
       "      <td>0</td>\n",
       "      <td>1</td>\n",
       "      <td>1</td>\n",
       "      <td>0</td>\n",
       "      <td>0</td>\n",
       "    </tr>\n",
       "    <tr>\n",
       "      <th>11277</th>\n",
       "      <td>https://www.s-c.de/projekt/effizienzrealisieru...</td>\n",
       "      <td>0</td>\n",
       "      <td>https</td>\n",
       "      <td>www.s-c.de</td>\n",
       "      <td>/projekt/effizienzrealisierung-bestandsgeschft...</td>\n",
       "      <td>NaN</td>\n",
       "      <td>NaN</td>\n",
       "      <td>73</td>\n",
       "      <td>5</td>\n",
       "      <td>4</td>\n",
       "      <td>...</td>\n",
       "      <td>2</td>\n",
       "      <td>0</td>\n",
       "      <td>0</td>\n",
       "      <td>0</td>\n",
       "      <td>0</td>\n",
       "      <td>0</td>\n",
       "      <td>1</td>\n",
       "      <td>1</td>\n",
       "      <td>1</td>\n",
       "      <td>0</td>\n",
       "    </tr>\n",
       "    <tr>\n",
       "      <th>11278</th>\n",
       "      <td>https://www.sushido74.ru/</td>\n",
       "      <td>0</td>\n",
       "      <td>https</td>\n",
       "      <td>www.sushido74.ru</td>\n",
       "      <td>/</td>\n",
       "      <td>NaN</td>\n",
       "      <td>NaN</td>\n",
       "      <td>25</td>\n",
       "      <td>2</td>\n",
       "      <td>3</td>\n",
       "      <td>...</td>\n",
       "      <td>0</td>\n",
       "      <td>0</td>\n",
       "      <td>0</td>\n",
       "      <td>0</td>\n",
       "      <td>0</td>\n",
       "      <td>0</td>\n",
       "      <td>1</td>\n",
       "      <td>1</td>\n",
       "      <td>0</td>\n",
       "      <td>0</td>\n",
       "    </tr>\n",
       "  </tbody>\n",
       "</table>\n",
       "<p>5 rows × 82 columns</p>\n",
       "</div>"
      ],
      "text/plain": [
       "                                                     url  label protocol  \\\n",
       "11274  https://www.nedbank.co.za/content/nedbank/desk...      0    https   \n",
       "11275  https://www.onlineassignmentexpert.com/us/biol...      0    https   \n",
       "11276                       https://www.sambandhfin.com/      0    https   \n",
       "11277  https://www.s-c.de/projekt/effizienzrealisieru...      0    https   \n",
       "11278                          https://www.sushido74.ru/      0    https   \n",
       "\n",
       "                               domain  \\\n",
       "11274               www.nedbank.co.za   \n",
       "11275  www.onlineassignmentexpert.com   \n",
       "11276             www.sambandhfin.com   \n",
       "11277                      www.s-c.de   \n",
       "11278                www.sushido74.ru   \n",
       "\n",
       "                                                    path query fragment  \\\n",
       "11274   /content/nedbank/desktop/gt/en/aboutus/legal/...   NaN      NaN   \n",
       "11275                /us/biology-homework-help-us.htm...   NaN      NaN   \n",
       "11276                                                  /   NaN      NaN   \n",
       "11277  /projekt/effizienzrealisierung-bestandsgeschft...   NaN      NaN   \n",
       "11278                                                  /   NaN      NaN   \n",
       "\n",
       "       url_length  Dot_Count_url  Slash_Count_url  ...  URL_Depth  \\\n",
       "11274          73              6               10  ...          8   \n",
       "11275          73              6                4  ...          2   \n",
       "11276          28              2                3  ...          0   \n",
       "11277          73              5                4  ...          2   \n",
       "11278          25              2                3  ...          0   \n",
       "\n",
       "       Redirection  https_Domain  TinyURL  http/https  statistical_report  \\\n",
       "11274            0             0        0           0                   0   \n",
       "11275            0             0        1           0                   0   \n",
       "11276            0             0        0           0                   0   \n",
       "11277            0             0        0           0                   0   \n",
       "11278            0             0        0           0                   0   \n",
       "\n",
       "       web_traffic  domain_registration_length  age_domain  dns_record  \n",
       "11274            0                           1           1           0  \n",
       "11275            1                           1           1           0  \n",
       "11276            1                           1           0           0  \n",
       "11277            1                           1           1           0  \n",
       "11278            1                           1           0           0  \n",
       "\n",
       "[5 rows x 82 columns]"
      ]
     },
     "execution_count": 4,
     "metadata": {},
     "output_type": "execute_result"
    }
   ],
   "source": [
    "df.tail()"
   ]
  },
  {
   "cell_type": "code",
   "execution_count": 5,
   "id": "6014f31b",
   "metadata": {},
   "outputs": [
    {
     "name": "stdout",
     "output_type": "stream",
     "text": [
      "<class 'pandas.core.frame.DataFrame'>\n",
      "RangeIndex: 11279 entries, 0 to 11278\n",
      "Data columns (total 82 columns):\n",
      " #   Column                      Non-Null Count  Dtype \n",
      "---  ------                      --------------  ----- \n",
      " 0   url                         11279 non-null  object\n",
      " 1   label                       11279 non-null  int64 \n",
      " 2   protocol                    11279 non-null  object\n",
      " 3   domain                      11279 non-null  object\n",
      " 4   path                        11170 non-null  object\n",
      " 5   query                       2691 non-null   object\n",
      " 6   fragment                    37 non-null     object\n",
      " 7   url_length                  11279 non-null  int64 \n",
      " 8   Dot_Count_url               11279 non-null  int64 \n",
      " 9   Slash_Count_url             11279 non-null  int64 \n",
      " 10  Hypen_Count_url             11279 non-null  int64 \n",
      " 11  Questionmark_Count_url      11279 non-null  int64 \n",
      " 12  Equal_Count_url             11279 non-null  int64 \n",
      " 13  tilde_Count_url             11279 non-null  int64 \n",
      " 14  And_Count_url               11279 non-null  int64 \n",
      " 15  Dollar_Count_url            11279 non-null  int64 \n",
      " 16  Percentage_Count_url        11279 non-null  int64 \n",
      " 17  Hashtag_Count_url           11279 non-null  int64 \n",
      " 18  Asterisk_Count_url          11279 non-null  int64 \n",
      " 19  Plus_Count_url              11279 non-null  int64 \n",
      " 20  Comma_Count_url             11279 non-null  int64 \n",
      " 21  Exclamation_Count_url       11279 non-null  int64 \n",
      " 22  attherate_Count_url         11279 non-null  int64 \n",
      " 23  domain_length               11279 non-null  int64 \n",
      " 24  Dot_Count_domain            11279 non-null  int64 \n",
      " 25  Slash_Count_domain          11279 non-null  int64 \n",
      " 26  Hypen_Count_domain          11279 non-null  int64 \n",
      " 27  Questionmark_Count_domain   11279 non-null  int64 \n",
      " 28  Equal_Count_domain          11279 non-null  int64 \n",
      " 29  tilde_Count_domain          11279 non-null  int64 \n",
      " 30  And_Count_domain            11279 non-null  int64 \n",
      " 31  Dollar_Count_domain         11279 non-null  int64 \n",
      " 32  Percentage_Count_domain     11279 non-null  int64 \n",
      " 33  Hashtag_Count_domain        11279 non-null  int64 \n",
      " 34  Asterisk_Count_domain       11279 non-null  int64 \n",
      " 35  Plus_Count_domain           11279 non-null  int64 \n",
      " 36  Comma_Count_domain          11279 non-null  int64 \n",
      " 37  Exclamation_Count_domain    11279 non-null  int64 \n",
      " 38  attherate_Count_domain      11279 non-null  int64 \n",
      " 39  path_length                 11279 non-null  int64 \n",
      " 40  Dot_Count_path              11279 non-null  int64 \n",
      " 41  Slash_Count_path            11279 non-null  int64 \n",
      " 42  Hypen_Count_path            11279 non-null  int64 \n",
      " 43  Questionmark_Count_path     11279 non-null  int64 \n",
      " 44  Equal_Count_path            11279 non-null  int64 \n",
      " 45  tilde_Count_path            11279 non-null  int64 \n",
      " 46  And_Count_path              11279 non-null  int64 \n",
      " 47  Dollar_Count_path           11279 non-null  int64 \n",
      " 48  Percentage_Count_path       11279 non-null  int64 \n",
      " 49  Hashtag_Count_path          11279 non-null  int64 \n",
      " 50  Asterisk_Count_path         11279 non-null  int64 \n",
      " 51  Plus_Count_path             11279 non-null  int64 \n",
      " 52  Comma_Count_path            11279 non-null  int64 \n",
      " 53  Exclamation_Count_path      11279 non-null  int64 \n",
      " 54  attherate_Count_path        11279 non-null  int64 \n",
      " 55  query_length                11279 non-null  int64 \n",
      " 56  Dot_Count_query             11279 non-null  int64 \n",
      " 57  Slash_Count_query           11279 non-null  int64 \n",
      " 58  Hypen_Count_query           11279 non-null  int64 \n",
      " 59  Questionmark_Count_query    11279 non-null  int64 \n",
      " 60  Equal_Count_query           11279 non-null  int64 \n",
      " 61  tilde_Count_query           11279 non-null  int64 \n",
      " 62  And_Count_query             11279 non-null  int64 \n",
      " 63  Dollar_Count_query          11279 non-null  int64 \n",
      " 64  Percentage_Count_query      11279 non-null  int64 \n",
      " 65  Hashtag_Count_query         11279 non-null  int64 \n",
      " 66  Asterisk_Count_query        11279 non-null  int64 \n",
      " 67  Plus_Count_query            11279 non-null  int64 \n",
      " 68  Comma_Count_query           11279 non-null  int64 \n",
      " 69  Exclamation_Count_query     11279 non-null  int64 \n",
      " 70  attherate_Count_query       11279 non-null  int64 \n",
      " 71  Have_IP                     11279 non-null  int64 \n",
      " 72  URL_Depth                   11279 non-null  int64 \n",
      " 73  Redirection                 11279 non-null  int64 \n",
      " 74  https_Domain                11279 non-null  int64 \n",
      " 75  TinyURL                     11279 non-null  int64 \n",
      " 76  http/https                  11279 non-null  int64 \n",
      " 77  statistical_report          11279 non-null  int64 \n",
      " 78  web_traffic                 11279 non-null  int64 \n",
      " 79  domain_registration_length  11279 non-null  int64 \n",
      " 80  age_domain                  11279 non-null  int64 \n",
      " 81  dns_record                  11279 non-null  int64 \n",
      "dtypes: int64(76), object(6)\n",
      "memory usage: 7.1+ MB\n"
     ]
    }
   ],
   "source": [
    "df.info()"
   ]
  },
  {
   "cell_type": "code",
   "execution_count": null,
   "id": "cf76cbfc",
   "metadata": {},
   "outputs": [],
   "source": [
    "num_cols = df.select_dtypes(exclude='object')"
   ]
  },
  {
   "cell_type": "code",
   "execution_count": null,
   "id": "5d34d652",
   "metadata": {},
   "outputs": [],
   "source": [
    "for col in num_cols:\n",
    "    column_name = col.title().replace('_', ' ')\n",
    "    title = 'Distribution of ' + column_name\n",
    "    sns.boxplot(x=df[col],\n",
    "                y=df['Label'],\n",
    "                data=df,\n",
    "                orient='h',\n",
    "                showmeans=True,\n",
    "                meanprops={\"marker\":\"o\",\n",
    "                           \"markerfacecolor\":\"white\", \n",
    "                           \"markeredgecolor\":\"black\",\n",
    "                           \"markersize\":\"7\"})\n",
    "    plt.xlabel(column_name, fontsize = 12)\n",
    "    plt.ylabel('URL (Binary)', fontsize = 12)\n",
    "    plt.title(title, fontsize = 14, pad = 10)\n",
    "    plt.show();\n"
   ]
  },
  {
   "cell_type": "code",
   "execution_count": 3,
   "id": "bbf125bb",
   "metadata": {},
   "outputs": [
    {
     "name": "stdout",
     "output_type": "stream",
     "text": [
      "<class 'pandas.core.frame.DataFrame'>\n",
      "RangeIndex: 11279 entries, 0 to 11278\n",
      "Data columns (total 82 columns):\n",
      " #   Column                      Non-Null Count  Dtype \n",
      "---  ------                      --------------  ----- \n",
      " 0   url                         11279 non-null  object\n",
      " 1   label                       11279 non-null  int64 \n",
      " 2   protocol                    11279 non-null  object\n",
      " 3   domain                      11279 non-null  object\n",
      " 4   path                        11170 non-null  object\n",
      " 5   query                       2691 non-null   object\n",
      " 6   fragment                    37 non-null     object\n",
      " 7   url_length                  11279 non-null  int64 \n",
      " 8   Dot_Count_url               11279 non-null  int64 \n",
      " 9   Slash_Count_url             11279 non-null  int64 \n",
      " 10  Hypen_Count_url             11279 non-null  int64 \n",
      " 11  Questionmark_Count_url      11279 non-null  int64 \n",
      " 12  Equal_Count_url             11279 non-null  int64 \n",
      " 13  tilde_Count_url             11279 non-null  int64 \n",
      " 14  And_Count_url               11279 non-null  int64 \n",
      " 15  Dollar_Count_url            11279 non-null  int64 \n",
      " 16  Percentage_Count_url        11279 non-null  int64 \n",
      " 17  Hashtag_Count_url           11279 non-null  int64 \n",
      " 18  Asterisk_Count_url          11279 non-null  int64 \n",
      " 19  Plus_Count_url              11279 non-null  int64 \n",
      " 20  Comma_Count_url             11279 non-null  int64 \n",
      " 21  Exclamation_Count_url       11279 non-null  int64 \n",
      " 22  attherate_Count_url         11279 non-null  int64 \n",
      " 23  domain_length               11279 non-null  int64 \n",
      " 24  Dot_Count_domain            11279 non-null  int64 \n",
      " 25  Slash_Count_domain          11279 non-null  int64 \n",
      " 26  Hypen_Count_domain          11279 non-null  int64 \n",
      " 27  Questionmark_Count_domain   11279 non-null  int64 \n",
      " 28  Equal_Count_domain          11279 non-null  int64 \n",
      " 29  tilde_Count_domain          11279 non-null  int64 \n",
      " 30  And_Count_domain            11279 non-null  int64 \n",
      " 31  Dollar_Count_domain         11279 non-null  int64 \n",
      " 32  Percentage_Count_domain     11279 non-null  int64 \n",
      " 33  Hashtag_Count_domain        11279 non-null  int64 \n",
      " 34  Asterisk_Count_domain       11279 non-null  int64 \n",
      " 35  Plus_Count_domain           11279 non-null  int64 \n",
      " 36  Comma_Count_domain          11279 non-null  int64 \n",
      " 37  Exclamation_Count_domain    11279 non-null  int64 \n",
      " 38  attherate_Count_domain      11279 non-null  int64 \n",
      " 39  path_length                 11279 non-null  int64 \n",
      " 40  Dot_Count_path              11279 non-null  int64 \n",
      " 41  Slash_Count_path            11279 non-null  int64 \n",
      " 42  Hypen_Count_path            11279 non-null  int64 \n",
      " 43  Questionmark_Count_path     11279 non-null  int64 \n",
      " 44  Equal_Count_path            11279 non-null  int64 \n",
      " 45  tilde_Count_path            11279 non-null  int64 \n",
      " 46  And_Count_path              11279 non-null  int64 \n",
      " 47  Dollar_Count_path           11279 non-null  int64 \n",
      " 48  Percentage_Count_path       11279 non-null  int64 \n",
      " 49  Hashtag_Count_path          11279 non-null  int64 \n",
      " 50  Asterisk_Count_path         11279 non-null  int64 \n",
      " 51  Plus_Count_path             11279 non-null  int64 \n",
      " 52  Comma_Count_path            11279 non-null  int64 \n",
      " 53  Exclamation_Count_path      11279 non-null  int64 \n",
      " 54  attherate_Count_path        11279 non-null  int64 \n",
      " 55  query_length                11279 non-null  int64 \n",
      " 56  Dot_Count_query             11279 non-null  int64 \n",
      " 57  Slash_Count_query           11279 non-null  int64 \n",
      " 58  Hypen_Count_query           11279 non-null  int64 \n",
      " 59  Questionmark_Count_query    11279 non-null  int64 \n",
      " 60  Equal_Count_query           11279 non-null  int64 \n",
      " 61  tilde_Count_query           11279 non-null  int64 \n",
      " 62  And_Count_query             11279 non-null  int64 \n",
      " 63  Dollar_Count_query          11279 non-null  int64 \n",
      " 64  Percentage_Count_query      11279 non-null  int64 \n",
      " 65  Hashtag_Count_query         11279 non-null  int64 \n",
      " 66  Asterisk_Count_query        11279 non-null  int64 \n",
      " 67  Plus_Count_query            11279 non-null  int64 \n",
      " 68  Comma_Count_query           11279 non-null  int64 \n",
      " 69  Exclamation_Count_query     11279 non-null  int64 \n",
      " 70  attherate_Count_query       11279 non-null  int64 \n",
      " 71  Have_IP                     11279 non-null  int64 \n",
      " 72  URL_Depth                   11279 non-null  int64 \n",
      " 73  Redirection                 11279 non-null  int64 \n",
      " 74  https_Domain                11279 non-null  int64 \n",
      " 75  TinyURL                     11279 non-null  int64 \n",
      " 76  http/https                  11279 non-null  int64 \n",
      " 77  statistical_report          11279 non-null  int64 \n",
      " 78  web_traffic                 11279 non-null  int64 \n",
      " 79  domain_registration_length  11279 non-null  int64 \n",
      " 80  age_domain                  11279 non-null  int64 \n",
      " 81  dns_record                  11279 non-null  int64 \n",
      "dtypes: int64(76), object(6)\n",
      "memory usage: 7.1+ MB\n"
     ]
    }
   ],
   "source": [
    "df.info()\n"
   ]
  },
  {
   "cell_type": "code",
   "execution_count": null,
   "id": "ed16a6d9",
   "metadata": {},
   "outputs": [],
   "source": [
    "df.isnull().sum()"
   ]
  },
  {
   "cell_type": "code",
   "execution_count": null,
   "id": "2eff67e8",
   "metadata": {},
   "outputs": [],
   "source": [
    "df.isnull().values.any()"
   ]
  },
  {
   "cell_type": "code",
   "execution_count": null,
   "id": "44a68e60",
   "metadata": {},
   "outputs": [],
   "source": [
    "print(df[df[\"protocol\"].isnull()])"
   ]
  },
  {
   "cell_type": "code",
   "execution_count": null,
   "id": "6fe1ca60",
   "metadata": {},
   "outputs": [],
   "source": [
    "fig = plt.figure(figsize=(16, 16))\n",
    "chart = fig.gca(projection='3d')\n",
    "chart.scatter(df)\n",
    "display(plt.show())"
   ]
  },
  {
   "cell_type": "code",
   "execution_count": null,
   "id": "f1df8659",
   "metadata": {},
   "outputs": [],
   "source": [
    "df.hist(bins=15,figsize = (30,30))\n",
    "plt.show()"
   ]
  },
  {
   "cell_type": "code",
   "execution_count": null,
   "id": "aafebedd",
   "metadata": {},
   "outputs": [],
   "source": [
    "df.corr()"
   ]
  },
  {
   "cell_type": "code",
   "execution_count": null,
   "id": "3613d897",
   "metadata": {},
   "outputs": [],
   "source": [
    "plt.figure(figsize=(9,6))\n",
    "sns.histplot(data=df, x=df[\"url_length\"], hue = 'Label', bins=100)\n",
    "plt.title('Distribution of URL Length (with Outliers)', fontsize = 18, pad = 12)\n",
    "plt.xlabel(\"URL Length\", fontsize = 15)\n",
    "plt.ylabel(\"Count\",fontsize = 15);\n",
    "plt.show()"
   ]
  },
  {
   "cell_type": "code",
   "execution_count": null,
   "id": "fa3c2fcf",
   "metadata": {},
   "outputs": [],
   "source": [
    "Q1 = df['url_length'].quantile(0.25)\n",
    "Q3 = df['url_length'].quantile(0.75)\n",
    "IQR = Q3 - Q1\n",
    "\n",
    "lower_bound = Q1 - 1.5 * IQR\n",
    "upper_bound = Q3 + 1.5 * IQR\n",
    "\n",
    "filtered_url_length = df[(df['url_length']> lower_bound)]\n",
    "filtered_url_length = df[(df['url_length']< upper_bound)]\n"
   ]
  },
  {
   "cell_type": "code",
   "execution_count": null,
   "id": "211b7f06",
   "metadata": {},
   "outputs": [],
   "source": [
    "plt.figure(figsize=(9,6))\n",
    "sns.histplot(data=filtered_url_length, x=\"url_length\", hue = 'Label', bins = 100)\n",
    "plt.title('Distribution of URL Length (without Outliers)', fontsize = 18, pad = 12)\n",
    "plt.xlabel(\"URL Length\", fontsize = 15)\n",
    "plt.ylabel(\"Count\",fontsize = 15);\n",
    "plt.show()"
   ]
  },
  {
   "cell_type": "code",
   "execution_count": null,
   "id": "4209818a",
   "metadata": {},
   "outputs": [],
   "source": [
    "plt.figure(figsize=(6,20))\n",
    "sns.heatmap(df.corr()[['Label']].sort_values('Label', ascending=False), annot=True);"
   ]
  },
  {
   "cell_type": "code",
   "execution_count": 6,
   "id": "0293adba",
   "metadata": {},
   "outputs": [],
   "source": [
    "data = df.drop(['url','protocol','path', 'query', 'fragment'], axis = 1).copy()"
   ]
  },
  {
   "cell_type": "code",
   "execution_count": 7,
   "id": "c80c545e",
   "metadata": {},
   "outputs": [
    {
     "data": {
      "text/html": [
       "<div>\n",
       "<style scoped>\n",
       "    .dataframe tbody tr th:only-of-type {\n",
       "        vertical-align: middle;\n",
       "    }\n",
       "\n",
       "    .dataframe tbody tr th {\n",
       "        vertical-align: top;\n",
       "    }\n",
       "\n",
       "    .dataframe thead th {\n",
       "        text-align: right;\n",
       "    }\n",
       "</style>\n",
       "<table border=\"1\" class=\"dataframe\">\n",
       "  <thead>\n",
       "    <tr style=\"text-align: right;\">\n",
       "      <th></th>\n",
       "      <th>label</th>\n",
       "      <th>domain</th>\n",
       "      <th>url_length</th>\n",
       "      <th>Dot_Count_url</th>\n",
       "      <th>Slash_Count_url</th>\n",
       "      <th>Hypen_Count_url</th>\n",
       "      <th>Questionmark_Count_url</th>\n",
       "      <th>Equal_Count_url</th>\n",
       "      <th>tilde_Count_url</th>\n",
       "      <th>And_Count_url</th>\n",
       "      <th>...</th>\n",
       "      <th>URL_Depth</th>\n",
       "      <th>Redirection</th>\n",
       "      <th>https_Domain</th>\n",
       "      <th>TinyURL</th>\n",
       "      <th>http/https</th>\n",
       "      <th>statistical_report</th>\n",
       "      <th>web_traffic</th>\n",
       "      <th>domain_registration_length</th>\n",
       "      <th>age_domain</th>\n",
       "      <th>dns_record</th>\n",
       "    </tr>\n",
       "  </thead>\n",
       "  <tbody>\n",
       "    <tr>\n",
       "      <th>0</th>\n",
       "      <td>1</td>\n",
       "      <td>validation-newpayee.com</td>\n",
       "      <td>31</td>\n",
       "      <td>1</td>\n",
       "      <td>3</td>\n",
       "      <td>1</td>\n",
       "      <td>0</td>\n",
       "      <td>0</td>\n",
       "      <td>0</td>\n",
       "      <td>0</td>\n",
       "      <td>...</td>\n",
       "      <td>0</td>\n",
       "      <td>0</td>\n",
       "      <td>0</td>\n",
       "      <td>0</td>\n",
       "      <td>1</td>\n",
       "      <td>1</td>\n",
       "      <td>1</td>\n",
       "      <td>1</td>\n",
       "      <td>1</td>\n",
       "      <td>1</td>\n",
       "    </tr>\n",
       "    <tr>\n",
       "      <th>1</th>\n",
       "      <td>1</td>\n",
       "      <td>halifax-pairingcancel.com</td>\n",
       "      <td>33</td>\n",
       "      <td>1</td>\n",
       "      <td>3</td>\n",
       "      <td>1</td>\n",
       "      <td>0</td>\n",
       "      <td>0</td>\n",
       "      <td>0</td>\n",
       "      <td>0</td>\n",
       "      <td>...</td>\n",
       "      <td>0</td>\n",
       "      <td>0</td>\n",
       "      <td>0</td>\n",
       "      <td>0</td>\n",
       "      <td>1</td>\n",
       "      <td>1</td>\n",
       "      <td>1</td>\n",
       "      <td>1</td>\n",
       "      <td>1</td>\n",
       "      <td>1</td>\n",
       "    </tr>\n",
       "    <tr>\n",
       "      <th>2</th>\n",
       "      <td>1</td>\n",
       "      <td>lloyds-secuirtycheck.com</td>\n",
       "      <td>33</td>\n",
       "      <td>1</td>\n",
       "      <td>3</td>\n",
       "      <td>1</td>\n",
       "      <td>0</td>\n",
       "      <td>0</td>\n",
       "      <td>0</td>\n",
       "      <td>0</td>\n",
       "      <td>...</td>\n",
       "      <td>0</td>\n",
       "      <td>0</td>\n",
       "      <td>0</td>\n",
       "      <td>0</td>\n",
       "      <td>0</td>\n",
       "      <td>1</td>\n",
       "      <td>1</td>\n",
       "      <td>1</td>\n",
       "      <td>1</td>\n",
       "      <td>1</td>\n",
       "    </tr>\n",
       "    <tr>\n",
       "      <th>3</th>\n",
       "      <td>1</td>\n",
       "      <td>lloyds-bankauthentication.com</td>\n",
       "      <td>37</td>\n",
       "      <td>1</td>\n",
       "      <td>3</td>\n",
       "      <td>1</td>\n",
       "      <td>0</td>\n",
       "      <td>0</td>\n",
       "      <td>0</td>\n",
       "      <td>0</td>\n",
       "      <td>...</td>\n",
       "      <td>0</td>\n",
       "      <td>0</td>\n",
       "      <td>0</td>\n",
       "      <td>0</td>\n",
       "      <td>1</td>\n",
       "      <td>1</td>\n",
       "      <td>1</td>\n",
       "      <td>1</td>\n",
       "      <td>1</td>\n",
       "      <td>1</td>\n",
       "    </tr>\n",
       "    <tr>\n",
       "      <th>4</th>\n",
       "      <td>1</td>\n",
       "      <td>lloyds-newdevice.com</td>\n",
       "      <td>28</td>\n",
       "      <td>1</td>\n",
       "      <td>3</td>\n",
       "      <td>1</td>\n",
       "      <td>0</td>\n",
       "      <td>0</td>\n",
       "      <td>0</td>\n",
       "      <td>0</td>\n",
       "      <td>...</td>\n",
       "      <td>0</td>\n",
       "      <td>0</td>\n",
       "      <td>0</td>\n",
       "      <td>0</td>\n",
       "      <td>1</td>\n",
       "      <td>1</td>\n",
       "      <td>1</td>\n",
       "      <td>1</td>\n",
       "      <td>1</td>\n",
       "      <td>1</td>\n",
       "    </tr>\n",
       "    <tr>\n",
       "      <th>...</th>\n",
       "      <td>...</td>\n",
       "      <td>...</td>\n",
       "      <td>...</td>\n",
       "      <td>...</td>\n",
       "      <td>...</td>\n",
       "      <td>...</td>\n",
       "      <td>...</td>\n",
       "      <td>...</td>\n",
       "      <td>...</td>\n",
       "      <td>...</td>\n",
       "      <td>...</td>\n",
       "      <td>...</td>\n",
       "      <td>...</td>\n",
       "      <td>...</td>\n",
       "      <td>...</td>\n",
       "      <td>...</td>\n",
       "      <td>...</td>\n",
       "      <td>...</td>\n",
       "      <td>...</td>\n",
       "      <td>...</td>\n",
       "      <td>...</td>\n",
       "    </tr>\n",
       "    <tr>\n",
       "      <th>11274</th>\n",
       "      <td>0</td>\n",
       "      <td>www.nedbank.co.za</td>\n",
       "      <td>73</td>\n",
       "      <td>6</td>\n",
       "      <td>10</td>\n",
       "      <td>0</td>\n",
       "      <td>0</td>\n",
       "      <td>0</td>\n",
       "      <td>0</td>\n",
       "      <td>0</td>\n",
       "      <td>...</td>\n",
       "      <td>8</td>\n",
       "      <td>0</td>\n",
       "      <td>0</td>\n",
       "      <td>0</td>\n",
       "      <td>0</td>\n",
       "      <td>0</td>\n",
       "      <td>0</td>\n",
       "      <td>1</td>\n",
       "      <td>1</td>\n",
       "      <td>0</td>\n",
       "    </tr>\n",
       "    <tr>\n",
       "      <th>11275</th>\n",
       "      <td>0</td>\n",
       "      <td>www.onlineassignmentexpert.com</td>\n",
       "      <td>73</td>\n",
       "      <td>6</td>\n",
       "      <td>4</td>\n",
       "      <td>3</td>\n",
       "      <td>0</td>\n",
       "      <td>0</td>\n",
       "      <td>0</td>\n",
       "      <td>0</td>\n",
       "      <td>...</td>\n",
       "      <td>2</td>\n",
       "      <td>0</td>\n",
       "      <td>0</td>\n",
       "      <td>1</td>\n",
       "      <td>0</td>\n",
       "      <td>0</td>\n",
       "      <td>1</td>\n",
       "      <td>1</td>\n",
       "      <td>1</td>\n",
       "      <td>0</td>\n",
       "    </tr>\n",
       "    <tr>\n",
       "      <th>11276</th>\n",
       "      <td>0</td>\n",
       "      <td>www.sambandhfin.com</td>\n",
       "      <td>28</td>\n",
       "      <td>2</td>\n",
       "      <td>3</td>\n",
       "      <td>0</td>\n",
       "      <td>0</td>\n",
       "      <td>0</td>\n",
       "      <td>0</td>\n",
       "      <td>0</td>\n",
       "      <td>...</td>\n",
       "      <td>0</td>\n",
       "      <td>0</td>\n",
       "      <td>0</td>\n",
       "      <td>0</td>\n",
       "      <td>0</td>\n",
       "      <td>0</td>\n",
       "      <td>1</td>\n",
       "      <td>1</td>\n",
       "      <td>0</td>\n",
       "      <td>0</td>\n",
       "    </tr>\n",
       "    <tr>\n",
       "      <th>11277</th>\n",
       "      <td>0</td>\n",
       "      <td>www.s-c.de</td>\n",
       "      <td>73</td>\n",
       "      <td>5</td>\n",
       "      <td>4</td>\n",
       "      <td>3</td>\n",
       "      <td>0</td>\n",
       "      <td>0</td>\n",
       "      <td>0</td>\n",
       "      <td>0</td>\n",
       "      <td>...</td>\n",
       "      <td>2</td>\n",
       "      <td>0</td>\n",
       "      <td>0</td>\n",
       "      <td>0</td>\n",
       "      <td>0</td>\n",
       "      <td>0</td>\n",
       "      <td>1</td>\n",
       "      <td>1</td>\n",
       "      <td>1</td>\n",
       "      <td>0</td>\n",
       "    </tr>\n",
       "    <tr>\n",
       "      <th>11278</th>\n",
       "      <td>0</td>\n",
       "      <td>www.sushido74.ru</td>\n",
       "      <td>25</td>\n",
       "      <td>2</td>\n",
       "      <td>3</td>\n",
       "      <td>0</td>\n",
       "      <td>0</td>\n",
       "      <td>0</td>\n",
       "      <td>0</td>\n",
       "      <td>0</td>\n",
       "      <td>...</td>\n",
       "      <td>0</td>\n",
       "      <td>0</td>\n",
       "      <td>0</td>\n",
       "      <td>0</td>\n",
       "      <td>0</td>\n",
       "      <td>0</td>\n",
       "      <td>1</td>\n",
       "      <td>1</td>\n",
       "      <td>0</td>\n",
       "      <td>0</td>\n",
       "    </tr>\n",
       "  </tbody>\n",
       "</table>\n",
       "<p>11279 rows × 77 columns</p>\n",
       "</div>"
      ],
      "text/plain": [
       "       label                          domain  url_length  Dot_Count_url  \\\n",
       "0          1         validation-newpayee.com          31              1   \n",
       "1          1       halifax-pairingcancel.com          33              1   \n",
       "2          1        lloyds-secuirtycheck.com          33              1   \n",
       "3          1   lloyds-bankauthentication.com          37              1   \n",
       "4          1            lloyds-newdevice.com          28              1   \n",
       "...      ...                             ...         ...            ...   \n",
       "11274      0               www.nedbank.co.za          73              6   \n",
       "11275      0  www.onlineassignmentexpert.com          73              6   \n",
       "11276      0             www.sambandhfin.com          28              2   \n",
       "11277      0                      www.s-c.de          73              5   \n",
       "11278      0                www.sushido74.ru          25              2   \n",
       "\n",
       "       Slash_Count_url  Hypen_Count_url  Questionmark_Count_url  \\\n",
       "0                    3                1                       0   \n",
       "1                    3                1                       0   \n",
       "2                    3                1                       0   \n",
       "3                    3                1                       0   \n",
       "4                    3                1                       0   \n",
       "...                ...              ...                     ...   \n",
       "11274               10                0                       0   \n",
       "11275                4                3                       0   \n",
       "11276                3                0                       0   \n",
       "11277                4                3                       0   \n",
       "11278                3                0                       0   \n",
       "\n",
       "       Equal_Count_url  tilde_Count_url  And_Count_url  ...  URL_Depth  \\\n",
       "0                    0                0              0  ...          0   \n",
       "1                    0                0              0  ...          0   \n",
       "2                    0                0              0  ...          0   \n",
       "3                    0                0              0  ...          0   \n",
       "4                    0                0              0  ...          0   \n",
       "...                ...              ...            ...  ...        ...   \n",
       "11274                0                0              0  ...          8   \n",
       "11275                0                0              0  ...          2   \n",
       "11276                0                0              0  ...          0   \n",
       "11277                0                0              0  ...          2   \n",
       "11278                0                0              0  ...          0   \n",
       "\n",
       "       Redirection  https_Domain  TinyURL  http/https  statistical_report  \\\n",
       "0                0             0        0           1                   1   \n",
       "1                0             0        0           1                   1   \n",
       "2                0             0        0           0                   1   \n",
       "3                0             0        0           1                   1   \n",
       "4                0             0        0           1                   1   \n",
       "...            ...           ...      ...         ...                 ...   \n",
       "11274            0             0        0           0                   0   \n",
       "11275            0             0        1           0                   0   \n",
       "11276            0             0        0           0                   0   \n",
       "11277            0             0        0           0                   0   \n",
       "11278            0             0        0           0                   0   \n",
       "\n",
       "       web_traffic  domain_registration_length  age_domain  dns_record  \n",
       "0                1                           1           1           1  \n",
       "1                1                           1           1           1  \n",
       "2                1                           1           1           1  \n",
       "3                1                           1           1           1  \n",
       "4                1                           1           1           1  \n",
       "...            ...                         ...         ...         ...  \n",
       "11274            0                           1           1           0  \n",
       "11275            1                           1           1           0  \n",
       "11276            1                           1           0           0  \n",
       "11277            1                           1           1           0  \n",
       "11278            1                           1           0           0  \n",
       "\n",
       "[11279 rows x 77 columns]"
      ]
     },
     "execution_count": 7,
     "metadata": {},
     "output_type": "execute_result"
    }
   ],
   "source": [
    "data"
   ]
  },
  {
   "cell_type": "code",
   "execution_count": null,
   "id": "cc43f384",
   "metadata": {},
   "outputs": [],
   "source": [
    "from pandas_profiling import ProfileReport\n",
    "import pandas as pd\n",
    "import numpy as np\n",
    "import re\n",
    "import string\n",
    "from wordcloud import WordCloud, STOPWORDS\n",
    "from sklearn.feature_extraction.text import CountVectorizer\n",
    "from scipy.sparse import vstack\n",
    "import datetime\n",
    "from sklearn.ensemble import RandomForestClassifier\n",
    "from sklearn.model_selection import GridSearchCV\n",
    "from sklearn.ensemble import RandomForestClassifier\n",
    "from sklearn.metrics import roc_curve, auc\n",
    "from sklearn.metrics import classification_report, confusion_matrix\n",
    "from scipy.sparse import hstack\n",
    "import matplotlib.pyplot as plt\n",
    "import seaborn as sns"
   ]
  },
  {
   "cell_type": "code",
   "execution_count": null,
   "id": "e9abdb0d",
   "metadata": {},
   "outputs": [],
   "source": [
    "ProfileReport(data,minimal=True)"
   ]
  },
  {
   "cell_type": "code",
   "execution_count": null,
   "id": "65ed8b64",
   "metadata": {},
   "outputs": [],
   "source": [
    "comment_words = '' \n",
    "stopwords = set(STOPWORDS) \n",
    "for val in data['domain']: \n",
    "      \n",
    "    # typecaste each val to string \n",
    "    val = str(val) \n",
    "  \n",
    "    # split the value \n",
    "    tokens = val.split() \n",
    "      \n",
    "    # Converts each token into lowercase \n",
    "    for i in range(len(tokens)): \n",
    "        tokens[i] = tokens[i].lower() \n",
    "      \n",
    "    comment_words += \" \".join(tokens)+\" \"\n",
    "  \n",
    "wordcloud = WordCloud(width = 800, height = 800, \n",
    "                background_color ='white', \n",
    "                stopwords=stopwords,\n",
    "                min_font_size = 10).generate(comment_words)"
   ]
  },
  {
   "cell_type": "code",
   "execution_count": null,
   "id": "73a036d8",
   "metadata": {},
   "outputs": [],
   "source": [
    "plt.figure(figsize = (8, 8), facecolor = None) \n",
    "plt.imshow(wordcloud) \n",
    "plt.axis(\"off\") \n",
    "plt.tight_layout(pad = 0)\n",
    "plt.show() "
   ]
  },
  {
   "cell_type": "code",
   "execution_count": null,
   "id": "70faac60",
   "metadata": {},
   "outputs": [],
   "source": [
    "data.shape"
   ]
  },
  {
   "cell_type": "code",
   "execution_count": null,
   "id": "eb2ae283",
   "metadata": {},
   "outputs": [],
   "source": [
    "data.info()"
   ]
  },
  {
   "cell_type": "code",
   "execution_count": null,
   "id": "2bcba815",
   "metadata": {},
   "outputs": [],
   "source": [
    "for label,content in data.items():\n",
    "    if not pd.api.types.is_numeric_dtype(content):\n",
    "        data[label]=pd.Categorical(content).codes+1"
   ]
  },
  {
   "cell_type": "code",
   "execution_count": null,
   "id": "cdeff3e6",
   "metadata": {},
   "outputs": [],
   "source": [
    "#now all data is in int data types\n",
    "data.info()"
   ]
  },
  {
   "cell_type": "code",
   "execution_count": null,
   "id": "ac95ad1a",
   "metadata": {},
   "outputs": [],
   "source": [
    "data"
   ]
  },
  {
   "cell_type": "code",
   "execution_count": null,
   "id": "5bb3e6d6",
   "metadata": {},
   "outputs": [],
   "source": [
    "object_cols = data.select_dtypes('object').columns\n",
    "for c in object_cols:\n",
    "    data[c] = data[c].astype('int32')"
   ]
  },
  {
   "cell_type": "code",
   "execution_count": 8,
   "id": "15beabad",
   "metadata": {},
   "outputs": [
    {
     "data": {
      "text/plain": [
       "array([5060, 2056, 2736, ..., 6235, 6227, 6340])"
      ]
     },
     "execution_count": 8,
     "metadata": {},
     "output_type": "execute_result"
    }
   ],
   "source": [
    "\n",
    "# Importing LabelEncoder from Sklearn\n",
    "# library from preprocessing Module.\n",
    "from sklearn.preprocessing import LabelEncoder\n",
    " \n",
    "# Creating a instance of label Encoder.\n",
    "le = LabelEncoder()\n",
    " \n",
    "# Using .fit_transform function to fit label\n",
    "# encoder and return encoded label\n",
    "label = le.fit_transform(data['domain'])\n",
    " \n",
    "# printing label\n",
    "label"
   ]
  },
  {
   "cell_type": "code",
   "execution_count": 9,
   "id": "315f5fcc",
   "metadata": {},
   "outputs": [
    {
     "data": {
      "text/html": [
       "<div>\n",
       "<style scoped>\n",
       "    .dataframe tbody tr th:only-of-type {\n",
       "        vertical-align: middle;\n",
       "    }\n",
       "\n",
       "    .dataframe tbody tr th {\n",
       "        vertical-align: top;\n",
       "    }\n",
       "\n",
       "    .dataframe thead th {\n",
       "        text-align: right;\n",
       "    }\n",
       "</style>\n",
       "<table border=\"1\" class=\"dataframe\">\n",
       "  <thead>\n",
       "    <tr style=\"text-align: right;\">\n",
       "      <th></th>\n",
       "      <th>label</th>\n",
       "      <th>url_length</th>\n",
       "      <th>Dot_Count_url</th>\n",
       "      <th>Slash_Count_url</th>\n",
       "      <th>Hypen_Count_url</th>\n",
       "      <th>Questionmark_Count_url</th>\n",
       "      <th>Equal_Count_url</th>\n",
       "      <th>tilde_Count_url</th>\n",
       "      <th>And_Count_url</th>\n",
       "      <th>Dollar_Count_url</th>\n",
       "      <th>...</th>\n",
       "      <th>Redirection</th>\n",
       "      <th>https_Domain</th>\n",
       "      <th>TinyURL</th>\n",
       "      <th>http/https</th>\n",
       "      <th>statistical_report</th>\n",
       "      <th>web_traffic</th>\n",
       "      <th>domain_registration_length</th>\n",
       "      <th>age_domain</th>\n",
       "      <th>dns_record</th>\n",
       "      <th>domain</th>\n",
       "    </tr>\n",
       "  </thead>\n",
       "  <tbody>\n",
       "    <tr>\n",
       "      <th>0</th>\n",
       "      <td>1</td>\n",
       "      <td>31</td>\n",
       "      <td>1</td>\n",
       "      <td>3</td>\n",
       "      <td>1</td>\n",
       "      <td>0</td>\n",
       "      <td>0</td>\n",
       "      <td>0</td>\n",
       "      <td>0</td>\n",
       "      <td>0</td>\n",
       "      <td>...</td>\n",
       "      <td>0</td>\n",
       "      <td>0</td>\n",
       "      <td>0</td>\n",
       "      <td>1</td>\n",
       "      <td>1</td>\n",
       "      <td>1</td>\n",
       "      <td>1</td>\n",
       "      <td>1</td>\n",
       "      <td>1</td>\n",
       "      <td>5060</td>\n",
       "    </tr>\n",
       "    <tr>\n",
       "      <th>1</th>\n",
       "      <td>1</td>\n",
       "      <td>33</td>\n",
       "      <td>1</td>\n",
       "      <td>3</td>\n",
       "      <td>1</td>\n",
       "      <td>0</td>\n",
       "      <td>0</td>\n",
       "      <td>0</td>\n",
       "      <td>0</td>\n",
       "      <td>0</td>\n",
       "      <td>...</td>\n",
       "      <td>0</td>\n",
       "      <td>0</td>\n",
       "      <td>0</td>\n",
       "      <td>1</td>\n",
       "      <td>1</td>\n",
       "      <td>1</td>\n",
       "      <td>1</td>\n",
       "      <td>1</td>\n",
       "      <td>1</td>\n",
       "      <td>2056</td>\n",
       "    </tr>\n",
       "    <tr>\n",
       "      <th>2</th>\n",
       "      <td>1</td>\n",
       "      <td>33</td>\n",
       "      <td>1</td>\n",
       "      <td>3</td>\n",
       "      <td>1</td>\n",
       "      <td>0</td>\n",
       "      <td>0</td>\n",
       "      <td>0</td>\n",
       "      <td>0</td>\n",
       "      <td>0</td>\n",
       "      <td>...</td>\n",
       "      <td>0</td>\n",
       "      <td>0</td>\n",
       "      <td>0</td>\n",
       "      <td>0</td>\n",
       "      <td>1</td>\n",
       "      <td>1</td>\n",
       "      <td>1</td>\n",
       "      <td>1</td>\n",
       "      <td>1</td>\n",
       "      <td>2736</td>\n",
       "    </tr>\n",
       "    <tr>\n",
       "      <th>3</th>\n",
       "      <td>1</td>\n",
       "      <td>37</td>\n",
       "      <td>1</td>\n",
       "      <td>3</td>\n",
       "      <td>1</td>\n",
       "      <td>0</td>\n",
       "      <td>0</td>\n",
       "      <td>0</td>\n",
       "      <td>0</td>\n",
       "      <td>0</td>\n",
       "      <td>...</td>\n",
       "      <td>0</td>\n",
       "      <td>0</td>\n",
       "      <td>0</td>\n",
       "      <td>1</td>\n",
       "      <td>1</td>\n",
       "      <td>1</td>\n",
       "      <td>1</td>\n",
       "      <td>1</td>\n",
       "      <td>1</td>\n",
       "      <td>2732</td>\n",
       "    </tr>\n",
       "    <tr>\n",
       "      <th>4</th>\n",
       "      <td>1</td>\n",
       "      <td>28</td>\n",
       "      <td>1</td>\n",
       "      <td>3</td>\n",
       "      <td>1</td>\n",
       "      <td>0</td>\n",
       "      <td>0</td>\n",
       "      <td>0</td>\n",
       "      <td>0</td>\n",
       "      <td>0</td>\n",
       "      <td>...</td>\n",
       "      <td>0</td>\n",
       "      <td>0</td>\n",
       "      <td>0</td>\n",
       "      <td>1</td>\n",
       "      <td>1</td>\n",
       "      <td>1</td>\n",
       "      <td>1</td>\n",
       "      <td>1</td>\n",
       "      <td>1</td>\n",
       "      <td>2734</td>\n",
       "    </tr>\n",
       "    <tr>\n",
       "      <th>...</th>\n",
       "      <td>...</td>\n",
       "      <td>...</td>\n",
       "      <td>...</td>\n",
       "      <td>...</td>\n",
       "      <td>...</td>\n",
       "      <td>...</td>\n",
       "      <td>...</td>\n",
       "      <td>...</td>\n",
       "      <td>...</td>\n",
       "      <td>...</td>\n",
       "      <td>...</td>\n",
       "      <td>...</td>\n",
       "      <td>...</td>\n",
       "      <td>...</td>\n",
       "      <td>...</td>\n",
       "      <td>...</td>\n",
       "      <td>...</td>\n",
       "      <td>...</td>\n",
       "      <td>...</td>\n",
       "      <td>...</td>\n",
       "      <td>...</td>\n",
       "    </tr>\n",
       "    <tr>\n",
       "      <th>11274</th>\n",
       "      <td>0</td>\n",
       "      <td>73</td>\n",
       "      <td>6</td>\n",
       "      <td>10</td>\n",
       "      <td>0</td>\n",
       "      <td>0</td>\n",
       "      <td>0</td>\n",
       "      <td>0</td>\n",
       "      <td>0</td>\n",
       "      <td>0</td>\n",
       "      <td>...</td>\n",
       "      <td>0</td>\n",
       "      <td>0</td>\n",
       "      <td>0</td>\n",
       "      <td>0</td>\n",
       "      <td>0</td>\n",
       "      <td>0</td>\n",
       "      <td>1</td>\n",
       "      <td>1</td>\n",
       "      <td>0</td>\n",
       "      <td>6052</td>\n",
       "    </tr>\n",
       "    <tr>\n",
       "      <th>11275</th>\n",
       "      <td>0</td>\n",
       "      <td>73</td>\n",
       "      <td>6</td>\n",
       "      <td>4</td>\n",
       "      <td>3</td>\n",
       "      <td>0</td>\n",
       "      <td>0</td>\n",
       "      <td>0</td>\n",
       "      <td>0</td>\n",
       "      <td>0</td>\n",
       "      <td>...</td>\n",
       "      <td>0</td>\n",
       "      <td>0</td>\n",
       "      <td>1</td>\n",
       "      <td>0</td>\n",
       "      <td>0</td>\n",
       "      <td>1</td>\n",
       "      <td>1</td>\n",
       "      <td>1</td>\n",
       "      <td>0</td>\n",
       "      <td>6093</td>\n",
       "    </tr>\n",
       "    <tr>\n",
       "      <th>11276</th>\n",
       "      <td>0</td>\n",
       "      <td>28</td>\n",
       "      <td>2</td>\n",
       "      <td>3</td>\n",
       "      <td>0</td>\n",
       "      <td>0</td>\n",
       "      <td>0</td>\n",
       "      <td>0</td>\n",
       "      <td>0</td>\n",
       "      <td>0</td>\n",
       "      <td>...</td>\n",
       "      <td>0</td>\n",
       "      <td>0</td>\n",
       "      <td>0</td>\n",
       "      <td>0</td>\n",
       "      <td>0</td>\n",
       "      <td>1</td>\n",
       "      <td>1</td>\n",
       "      <td>0</td>\n",
       "      <td>0</td>\n",
       "      <td>6235</td>\n",
       "    </tr>\n",
       "    <tr>\n",
       "      <th>11277</th>\n",
       "      <td>0</td>\n",
       "      <td>73</td>\n",
       "      <td>5</td>\n",
       "      <td>4</td>\n",
       "      <td>3</td>\n",
       "      <td>0</td>\n",
       "      <td>0</td>\n",
       "      <td>0</td>\n",
       "      <td>0</td>\n",
       "      <td>0</td>\n",
       "      <td>...</td>\n",
       "      <td>0</td>\n",
       "      <td>0</td>\n",
       "      <td>0</td>\n",
       "      <td>0</td>\n",
       "      <td>0</td>\n",
       "      <td>1</td>\n",
       "      <td>1</td>\n",
       "      <td>1</td>\n",
       "      <td>0</td>\n",
       "      <td>6227</td>\n",
       "    </tr>\n",
       "    <tr>\n",
       "      <th>11278</th>\n",
       "      <td>0</td>\n",
       "      <td>25</td>\n",
       "      <td>2</td>\n",
       "      <td>3</td>\n",
       "      <td>0</td>\n",
       "      <td>0</td>\n",
       "      <td>0</td>\n",
       "      <td>0</td>\n",
       "      <td>0</td>\n",
       "      <td>0</td>\n",
       "      <td>...</td>\n",
       "      <td>0</td>\n",
       "      <td>0</td>\n",
       "      <td>0</td>\n",
       "      <td>0</td>\n",
       "      <td>0</td>\n",
       "      <td>1</td>\n",
       "      <td>1</td>\n",
       "      <td>0</td>\n",
       "      <td>0</td>\n",
       "      <td>6340</td>\n",
       "    </tr>\n",
       "  </tbody>\n",
       "</table>\n",
       "<p>11279 rows × 77 columns</p>\n",
       "</div>"
      ],
      "text/plain": [
       "       label  url_length  Dot_Count_url  Slash_Count_url  Hypen_Count_url  \\\n",
       "0          1          31              1                3                1   \n",
       "1          1          33              1                3                1   \n",
       "2          1          33              1                3                1   \n",
       "3          1          37              1                3                1   \n",
       "4          1          28              1                3                1   \n",
       "...      ...         ...            ...              ...              ...   \n",
       "11274      0          73              6               10                0   \n",
       "11275      0          73              6                4                3   \n",
       "11276      0          28              2                3                0   \n",
       "11277      0          73              5                4                3   \n",
       "11278      0          25              2                3                0   \n",
       "\n",
       "       Questionmark_Count_url  Equal_Count_url  tilde_Count_url  \\\n",
       "0                           0                0                0   \n",
       "1                           0                0                0   \n",
       "2                           0                0                0   \n",
       "3                           0                0                0   \n",
       "4                           0                0                0   \n",
       "...                       ...              ...              ...   \n",
       "11274                       0                0                0   \n",
       "11275                       0                0                0   \n",
       "11276                       0                0                0   \n",
       "11277                       0                0                0   \n",
       "11278                       0                0                0   \n",
       "\n",
       "       And_Count_url  Dollar_Count_url  ...  Redirection  https_Domain  \\\n",
       "0                  0                 0  ...            0             0   \n",
       "1                  0                 0  ...            0             0   \n",
       "2                  0                 0  ...            0             0   \n",
       "3                  0                 0  ...            0             0   \n",
       "4                  0                 0  ...            0             0   \n",
       "...              ...               ...  ...          ...           ...   \n",
       "11274              0                 0  ...            0             0   \n",
       "11275              0                 0  ...            0             0   \n",
       "11276              0                 0  ...            0             0   \n",
       "11277              0                 0  ...            0             0   \n",
       "11278              0                 0  ...            0             0   \n",
       "\n",
       "       TinyURL  http/https  statistical_report  web_traffic  \\\n",
       "0            0           1                   1            1   \n",
       "1            0           1                   1            1   \n",
       "2            0           0                   1            1   \n",
       "3            0           1                   1            1   \n",
       "4            0           1                   1            1   \n",
       "...        ...         ...                 ...          ...   \n",
       "11274        0           0                   0            0   \n",
       "11275        1           0                   0            1   \n",
       "11276        0           0                   0            1   \n",
       "11277        0           0                   0            1   \n",
       "11278        0           0                   0            1   \n",
       "\n",
       "       domain_registration_length  age_domain  dns_record  domain  \n",
       "0                               1           1           1    5060  \n",
       "1                               1           1           1    2056  \n",
       "2                               1           1           1    2736  \n",
       "3                               1           1           1    2732  \n",
       "4                               1           1           1    2734  \n",
       "...                           ...         ...         ...     ...  \n",
       "11274                           1           1           0    6052  \n",
       "11275                           1           1           0    6093  \n",
       "11276                           1           0           0    6235  \n",
       "11277                           1           1           0    6227  \n",
       "11278                           1           0           0    6340  \n",
       "\n",
       "[11279 rows x 77 columns]"
      ]
     },
     "execution_count": 9,
     "metadata": {},
     "output_type": "execute_result"
    }
   ],
   "source": [
    "\n",
    "# removing the column 'Purchased' from df\n",
    "# as it is of no use now.\n",
    "data.drop(\"domain\", axis=1, inplace=True)\n",
    " \n",
    "# Appending the array to our dataFrame\n",
    "# with column name 'Purchased'\n",
    "data[\"domain\"] = label\n",
    " \n",
    "# printing Dataframe\n",
    "data"
   ]
  },
  {
   "cell_type": "code",
   "execution_count": null,
   "id": "0a617dff",
   "metadata": {},
   "outputs": [],
   "source": []
  },
  {
   "cell_type": "code",
   "execution_count": null,
   "id": "b8c63177",
   "metadata": {},
   "outputs": [],
   "source": []
  },
  {
   "cell_type": "code",
   "execution_count": null,
   "id": "ed618af4",
   "metadata": {},
   "outputs": [],
   "source": [
    "# shuffling the rows in the dataset so that when splitting the train and test set are equally distributed\n",
    "data = data.sample(frac=1).reset_index(drop=True)\n",
    "data.head()"
   ]
  },
  {
   "cell_type": "code",
   "execution_count": null,
   "id": "3e40c730",
   "metadata": {},
   "outputs": [],
   "source": [
    "save=[['url_length', 'Dot_Count_url', 'Slash_Count_url', 'Hypen_Count_url',\n",
    "       'domain_length', 'Dot_Count_domain', 'Hypen_Count_domain',\n",
    "       'path_length', 'Dot_Count_path', 'Slash_Count_path', 'Hypen_Count_path',\n",
    "       'query_length', 'URL_Depth', 'http/https', 'statistical_report',\n",
    "       'web_traffic', 'domain_registration_length', 'age_domain', 'dns_record',\n",
    "       'domain']]"
   ]
  },
  {
   "cell_type": "code",
   "execution_count": null,
   "id": "2daf2887",
   "metadata": {},
   "outputs": [],
   "source": [
    "X.columns"
   ]
  },
  {
   "cell_type": "code",
   "execution_count": null,
   "id": "45330e86",
   "metadata": {},
   "outputs": [],
   "source": []
  },
  {
   "cell_type": "code",
   "execution_count": null,
   "id": "abd384de",
   "metadata": {},
   "outputs": [],
   "source": [
    "data.info()\n",
    "from sklearn.model_selection import KFold\n",
    "from sklearn.model_selection import RandomizedSearchCV\n",
    "from sklearn.model_selection import GridSearchCV"
   ]
  },
  {
   "cell_type": "code",
   "execution_count": 10,
   "id": "b7f1be20",
   "metadata": {},
   "outputs": [
    {
     "data": {
      "text/plain": [
       "(11279,)"
      ]
     },
     "execution_count": 10,
     "metadata": {},
     "output_type": "execute_result"
    }
   ],
   "source": [
    "## Train and Test Split to avoid the Overfitting\n",
    "X = data.drop(['label'],axis=1)\n",
    "y = data['label']\n",
    "X.shape\n",
    "y.shape"
   ]
  },
  {
   "cell_type": "code",
   "execution_count": 47,
   "id": "a4ac567c",
   "metadata": {},
   "outputs": [
    {
     "data": {
      "text/plain": [
       "(11279,)"
      ]
     },
     "execution_count": 47,
     "metadata": {},
     "output_type": "execute_result"
    }
   ],
   "source": [
    "X = data[['url_length', 'Dot_Count_url', 'Slash_Count_url', 'Hypen_Count_url',\n",
    "       'Equal_Count_url', 'And_Count_url', 'domain_length', 'Dot_Count_domain',\n",
    "       'Hypen_Count_domain', 'path_length', 'Slash_Count_path', 'query_length',\n",
    "       'Dot_Count_query', 'Equal_Count_query', 'And_Count_query', 'URL_Depth',\n",
    "       'statistical_report', 'web_traffic', 'dns_record', 'domain']]\n",
    "y = data['label']\n",
    "X.shape\n",
    "y.shape"
   ]
  },
  {
   "cell_type": "code",
   "execution_count": null,
   "id": "0e3e5c82",
   "metadata": {},
   "outputs": [],
   "source": [
    "X"
   ]
  },
  {
   "cell_type": "code",
   "execution_count": 48,
   "id": "4aa4f265",
   "metadata": {},
   "outputs": [],
   "source": [
    "from sklearn.model_selection import train_test_split\n",
    "\n",
    "X_train, X_test, y_train, y_test = train_test_split(X, y, \n",
    "                                                    \n",
    "                                                    test_size = 0.2, random_state = 16)"
   ]
  },
  {
   "cell_type": "code",
   "execution_count": null,
   "id": "f368b9cb",
   "metadata": {},
   "outputs": [],
   "source": []
  },
  {
   "cell_type": "code",
   "execution_count": 12,
   "id": "21384f70",
   "metadata": {},
   "outputs": [],
   "source": [
    "from sklearn.feature_selection import mutual_info_classif\n",
    "%matplotlib inline"
   ]
  },
  {
   "cell_type": "code",
   "execution_count": 13,
   "id": "b4ddf2a2",
   "metadata": {},
   "outputs": [
    {
     "data": {
      "text/plain": [
       "array([1.03993328e-01, 8.69657071e-02, 4.72778343e-02, 2.49502393e-02,\n",
       "       2.12504361e-02, 2.25053418e-02, 5.54368580e-03, 3.62568072e-02,\n",
       "       0.00000000e+00, 4.99335433e-03, 4.66466775e-03, 0.00000000e+00,\n",
       "       0.00000000e+00, 5.05979299e-03, 1.19799136e-03, 2.90750725e-03,\n",
       "       8.98133761e-02, 6.82593439e-02, 0.00000000e+00, 7.05481912e-02,\n",
       "       0.00000000e+00, 0.00000000e+00, 9.80748336e-04, 4.55477537e-03,\n",
       "       3.11061501e-03, 6.10352824e-03, 0.00000000e+00, 0.00000000e+00,\n",
       "       0.00000000e+00, 7.87796173e-04, 0.00000000e+00, 0.00000000e+00,\n",
       "       7.71398737e-02, 1.97205895e-02, 4.92022903e-02, 2.09804265e-02,\n",
       "       0.00000000e+00, 5.74294449e-04, 8.59790909e-05, 0.00000000e+00,\n",
       "       0.00000000e+00, 5.30275815e-03, 4.58996785e-03, 0.00000000e+00,\n",
       "       1.87093071e-03, 2.58999227e-03, 0.00000000e+00, 5.16269499e-03,\n",
       "       7.94080692e-02, 4.11118245e-02, 1.35962077e-03, 2.26200653e-02,\n",
       "       3.16326830e-03, 3.33943826e-02, 3.68380478e-03, 3.18457341e-02,\n",
       "       0.00000000e+00, 7.42225917e-03, 0.00000000e+00, 1.31763434e-03,\n",
       "       3.92968912e-03, 0.00000000e+00, 3.90403381e-03, 3.55062832e-03,\n",
       "       1.54604138e-02, 2.33293674e-02, 5.97566477e-04, 3.10554829e-03,\n",
       "       1.09532729e-03, 8.38129963e-03, 8.34217410e-02, 1.29582202e-01,\n",
       "       6.56120275e-03, 0.00000000e+00, 5.36736681e-02, 3.48272904e-01])"
      ]
     },
     "execution_count": 13,
     "metadata": {},
     "output_type": "execute_result"
    }
   ],
   "source": [
    "mutual_info= mutual_info_classif(X_train,y_train)\n",
    "mutual_info"
   ]
  },
  {
   "cell_type": "code",
   "execution_count": 14,
   "id": "13169a31",
   "metadata": {},
   "outputs": [
    {
     "data": {
      "text/plain": [
       "domain                 0.348273\n",
       "web_traffic            0.129582\n",
       "url_length             0.103993\n",
       "domain_length          0.089813\n",
       "Dot_Count_url          0.086966\n",
       "                         ...   \n",
       "Comma_Count_query      0.000000\n",
       "Dollar_Count_path      0.000000\n",
       "Asterisk_Count_path    0.000000\n",
       "Hashtag_Count_query    0.000000\n",
       "And_Count_path         0.000000\n",
       "Length: 76, dtype: float64"
      ]
     },
     "execution_count": 14,
     "metadata": {},
     "output_type": "execute_result"
    }
   ],
   "source": [
    "mutual_info = pd.Series(mutual_info)\n",
    "mutual_info.index=X_train.columns\n",
    "mutual_info.sort_values(ascending=False)"
   ]
  },
  {
   "cell_type": "code",
   "execution_count": 15,
   "id": "d4552003",
   "metadata": {},
   "outputs": [
    {
     "name": "stdout",
     "output_type": "stream",
     "text": [
      "('url_length', 0.10857963557329309)\n",
      "('Dot_Count_url', 0.08309002136137034)\n",
      "('Slash_Count_url', 0.04706341474820719)\n",
      "('Hypen_Count_url', 0.029573392321953884)\n",
      "('Questionmark_Count_url', 0.02600820159633721)\n",
      "('Equal_Count_url', 0.027973328011959175)\n",
      "('tilde_Count_url', 0.000822650611541853)\n",
      "('And_Count_url', 0.027225900690562854)\n",
      "('Dollar_Count_url', 0.0)\n",
      "('Percentage_Count_url', 0.015716374104756792)\n",
      "('Hashtag_Count_url', 0.005533637712762385)\n",
      "('Asterisk_Count_url', 0.0)\n",
      "('Plus_Count_url', 0.00300433829930169)\n",
      "('Comma_Count_url', 0.0)\n",
      "('Exclamation_Count_url', 0.01069111823626101)\n",
      "('attherate_Count_url', 0.009313342988263917)\n",
      "('domain_length', 0.09090069740687245)\n",
      "('Dot_Count_domain', 0.06325960277795373)\n",
      "('Slash_Count_domain', 0.0041008713570918065)\n",
      "('Hypen_Count_domain', 0.0720947060846806)\n",
      "('Questionmark_Count_domain', 0.0)\n",
      "('Equal_Count_domain', 0.0)\n",
      "('tilde_Count_domain', 0.0)\n",
      "('And_Count_domain', 0.0027954201817619317)\n",
      "('Dollar_Count_domain', 4.01859319876241e-05)\n",
      "('Percentage_Count_domain', 0.006079131746069777)\n",
      "('Hashtag_Count_domain', 0.0)\n",
      "('Asterisk_Count_domain', 0.0)\n",
      "('Plus_Count_domain', 0.005652291636170315)\n",
      "('Comma_Count_domain', 0.0)\n",
      "('Exclamation_Count_domain', 0.0)\n",
      "('attherate_Count_domain', 0.0005248608976204938)\n",
      "('path_length', 0.07466314965780096)\n",
      "('Dot_Count_path', 0.028803511111781477)\n",
      "('Slash_Count_path', 0.03583545606082894)\n",
      "('Hypen_Count_path', 0.010540303734873468)\n",
      "('Questionmark_Count_path', 0.003613991443012443)\n",
      "('Equal_Count_path', 0.0029632891071236234)\n",
      "('tilde_Count_path', 0.00925080695101932)\n",
      "('And_Count_path', 0.006639378503282334)\n",
      "('Dollar_Count_path', 0.0013497255492398441)\n",
      "('Percentage_Count_path', 0.0002191917594478454)\n",
      "('Hashtag_Count_path', 0.0)\n",
      "('Asterisk_Count_path', 0.0)\n",
      "('Plus_Count_path', 0.005686315657884133)\n",
      "('Comma_Count_path', 0.006281832960863376)\n",
      "('Exclamation_Count_path', 0.0004838398164797031)\n",
      "('attherate_Count_path', 0.0028782818016728218)\n",
      "('query_length', 0.07676324338425733)\n",
      "('Dot_Count_query', 0.03251394883412484)\n",
      "('Slash_Count_query', 0.0015343702288084238)\n",
      "('Hypen_Count_query', 0.028695171440214384)\n",
      "('Questionmark_Count_query', 0.0)\n",
      "('Equal_Count_query', 0.043410380552622696)\n",
      "('tilde_Count_query', 0.0)\n",
      "('And_Count_query', 0.027859156556139464)\n",
      "('Dollar_Count_query', 0.0025119299729017275)\n",
      "('Percentage_Count_query', 0.012806540492354745)\n",
      "('Hashtag_Count_query', 0.0)\n",
      "('Asterisk_Count_query', 0.00235757926385749)\n",
      "('Plus_Count_query', 0.0)\n",
      "('Comma_Count_query', 0.0)\n",
      "('Exclamation_Count_query', 0.009256954067471845)\n",
      "('attherate_Count_query', 0.0006645073709801164)\n",
      "('Have_IP', 0.002048813274372341)\n",
      "('URL_Depth', 0.03346367937690564)\n",
      "('Redirection', 0.0)\n",
      "('https_Domain', 0.005209370619653875)\n",
      "('TinyURL', 0.004430969398159457)\n",
      "('http/https', 0.007631557088320973)\n",
      "('statistical_report', 0.08957057796765411)\n",
      "('web_traffic', 0.12837110179640576)\n",
      "('domain_registration_length', 0.006913078687162955)\n",
      "('age_domain', 0.0)\n",
      "('dns_record', 0.048342702536288584)\n",
      "('domain', 0.34761359049779195)\n"
     ]
    }
   ],
   "source": [
    "MI_score = mutual_info_classif(X_train,y_train)\n",
    "\n",
    "# Print the name and mutual information score of each feature\n",
    "for feature in zip(X.columns, MI_score):\n",
    "    print(feature)"
   ]
  },
  {
   "cell_type": "code",
   "execution_count": null,
   "id": "fa83cd18",
   "metadata": {},
   "outputs": [],
   "source": []
  },
  {
   "cell_type": "code",
   "execution_count": null,
   "id": "7529acd8",
   "metadata": {},
   "outputs": [],
   "source": [
    "# Create a bar chart for visualizing the mutual information scores\n",
    "# Create a horizontal bar chart for visualizing \n",
    "# the performance of each subset of features\n",
    "fig, ax = plt.subplots(figsize=(15,10))\n",
    "#MI_score.sort_values(ascending=False)\n",
    "y_pos = np.arange(len(MI_score))\n",
    "ax.barh(y_pos, \n",
    "        MI_score, \n",
    "        color='darkblue')\n",
    "ax.set_yticks(y_pos)\n",
    "ax.set_yticklabels(X.columns)\n",
    "ax.set_xlabel('Accuracy')\n",
    "plt.show()"
   ]
  },
  {
   "cell_type": "code",
   "execution_count": null,
   "id": "170c9cef",
   "metadata": {},
   "outputs": [],
   "source": [
    "fig, ax = plt.subplots(figsize=(20,10))\n",
    "y_pos = np.arange(len(efs_results))\n",
    "ax.barh(y_pos, \n",
    "        efs_results['avg_score'],\n",
    "        xerr=efs_results['std_dev'],\n",
    "        color='tomato')\n",
    "ax.set_yticks(y_pos)\n",
    "ax.set_yticklabels(efs_results['feature_names'])\n",
    "ax.set_xlabel('Accuracy')\n",
    "plt.show()"
   ]
  },
  {
   "cell_type": "code",
   "execution_count": 15,
   "id": "26b88ea1",
   "metadata": {},
   "outputs": [
    {
     "data": {
      "text/plain": [
       "<AxesSubplot:>"
      ]
     },
     "execution_count": 15,
     "metadata": {},
     "output_type": "execute_result"
    },
    {
     "data": {
      "image/png": "[encoded data removed]",
      "text/plain": [
       "<Figure size 1440x720 with 1 Axes>"
      ]
     },
     "metadata": {
      "needs_background": "light"
     },
     "output_type": "display_data"
    }
   ],
   "source": [
    "mutual_info.sort_values(ascending=False).plot.bar(figsize=(20,10))\n",
    "#mutual_info(rotation='vertical')\n"
   ]
  },
  {
   "cell_type": "code",
   "execution_count": null,
   "id": "9986df48",
   "metadata": {},
   "outputs": [],
   "source": [
    "plt.figure(figsize=(4,4))\n",
    "plt.bar(X=feature_names, height=MI_score, color='tomato')\n",
    "plt.xticks(rotation='vertical')\n",
    "plt.ylabel('Mutual Information Score')\n",
    "plt.title('Mutual Information Score Comparison')\n",
    "\n",
    "plt.show()"
   ]
  },
  {
   "cell_type": "code",
   "execution_count": null,
   "id": "4ce136da",
   "metadata": {},
   "outputs": [],
   "source": []
  },
  {
   "cell_type": "code",
   "execution_count": 16,
   "id": "6e9a532d",
   "metadata": {},
   "outputs": [],
   "source": [
    "\n",
    "from sklearn.feature_selection import SelectKBest"
   ]
  },
  {
   "cell_type": "code",
   "execution_count": 17,
   "id": "9832d1e2",
   "metadata": {},
   "outputs": [
    {
     "data": {
      "text/plain": [
       "Index(['url_length', 'Dot_Count_url', 'Slash_Count_url', 'Hypen_Count_url',\n",
       "       'Equal_Count_url', 'And_Count_url', 'domain_length', 'Dot_Count_domain',\n",
       "       'Hypen_Count_domain', 'path_length', 'Slash_Count_path', 'query_length',\n",
       "       'Dot_Count_query', 'Equal_Count_query', 'And_Count_query', 'URL_Depth',\n",
       "       'statistical_report', 'web_traffic', 'dns_record', 'domain'],\n",
       "      dtype='object')"
      ]
     },
     "execution_count": 17,
     "metadata": {},
     "output_type": "execute_result"
    }
   ],
   "source": [
    "bestfeatures=SelectKBest(mutual_info_classif, k=20)\n",
    "bestfeatures.fit(X_train,y_train)\n",
    "X_train.columns[bestfeatures.get_support()]"
   ]
  },
  {
   "cell_type": "code",
   "execution_count": null,
   "id": "cff9a322",
   "metadata": {},
   "outputs": [],
   "source": []
  },
  {
   "cell_type": "code",
   "execution_count": null,
   "id": "928c75c8",
   "metadata": {},
   "outputs": [],
   "source": [
    "X = data[['url_length', 'Dot_Count_url', 'Slash_Count_url', 'Hypen_Count_url',\n",
    "       'domain_length', 'Dot_Count_domain', 'Hypen_Count_domain',\n",
    "       'path_length', 'Dot_Count_path', 'Slash_Count_path', 'Hypen_Count_path',\n",
    "       'query_length', 'URL_Depth', 'http/https', 'statistical_report',\n",
    "       'web_traffic', 'domain_registration_length', 'age_domain', 'dns_record',\n",
    "       'domain']]\n",
    "y = data['Label']\n",
    "X.shape\n",
    "y.shape"
   ]
  },
  {
   "cell_type": "code",
   "execution_count": null,
   "id": "2796da83",
   "metadata": {},
   "outputs": [],
   "source": [
    "X = data[['url_length', 'Dot_Count_url', 'Slash_Count_url', 'Hypen_Count_url',\n",
    "       'Hashtag_Count_url', 'Asterisk_Count_url', 'attherate_Count_url',\n",
    "       'domain_length', 'Dot_Count_domain', 'Hypen_Count_domain',\n",
    "       'path_length', 'Dot_Count_path', 'Slash_Count_path', 'Hypen_Count_path',\n",
    "       'Equal_Count_path', 'query_length', 'Hypen_Count_query',\n",
    "       'And_Count_query', 'Asterisk_Count_query', 'Have_IP', 'URL_Depth',\n",
    "       'Redirection', 'TinyURL', 'http/https', 'statistical_report',\n",
    "       'web_traffic', 'domain_registration_length', 'age_domain', 'dns_record',\n",
    "       'domain']]\n",
    "y = data['Label']\n",
    "X.shape\n",
    "y.shape"
   ]
  },
  {
   "cell_type": "code",
   "execution_count": null,
   "id": "14ef9dc7",
   "metadata": {},
   "outputs": [],
   "source": [
    "X_train.shape"
   ]
  },
  {
   "cell_type": "code",
   "execution_count": null,
   "id": "a56ee153",
   "metadata": {},
   "outputs": [],
   "source": [
    "'url_length', 'Dot_Count_url', 'Slash_Count_url', 'Hypen_Count_url',\n",
    "       'Questionmark_Count_url', 'Equal_Count_url', 'And_Count_url',\n",
    "       'attherate_Count_url', 'domain_length', 'Dot_Count_domain',\n",
    "       'Hypen_Count_domain', 'path_length', 'Dot_Count_path',\n",
    "       'Slash_Count_path', 'Hypen_Count_path', 'Equal_Count_path',\n",
    "       'tilde_Count_path', 'Dollar_Count_path', 'query_length',\n",
    "       'And_Count_query', 'Plus_Count_query', 'URL_Depth', 'TinyURL',\n",
    "       'http/https', 'statistical_report', 'web_traffic',\n",
    "       'domain_registration_length', 'age_domain', 'dns_record', 'domain'"
   ]
  },
  {
   "cell_type": "code",
   "execution_count": null,
   "id": "8f85e408",
   "metadata": {},
   "outputs": [],
   "source": [
    "plt.figure(figsize=(6,20))\n",
    "sns.heatmap(data.corr()[['Label']].sort_values('Label', ascending=False), annot=True);"
   ]
  },
  {
   "cell_type": "code",
   "execution_count": null,
   "id": "7bc3af02",
   "metadata": {},
   "outputs": [],
   "source": [
    "data1 = data[['url_length', 'Dot_Count_url', 'Slash_Count_url', 'Hypen_Count_url',\n",
    "       'Hashtag_Count_url', 'attherate_Count_url', 'domain_length',\n",
    "       'Dot_Count_domain', 'Hypen_Count_domain', 'tilde_Count_domain',\n",
    "       'Hashtag_Count_domain', 'path_length', 'Dot_Count_path',\n",
    "       'Slash_Count_path', 'Hypen_Count_path', 'tilde_Count_path',\n",
    "       'And_Count_path', 'query_length', 'Equal_Count_query',\n",
    "       'attherate_Count_query', 'URL_Depth', 'https_Domain', 'TinyURL',\n",
    "       'http/https', 'statistical_report', 'web_traffic',\n",
    "       'domain_registration_length', 'age_domain', 'dns_record', 'domain']]"
   ]
  },
  {
   "cell_type": "code",
   "execution_count": null,
   "id": "05495c4f",
   "metadata": {},
   "outputs": [],
   "source": [
    "data1 "
   ]
  },
  {
   "cell_type": "code",
   "execution_count": null,
   "id": "54068b17",
   "metadata": {},
   "outputs": [],
   "source": [
    "data1"
   ]
  },
  {
   "cell_type": "code",
   "execution_count": null,
   "id": "f6ff816c",
   "metadata": {},
   "outputs": [],
   "source": [
    "# shuffling the rows in the dataset so that when splitting the train and test set are equally distributed\n"
   ]
  },
  {
   "cell_type": "code",
   "execution_count": null,
   "id": "48e754a3",
   "metadata": {},
   "outputs": [],
   "source": [
    "# Scaling Data"
   ]
  },
  {
   "cell_type": "code",
   "execution_count": 49,
   "id": "ec8c4899",
   "metadata": {},
   "outputs": [],
   "source": [
    "# Feature scaling\n",
    "from sklearn.preprocessing import StandardScaler\n",
    "sc=StandardScaler()\n",
    "X_train=sc.fit_transform(X_train)\n",
    "X_test=sc.transform(X_test)"
   ]
  },
  {
   "cell_type": "code",
   "execution_count": null,
   "id": "2765cf7d",
   "metadata": {},
   "outputs": [],
   "source": [
    "#Normalization-Min Max Scaler\n",
    "from sklearn.preprocessing import MinMaxScaler\n",
    "scaler = MinMaxScaler().fit(X_train)\n"
   ]
  },
  {
   "cell_type": "code",
   "execution_count": null,
   "id": "052bea37",
   "metadata": {},
   "outputs": [],
   "source": [
    "scaler"
   ]
  },
  {
   "cell_type": "code",
   "execution_count": null,
   "id": "cf6f27c2",
   "metadata": {},
   "outputs": [],
   "source": [
    "scaler.data_min_"
   ]
  },
  {
   "cell_type": "code",
   "execution_count": null,
   "id": "66199908",
   "metadata": {},
   "outputs": [],
   "source": [
    "scaler.data_max_"
   ]
  },
  {
   "cell_type": "code",
   "execution_count": null,
   "id": "42f14a08",
   "metadata": {},
   "outputs": [],
   "source": [
    "X_train.describe()"
   ]
  },
  {
   "cell_type": "code",
   "execution_count": null,
   "id": "3344b02d",
   "metadata": {},
   "outputs": [],
   "source": [
    "scaler.feature_range"
   ]
  },
  {
   "cell_type": "code",
   "execution_count": null,
   "id": "d2921064",
   "metadata": {},
   "outputs": [],
   "source": [
    "scaler.transform(X_train)"
   ]
  },
  {
   "cell_type": "code",
   "execution_count": null,
   "id": "be4d9077",
   "metadata": {},
   "outputs": [],
   "source": [
    "X_train_sc=scaler.transform(X_train)"
   ]
  },
  {
   "cell_type": "code",
   "execution_count": null,
   "id": "576a0a3f",
   "metadata": {},
   "outputs": [],
   "source": [
    "print(X_train_sc)"
   ]
  },
  {
   "cell_type": "code",
   "execution_count": null,
   "id": "7af4ff92",
   "metadata": {},
   "outputs": [],
   "source": [
    "scaler = MinMaxScaler().fit(X_test)"
   ]
  },
  {
   "cell_type": "code",
   "execution_count": null,
   "id": "68480736",
   "metadata": {},
   "outputs": [],
   "source": [
    "X_test.describe()"
   ]
  },
  {
   "cell_type": "code",
   "execution_count": null,
   "id": "75c489da",
   "metadata": {},
   "outputs": [],
   "source": [
    "scaler.transform(X_test)"
   ]
  },
  {
   "cell_type": "code",
   "execution_count": null,
   "id": "23d98dc9",
   "metadata": {},
   "outputs": [],
   "source": [
    "X_test_sc=scaler.transform(X_test)"
   ]
  },
  {
   "cell_type": "code",
   "execution_count": null,
   "id": "e49a23a2",
   "metadata": {},
   "outputs": [],
   "source": [
    "X_train.shape"
   ]
  },
  {
   "cell_type": "code",
   "execution_count": null,
   "id": "829041c8",
   "metadata": {},
   "outputs": [],
   "source": []
  },
  {
   "cell_type": "code",
   "execution_count": 21,
   "id": "9d0d3365",
   "metadata": {},
   "outputs": [
    {
     "name": "stdout",
     "output_type": "stream",
     "text": [
      "GradientBoostingClassifier() \n",
      "Training Score: 0.9544497395544719\n",
      "GradientBoostingClassifier() \n",
      "Testing Score: 0.9445921985815603\n",
      "\n",
      "              precision    recall  f1-score   support\n",
      "\n",
      "           0       0.93      0.83      0.88       550\n",
      "           1       0.95      0.98      0.96      1706\n",
      "\n",
      "    accuracy                           0.94      2256\n",
      "   macro avg       0.94      0.91      0.92      2256\n",
      "weighted avg       0.94      0.94      0.94      2256\n",
      "\n",
      "[[ 458   92]\n",
      " [  33 1673]]\n",
      "CPU times: total: 1.41 s\n",
      "Wall time: 1.41 s\n"
     ]
    }
   ],
   "source": [
    "%%time\n",
    "get_scores_sc(GradientBoostingClassifier)"
   ]
  },
  {
   "cell_type": "code",
   "execution_count": 22,
   "id": "020314a3",
   "metadata": {},
   "outputs": [
    {
     "name": "stdout",
     "output_type": "stream",
     "text": [
      "ExtraTreesClassifier() \n",
      "Training Score: 1.0\n",
      "ExtraTreesClassifier() \n",
      "Testing Score: 0.962322695035461\n",
      "\n",
      "              precision    recall  f1-score   support\n",
      "\n",
      "           0       0.96      0.89      0.92       550\n",
      "           1       0.96      0.99      0.98      1706\n",
      "\n",
      "    accuracy                           0.96      2256\n",
      "   macro avg       0.96      0.94      0.95      2256\n",
      "weighted avg       0.96      0.96      0.96      2256\n",
      "\n",
      "[[ 487   63]\n",
      " [  22 1684]]\n",
      "CPU times: total: 766 ms\n",
      "Wall time: 766 ms\n"
     ]
    }
   ],
   "source": [
    "%%time\n",
    "get_scores_sc(ExtraTreesClassifier)\n"
   ]
  },
  {
   "cell_type": "code",
   "execution_count": 23,
   "id": "72de63cb",
   "metadata": {},
   "outputs": [],
   "source": [
    "#from sklearn.tree import DecisionTreeClassifier\n",
    "import sklearn.metrics as metrics\n",
    "modelext= ExtraTreesClassifier()\n",
    "modelext.fit(X_train, y_train)\n",
    "y_predictedext=modelext.predict(X_test)\n",
    "matrixext12=metrics.confusion_matrix(y_test,y_predictedext)"
   ]
  },
  {
   "cell_type": "code",
   "execution_count": 24,
   "id": "1c879d8a",
   "metadata": {},
   "outputs": [
    {
     "data": {
      "image/png": "[encoded data removed]",
      "text/plain": [
       "<Figure size 496.8x496.8 with 2 Axes>"
      ]
     },
     "metadata": {
      "needs_background": "light"
     },
     "output_type": "display_data"
    },
    {
     "name": "stdout",
     "output_type": "stream",
     "text": [
      "Training Score: 1.0\n",
      "Testing  Score: 0.9636524822695035\n",
      "              precision    recall  f1-score   support\n",
      "\n",
      "           0       0.96      0.89      0.92       550\n",
      "           1       0.97      0.99      0.98      1706\n",
      "\n",
      "    accuracy                           0.96      2256\n",
      "   macro avg       0.96      0.94      0.95      2256\n",
      "weighted avg       0.96      0.96      0.96      2256\n",
      "\n",
      "[[ 489   61]\n",
      " [  21 1685]]\n",
      "CPU times: total: 297 ms\n",
      "Wall time: 304 ms\n"
     ]
    }
   ],
   "source": [
    "%%time\n",
    "from mlxtend.plotting import plot_confusion_matrix\n",
    "fig, ax = plot_confusion_matrix(conf_mat=matrixext12,figsize=(6.9, 6.9), \n",
    "                                show_absolute=True,\n",
    "                                show_normed=True,\n",
    "                                colorbar=True)\n",
    "plt.title('Extra Tree')\n",
    "plt.xlabel('Predicted Value')\n",
    "plt.ylabel('True Value')\n",
    "plt.show()\n",
    "\n",
    "print(f'Training Score: {modelext.score(X_train, y_train)}')\n",
    "print(f'Testing  Score: {modelext.score(X_test, y_test)}')\n",
    "print(classification_report(y_test, y_predictedext))\n",
    "print(confusion_matrix(y_test, y_predictedext))"
   ]
  },
  {
   "cell_type": "code",
   "execution_count": null,
   "id": "635ca295",
   "metadata": {},
   "outputs": [],
   "source": [
    "from sklearn.metrics import precision_score,recall_score,f1_score\n",
    "print('Precision: %.4f'%precision_score(y_test, y_predictedext))\n",
    "print('Recall: %.4f' % recall_score(y_test,y_predictedext))\n",
    "print('F1 score: %.4f' % f1_score(y_test,y_predictedext))\n",
    "print('Accuracy: %.4f' % accuracy_score(y_test,y_predictedext))\n",
    "accuracy_score(y_test, y_predictedext)"
   ]
  },
  {
   "cell_type": "code",
   "execution_count": null,
   "id": "5e5db4e3",
   "metadata": {},
   "outputs": [],
   "source": []
  },
  {
   "cell_type": "code",
   "execution_count": null,
   "id": "b0119bdf",
   "metadata": {},
   "outputs": [],
   "source": []
  },
  {
   "cell_type": "code",
   "execution_count": 25,
   "id": "2c839467",
   "metadata": {},
   "outputs": [
    {
     "name": "stdout",
     "output_type": "stream",
     "text": [
      "BaggingClassifier() \n",
      "Training Score: 0.9976726144297905\n",
      "BaggingClassifier() \n",
      "Testing Score: 0.9636524822695035\n",
      "\n",
      "              precision    recall  f1-score   support\n",
      "\n",
      "           0       0.92      0.93      0.93       550\n",
      "           1       0.98      0.98      0.98      1706\n",
      "\n",
      "    accuracy                           0.96      2256\n",
      "   macro avg       0.95      0.95      0.95      2256\n",
      "weighted avg       0.96      0.96      0.96      2256\n",
      "\n",
      "[[ 510   40]\n",
      " [  42 1664]]\n",
      "CPU times: total: 391 ms\n",
      "Wall time: 385 ms\n"
     ]
    }
   ],
   "source": [
    "%%time\n",
    "get_scores_sc(BaggingClassifier)"
   ]
  },
  {
   "cell_type": "code",
   "execution_count": 26,
   "id": "bf5fea1c",
   "metadata": {},
   "outputs": [
    {
     "name": "stdout",
     "output_type": "stream",
     "text": [
      "SGDClassifier() \n",
      "Training Score: 0.9061287820015516\n",
      "SGDClassifier() \n",
      "Testing Score: 0.911790780141844\n",
      "\n",
      "              precision    recall  f1-score   support\n",
      "\n",
      "           0       0.85      0.78      0.81       550\n",
      "           1       0.93      0.95      0.94      1706\n",
      "\n",
      "    accuracy                           0.91      2256\n",
      "   macro avg       0.89      0.87      0.88      2256\n",
      "weighted avg       0.91      0.91      0.91      2256\n",
      "\n",
      "[[ 429  121]\n",
      " [  78 1628]]\n",
      "CPU times: total: 62.5 ms\n",
      "Wall time: 65 ms\n"
     ]
    }
   ],
   "source": [
    "%%time\n",
    "get_scores_sc(SGDClassifier)"
   ]
  },
  {
   "cell_type": "code",
   "execution_count": null,
   "id": "36283e45",
   "metadata": {},
   "outputs": [],
   "source": []
  },
  {
   "cell_type": "code",
   "execution_count": null,
   "id": "cb39ac7b",
   "metadata": {},
   "outputs": [],
   "source": [
    "X_train.shape"
   ]
  },
  {
   "cell_type": "code",
   "execution_count": null,
   "id": "f2b96643",
   "metadata": {},
   "outputs": [],
   "source": []
  },
  {
   "cell_type": "code",
   "execution_count": null,
   "id": "9abb9988",
   "metadata": {},
   "outputs": [],
   "source": [
    "## Machine Learning Models implementation"
   ]
  },
  {
   "cell_type": "code",
   "execution_count": 19,
   "id": "4421a351",
   "metadata": {},
   "outputs": [],
   "source": [
    "import numpy as np\n",
    "import pandas as pd\n",
    "import matplotlib.pyplot as plt\n",
    "import seaborn as sns\n",
    "from sklearn.model_selection import train_test_split, GridSearchCV, RandomizedSearchCV\n",
    "from sklearn.preprocessing import StandardScaler\n",
    "from sklearn.linear_model import LogisticRegression, LinearRegression, SGDClassifier\n",
    "from sklearn.tree import DecisionTreeClassifier\n",
    "from sklearn.ensemble import RandomForestClassifier, AdaBoostClassifier, GradientBoostingClassifier, ExtraTreesClassifier, BaggingClassifier\n",
    "from sklearn.svm import SVC, LinearSVC\n",
    "from sklearn.metrics import precision_score, recall_score, confusion_matrix, classification_report, accuracy_score, f1_score, ConfusionMatrixDisplay, plot_confusion_matrix\n",
    "from sklearn.neighbors import KNeighborsClassifier\n",
    "\n",
    "from xgboost import XGBClassifier\n",
    "import pickle\n",
    "\n",
    "import warnings\n",
    "warnings.filterwarnings(\"ignore\")"
   ]
  },
  {
   "cell_type": "code",
   "execution_count": 20,
   "id": "1fbbbb14",
   "metadata": {},
   "outputs": [],
   "source": [
    "def get_scores_sc(model):\n",
    "    \n",
    "    # instantiate model\n",
    "    model = model()\n",
    "    \n",
    "    # fit to scaled data\n",
    "    model.fit(X_train, y_train)\n",
    "    \n",
    "    # make predictions\n",
    "    preds = model.predict(X_test)\n",
    "\n",
    "    # print results\n",
    "    print(f'{model} \\nTraining Score: {model.score(X_train, y_train)}')\n",
    "    print(f'{model} \\nTesting Score: {model.score(X_test, y_test)}')\n",
    "    print()\n",
    "    print(classification_report(y_test, preds))\n",
    "    print(confusion_matrix(y_test, preds))\n",
    "\n",
    "    return"
   ]
  },
  {
   "cell_type": "markdown",
   "id": "1386c132",
   "metadata": {},
   "source": [
    "# Decision Tree"
   ]
  },
  {
   "cell_type": "code",
   "execution_count": null,
   "id": "280da486",
   "metadata": {},
   "outputs": [],
   "source": [
    "from sklearn.tree import DecisionTreeClassifier\n",
    "import sklearn.metrics as metrics\n",
    "model= DecisionTreeClassifier()\n",
    "model.fit(X_train, y_train)\n",
    "y_predictedDT=model.predict(X_test)\n",
    "matrixDT=metrics.confusion_matrix(y_test,y_predictedDT)"
   ]
  },
  {
   "cell_type": "code",
   "execution_count": null,
   "id": "9c483b1c",
   "metadata": {},
   "outputs": [],
   "source": [
    "%%time\n",
    "from mlxtend.plotting import plot_confusion_matrix\n",
    "fig, ax = plot_confusion_matrix(conf_mat=matrixDT,figsize=(6.9, 6.9), \n",
    "                                show_absolute=True,\n",
    "                                show_normed=True,\n",
    "                                colorbar=True)\n",
    "plt.title('Decision Tree')\n",
    "plt.xlabel('Predicted Value')\n",
    "plt.ylabel('True Value')\n",
    "plt.show()\n",
    "\n",
    "print(f'Training Score: {model.score(X_train, y_train)}')\n",
    "print(f'Testing  Score: {model.score(X_test, y_test)}')\n",
    "print(classification_report(y_test, y_predictedDT))\n",
    "print(confusion_matrix(y_test, y_predictedDT))"
   ]
  },
  {
   "cell_type": "code",
   "execution_count": null,
   "id": "47299fe7",
   "metadata": {},
   "outputs": [],
   "source": [
    "from sklearn.metrics import precision_recall_curve\n",
    "from sklearn.metrics import plot_precision_recall_curve\n",
    "from sklearn.metrics import roc_curve\n",
    "from sklearn.metrics import plot_roc_curve\n",
    "\n",
    "plot_roc_curve(model,X_test, y_test)"
   ]
  },
  {
   "cell_type": "code",
   "execution_count": null,
   "id": "edf90093",
   "metadata": {},
   "outputs": [],
   "source": [
    "%%time\n",
    "get_scores_sc(DecisionTreeClassifier)\n"
   ]
  },
  {
   "cell_type": "code",
   "execution_count": null,
   "id": "0f337bd5",
   "metadata": {},
   "outputs": [],
   "source": [
    "from sklearn.metrics import precision_score,recall_score,f1_score\n",
    "print('Precision: %.4f'%precision_score(y_test, y_predictedDT))\n",
    "print('Recall: %.4f' % recall_score(y_test,y_predictedDT))\n",
    "print('F1 score: %.4f' % f1_score(y_test,y_predictedDT))\n",
    "accuracy_score(y_test, y_predictedDT)"
   ]
  },
  {
   "cell_type": "code",
   "execution_count": null,
   "id": "26678cf4",
   "metadata": {},
   "outputs": [],
   "source": []
  },
  {
   "cell_type": "code",
   "execution_count": null,
   "id": "cbd66fec",
   "metadata": {},
   "outputs": [],
   "source": []
  },
  {
   "cell_type": "markdown",
   "id": "1b91590c",
   "metadata": {},
   "source": [
    "# Random Forest"
   ]
  },
  {
   "cell_type": "code",
   "execution_count": null,
   "id": "90596a6c",
   "metadata": {},
   "outputs": [],
   "source": [
    "from sklearn.ensemble import RandomForestClassifier\n",
    "model1 = RandomForestClassifier()\n",
    "model1.fit(X_train, y_train)\n",
    "y_predictedRF=model1.predict(X_test)\n",
    "matrix1=metrics.confusion_matrix(y_test,y_predictedRF)"
   ]
  },
  {
   "cell_type": "code",
   "execution_count": null,
   "id": "4a62859d",
   "metadata": {},
   "outputs": [],
   "source": [
    "%%time\n",
    "from mlxtend.plotting import plot_confusion_matrix\n",
    "fig, ax = plot_confusion_matrix(conf_mat=matrix1,figsize=(6.9, 6.9), \n",
    "                                show_absolute=True,\n",
    "                                show_normed=True,\n",
    "                                colorbar=True)\n",
    "plt.title('Random Forest')\n",
    "plt.xlabel('Predicted Value')\n",
    "plt.ylabel('True Value')\n",
    "plt.show()\n",
    "\n",
    "print(f'Training Score: {model1.score(X_train, y_train)}')\n",
    "print(f'Testing  Score: {model1.score(X_test, y_test)}')\n",
    "print(classification_report(y_test, y_predictedRF))\n",
    "print(confusion_matrix(y_test, y_predictedRF))"
   ]
  },
  {
   "cell_type": "code",
   "execution_count": null,
   "id": "9177af53",
   "metadata": {},
   "outputs": [],
   "source": [
    "plot_roc_curve(model1,X_test, y_test)"
   ]
  },
  {
   "cell_type": "code",
   "execution_count": null,
   "id": "7469d807",
   "metadata": {},
   "outputs": [],
   "source": []
  },
  {
   "cell_type": "code",
   "execution_count": null,
   "id": "7eaa38b2",
   "metadata": {},
   "outputs": [],
   "source": []
  },
  {
   "cell_type": "code",
   "execution_count": null,
   "id": "862ede96",
   "metadata": {},
   "outputs": [],
   "source": []
  },
  {
   "cell_type": "code",
   "execution_count": null,
   "id": "a882a3fb",
   "metadata": {},
   "outputs": [],
   "source": []
  },
  {
   "cell_type": "code",
   "execution_count": null,
   "id": "7809f276",
   "metadata": {},
   "outputs": [],
   "source": []
  },
  {
   "cell_type": "code",
   "execution_count": null,
   "id": "ef2ad2dc",
   "metadata": {},
   "outputs": [],
   "source": []
  },
  {
   "cell_type": "code",
   "execution_count": null,
   "id": "6168cf25",
   "metadata": {},
   "outputs": [],
   "source": []
  },
  {
   "cell_type": "code",
   "execution_count": null,
   "id": "f996a11f",
   "metadata": {},
   "outputs": [],
   "source": []
  },
  {
   "cell_type": "code",
   "execution_count": null,
   "id": "15f51251",
   "metadata": {},
   "outputs": [],
   "source": [
    "from sklearn.metrics import precision_recall_curve\n",
    "from sklearn.metrics import plot_precision_recall_curve\n",
    "from sklearn.metrics import roc_curve\n",
    "from sklearn.metrics import plot_roc_curve\n",
    "\n",
    "plot_roc_curve(model1,X_test_sc, y_test)\n",
    "#plot_roc_curve(model1,X_train_sc, y_train)"
   ]
  },
  {
   "cell_type": "code",
   "execution_count": null,
   "id": "8e1b2a45",
   "metadata": {},
   "outputs": [],
   "source": [
    "%%time\n",
    "get_scores_sc(RandomForestClassifier)\n"
   ]
  },
  {
   "cell_type": "code",
   "execution_count": null,
   "id": "502e53e8",
   "metadata": {},
   "outputs": [],
   "source": [
    "from sklearn.metrics import precision_score,recall_score,f1_score\n",
    "print('Precision: %.4f'%precision_score(y_test, y_predictedRF))\n",
    "print('Recall: %.4f' % recall_score(y_test,y_predictedRF))\n",
    "print('F1 score: %.4f' % f1_score(y_test,y_predictedRF))\n",
    "accuracy_score(y_test, y_predictedRF)"
   ]
  },
  {
   "cell_type": "code",
   "execution_count": null,
   "id": "9af0d6db",
   "metadata": {},
   "outputs": [],
   "source": []
  },
  {
   "cell_type": "markdown",
   "id": "41fa8327",
   "metadata": {},
   "source": [
    "# LOGISTIC REGRESSION\n"
   ]
  },
  {
   "cell_type": "code",
   "execution_count": null,
   "id": "91c3b872",
   "metadata": {},
   "outputs": [],
   "source": [
    "from sklearn.linear_model import LogisticRegression\n",
    "model2= LogisticRegression()\n",
    "model2.fit(X_train, y_train)\n",
    "y_predictedLR=model2.predict(X_test)\n",
    "matrix2=metrics.confusion_matrix(y_test,y_predictedLR)"
   ]
  },
  {
   "cell_type": "code",
   "execution_count": null,
   "id": "aea2ef1c",
   "metadata": {},
   "outputs": [],
   "source": [
    "%%time\n",
    "from mlxtend.plotting import plot_confusion_matrix\n",
    "fig, ax = plot_confusion_matrix(conf_mat=matrix2,figsize=(6.9, 6.9), \n",
    "                                show_absolute=True,\n",
    "                                show_normed=True,\n",
    "                                colorbar=True)\n",
    "plt.title('Logistic Regression')\n",
    "plt.xlabel('Predicted Value')\n",
    "plt.ylabel('True Value')\n",
    "plt.show()\n",
    "\n",
    "print(f'Training Score: {model2.score(X_train, y_train)}')\n",
    "print(f'Testing  Score: {model2.score(X_test, y_test)}')\n",
    "print(classification_report(y_test, y_predictedLR))\n",
    "print(confusion_matrix(y_test, y_predictedLR))\n"
   ]
  },
  {
   "cell_type": "code",
   "execution_count": null,
   "id": "2a617bc8",
   "metadata": {},
   "outputs": [],
   "source": [
    "%%time\n",
    "get_scores_sc(LogisticRegression)"
   ]
  },
  {
   "cell_type": "code",
   "execution_count": null,
   "id": "976450e4",
   "metadata": {},
   "outputs": [],
   "source": [
    "from sklearn.metrics import precision_recall_curve\n",
    "from sklearn.metrics import plot_precision_recall_curve\n",
    "from sklearn.metrics import roc_curve\n",
    "from sklearn.metrics import plot_roc_curve\n",
    "\n",
    "plot_roc_curve(model2,X_test, y_test)"
   ]
  },
  {
   "cell_type": "code",
   "execution_count": null,
   "id": "8f62d05b",
   "metadata": {},
   "outputs": [],
   "source": [
    "from sklearn.metrics import precision_score,recall_score,f1_score\n",
    "print('Precision: %.4f'%precision_score(y_test, y_predictedLR))\n",
    "print('Recall: %.4f' % recall_score(y_test,y_predictedLR))\n",
    "print('F1 score: %.4f' % f1_score(y_test,y_predictedLR))\n",
    "accuracy_score(y_test, y_predictedLR)"
   ]
  },
  {
   "cell_type": "markdown",
   "id": "2329f615",
   "metadata": {},
   "source": [
    "# XGBOOST"
   ]
  },
  {
   "cell_type": "code",
   "execution_count": null,
   "id": "9f0387fd",
   "metadata": {},
   "outputs": [],
   "source": [
    "from xgboost import XGBClassifier\n",
    "xgb = XGBClassifier()\n",
    "xgb.fit(X_train, y_train)\n",
    "y_predictedxgb=xgb.predict(X_test)\n",
    "matrix3=metrics.confusion_matrix(y_test,y_predictedxgb)"
   ]
  },
  {
   "cell_type": "code",
   "execution_count": null,
   "id": "d12264f1",
   "metadata": {},
   "outputs": [],
   "source": [
    "%%time\n",
    "from mlxtend.plotting import plot_confusion_matrix\n",
    "fig, ax = plot_confusion_matrix(conf_mat=matrix3,figsize=(6.9, 6.9), \n",
    "                                show_absolute=True,\n",
    "                                show_normed=True,\n",
    "                                colorbar=True)\n",
    "plt.title('XGBOOST')\n",
    "plt.xlabel('Predicted Value')\n",
    "plt.ylabel('True Value')\n",
    "plt.show()\n",
    "\n",
    "print(f'Training Score: {xgb.score(X_train, y_train)}')\n",
    "print(f'Testing  Score: {xgb.score(X_test, y_test)}')\n",
    "print(classification_report(y_test,y_predictedxgb))\n",
    "print(confusion_matrix(y_test,y_predictedxgb))"
   ]
  },
  {
   "cell_type": "code",
   "execution_count": null,
   "id": "ba8eda2f",
   "metadata": {},
   "outputs": [],
   "source": [
    "from sklearn.metrics import precision_recall_curve\n",
    "from sklearn.metrics import plot_precision_recall_curve\n",
    "from sklearn.metrics import roc_curve\n",
    "from sklearn.metrics import plot_roc_curve\n",
    "\n",
    "plot_roc_curve(xgb,X_test, y_test)"
   ]
  },
  {
   "cell_type": "code",
   "execution_count": null,
   "id": "9ace2567",
   "metadata": {},
   "outputs": [],
   "source": [
    "%%time\n",
    "get_scores_sc(XGBClassifier)\n"
   ]
  },
  {
   "cell_type": "code",
   "execution_count": null,
   "id": "d64454df",
   "metadata": {},
   "outputs": [],
   "source": []
  },
  {
   "cell_type": "code",
   "execution_count": null,
   "id": "32951504",
   "metadata": {},
   "outputs": [],
   "source": [
    "from sklearn.metrics import precision_score,recall_score,f1_score\n",
    "print('Precision: %.4f'%precision_score(y_test, y_predictedxgb))\n",
    "print('Recall: %.4f' % recall_score(y_test,y_predictedxgb))\n",
    "print('F1 score: %.4f' % f1_score(y_test,y_predictedxgb))\n",
    "accuracy_score(y_test, y_predictedxgb)"
   ]
  },
  {
   "cell_type": "markdown",
   "id": "46a21f1b",
   "metadata": {},
   "source": [
    "# SVM"
   ]
  },
  {
   "cell_type": "code",
   "execution_count": null,
   "id": "cde91c61",
   "metadata": {},
   "outputs": [],
   "source": [
    "from sklearn.svm import SVC\n",
    "svm = SVC()\n",
    "svm.fit(X_train, y_train)\n",
    "y_predictedsvm=svm.predict(X_test)\n",
    "matrix4=metrics.confusion_matrix(y_test,y_predictedsvm)"
   ]
  },
  {
   "cell_type": "code",
   "execution_count": null,
   "id": "d5baf6f7",
   "metadata": {},
   "outputs": [],
   "source": [
    "%%time\n",
    "from mlxtend.plotting import plot_confusion_matrix\n",
    "fig, ax = plot_confusion_matrix(conf_mat=matrix4,figsize=(6.9, 6.9), \n",
    "                                show_absolute=True,\n",
    "                                show_normed=True,\n",
    "                                colorbar=True)\n",
    "plt.title('SVM')\n",
    "plt.xlabel('Predicted Value')\n",
    "plt.ylabel('True Value')\n",
    "plt.show()\n",
    "\n",
    "print(f'Training Score: {svm.score(X_train, y_train)}')\n",
    "print(f'Testing  Score: {svm.score(X_test, y_test)}')\n",
    "print(classification_report(y_test, y_predictedsvm))\n",
    "print(confusion_matrix(y_test, y_predictedsvm))"
   ]
  },
  {
   "cell_type": "code",
   "execution_count": null,
   "id": "e30120dd",
   "metadata": {},
   "outputs": [],
   "source": [
    "plot_roc_curve(svm,X_test, y_test)"
   ]
  },
  {
   "cell_type": "code",
   "execution_count": null,
   "id": "e33a517d",
   "metadata": {},
   "outputs": [],
   "source": [
    "from sklearn.metrics import precision_score,recall_score,f1_score\n",
    "print('Precision: %.4f'%precision_score(y_test, y_predictedsvm))\n",
    "print('Recall: %.4f' % recall_score(y_test,y_predictedsvm))\n",
    "print('F1 score: %.4f' % f1_score(y_test,y_predictedsvm))\n",
    "accuracy_score(y_test, y_predictedsvm)"
   ]
  },
  {
   "cell_type": "code",
   "execution_count": null,
   "id": "47d02181",
   "metadata": {},
   "outputs": [],
   "source": [
    "%%time\n",
    "from sklearn.svm import SVC\n",
    "get_scores_sc(SVC)\n"
   ]
  },
  {
   "cell_type": "code",
   "execution_count": null,
   "id": "d2e74cba",
   "metadata": {},
   "outputs": [],
   "source": [
    "from datetime import datetime as dt\n",
    "\n",
    "start = dt.now()\n",
    "# process stuff\n",
    "\n",
    "running_secs = (dt.now() - start).seconds\n",
    "running_secs\n"
   ]
  },
  {
   "cell_type": "markdown",
   "id": "c74ef4b3",
   "metadata": {},
   "source": [
    "# KNN"
   ]
  },
  {
   "cell_type": "code",
   "execution_count": null,
   "id": "00af7a90",
   "metadata": {},
   "outputs": [],
   "source": [
    "knn=KNeighborsClassifier()\n",
    "knn.fit(X_train,y_train)\n",
    "y_predictedknn=knn.predict(X_test)\n",
    "matrix5=metrics.confusion_matrix(y_test,y_predictedknn)"
   ]
  },
  {
   "cell_type": "code",
   "execution_count": null,
   "id": "178d7d45",
   "metadata": {},
   "outputs": [],
   "source": [
    "%%time\n",
    "from mlxtend.plotting import plot_confusion_matrix\n",
    "fig, ax = plot_confusion_matrix(conf_mat=matrix5,figsize=(6.9, 6.9), \n",
    "                                show_absolute=True,\n",
    "                                show_normed=True,\n",
    "                                colorbar=True)\n",
    "plt.title('KNN')\n",
    "plt.xlabel('Predicted Value')\n",
    "plt.ylabel('True Value')\n",
    "plt.show()\n",
    "\n",
    "print(f'Training Score: {knn.score(X_train, y_train)}')\n",
    "print(f'Testing  Score: {knn.score(X_test, y_test)}')\n",
    "print(classification_report(y_test, y_predictedknn))\n",
    "print(confusion_matrix(y_test, y_predictedknn))"
   ]
  },
  {
   "cell_type": "code",
   "execution_count": null,
   "id": "1f3d25db",
   "metadata": {},
   "outputs": [],
   "source": [
    "from sklearn.metrics import precision_score,recall_score,f1_score\n",
    "print('Precision: %.4f'%precision_score(y_test, y_predictedknn))\n",
    "print('Recall: %.4f' % recall_score(y_test,y_predictedknn))\n",
    "print('F1 score: %.4f' % f1_score(y_test,y_predictedknn))\n",
    "accuracy_score(y_test, y_predictedknn)"
   ]
  },
  {
   "cell_type": "code",
   "execution_count": null,
   "id": "7dd6ff54",
   "metadata": {},
   "outputs": [],
   "source": [
    "plot_roc_curve(knn,X_test, y_test)"
   ]
  },
  {
   "cell_type": "code",
   "execution_count": null,
   "id": "44942c17",
   "metadata": {},
   "outputs": [],
   "source": [
    "%%time\n",
    "from sklearn.neighbors import KNeighborsClassifier\n",
    "get_scores_sc(KNeighborsClassifier)"
   ]
  },
  {
   "cell_type": "markdown",
   "id": "deafe5f5",
   "metadata": {},
   "source": [
    "# ADABOOST"
   ]
  },
  {
   "cell_type": "code",
   "execution_count": null,
   "id": "2169fe79",
   "metadata": {},
   "outputs": [],
   "source": [
    "%%time\n",
    "from sklearn.ensemble import AdaBoostClassifier\n",
    "get_scores_sc(AdaBoostClassifier)\n"
   ]
  },
  {
   "cell_type": "code",
   "execution_count": null,
   "id": "d78037a9",
   "metadata": {},
   "outputs": [],
   "source": []
  },
  {
   "cell_type": "code",
   "execution_count": null,
   "id": "358e4ad0",
   "metadata": {},
   "outputs": [],
   "source": [
    "from sklearn.ensemble import AdaBoostClassifier\n",
    "from sklearn import metrics\n",
    "from sklearn.metrics import classification_report, confusion_matrix, accuracy_score\n",
    "adc=AdaBoostClassifier()\n",
    "adc.fit(X_train,y_train)\n",
    "y_predictedadc=adc.predict(X_test)\n",
    "matrix6=metrics.confusion_matrix(y_test,y_predictedadc)"
   ]
  },
  {
   "cell_type": "code",
   "execution_count": null,
   "id": "b3f3a0f6",
   "metadata": {},
   "outputs": [],
   "source": [
    "%%time\n",
    "from mlxtend.plotting import plot_confusion_matrix\n",
    "fig, ax = plot_confusion_matrix(conf_mat=matrix6,figsize=(6.9, 6.9), \n",
    "                                show_absolute=True,\n",
    "                                show_normed=True,\n",
    "                                colorbar=True)\n",
    "plt.title('ADABOOST')\n",
    "plt.xlabel('Predicted Value')\n",
    "plt.ylabel('True Value')\n",
    "plt.show()\n",
    "\n",
    "print(f'Training Score: {adc.score(X_train, y_train)}')\n",
    "print(f'Testing  Score: {adc.score(X_test, y_test)}')\n",
    "print(classification_report(y_test, y_predictedadc))\n",
    "print(confusion_matrix(y_test, y_predictedadc))"
   ]
  },
  {
   "cell_type": "code",
   "execution_count": null,
   "id": "ac006626",
   "metadata": {},
   "outputs": [],
   "source": [
    "from sklearn.metrics import precision_score,recall_score,f1_score\n",
    "print('Precision: %.4f'%precision_score(y_test, y_predictedadc))\n",
    "print('Recall: %.4f' % recall_score(y_test,y_predictedadc))\n",
    "print('F1 score: %.4f' % f1_score(y_test,y_predictedadc))\n",
    "accuracy_score(y_test, y_predictedadc)"
   ]
  },
  {
   "cell_type": "code",
   "execution_count": null,
   "id": "daa2774a",
   "metadata": {},
   "outputs": [],
   "source": [
    "plot_roc_curve(adc,X_test, y_test)"
   ]
  },
  {
   "cell_type": "markdown",
   "id": "6c0b5503",
   "metadata": {},
   "source": [
    "# Multilayer Perceptron"
   ]
  },
  {
   "cell_type": "code",
   "execution_count": null,
   "id": "9b623f25",
   "metadata": {},
   "outputs": [],
   "source": [
    "%%time\n",
    "from sklearn.neural_network import MLPClassifier\n",
    "get_scores_sc(MLPClassifier)"
   ]
  },
  {
   "cell_type": "code",
   "execution_count": null,
   "id": "a821eeb7",
   "metadata": {},
   "outputs": [],
   "source": [
    "%%time\n",
    "# Multilayer Perceptrons model\n",
    "from sklearn.neural_network import MLPClassifier\n",
    "\n",
    "# instantiate the model\n",
    "#model = MLPClassifier(alpha=0.001, hidden_layer_sizes=([100,100,100]))\n",
    "modelmlp= MLPClassifier()\n",
    "modelmlp\n",
    "# fit the model \n",
    "modelmlp.fit(X_train, y_train)\n",
    "#MLPClassifier(activation='relu', alpha=0.001, batch_size='auto', beta_1=0.9,\n",
    "              #beta_2=0.999, early_stopping=False, epsilon=1e-08,\n",
    "             # hidden_layer_sizes=[100, 100, 100], learning_rate='constant',\n",
    "             # learning_rate_init=0.001, max_fun=15000, max_iter=200,\n",
    "             # momentum=0.9, n_iter_no_change=10, nesterovs_momentum=True,\n",
    "             # power_t=0.5, random_state=None, shuffle=True, solver='adam',\n",
    "             # tol=0.0001, validation_fraction=0.1, verbose=False,\n",
    "            #  warm_start=False)\n",
    "y_predictedmlp=modelmlp.predict(X_test)\n",
    "matrix7=metrics.confusion_matrix(y_test,y_predictedmlp)\n",
    "\n",
    "from mlxtend.plotting import plot_confusion_matrix\n",
    "fig, ax = plot_confusion_matrix(conf_mat=matrix7,figsize=(6.9, 6.9), \n",
    "                                show_absolute=True,\n",
    "                                show_normed=True,\n",
    "                                colorbar=True)\n",
    "plt.title('Multilayer Perceptron')\n",
    "plt.xlabel('Predicted Value')\n",
    "plt.ylabel('True Value')\n",
    "plt.show()\n",
    "\n",
    "print(f'Training Score: {modelmlp.score(X_train, y_train)}')\n",
    "print(f'Testing  Score: {modelmlp.score(X_test, y_test)}')\n",
    "print(classification_report(y_test, y_predictedmlp))\n",
    "print(confusion_matrix(y_test, y_predictedmlp))"
   ]
  },
  {
   "cell_type": "code",
   "execution_count": null,
   "id": "b1b5b272",
   "metadata": {},
   "outputs": [],
   "source": [
    "%%time\n",
    "from mlxtend.plotting import plot_confusion_matrix\n",
    "fig, ax = plot_confusion_matrix(conf_mat=matrix7,figsize=(6.9, 6.9), \n",
    "                                show_absolute=True,\n",
    "                                show_normed=True,\n",
    "                                colorbar=True)\n",
    "plt.title('Multilayer Perceptron')\n",
    "plt.xlabel('Predicted Value')\n",
    "plt.ylabel('True Value')\n",
    "plt.show()\n",
    "\n",
    "print(f'Training Score: {modelmlp.score(X_train, y_train)}')\n",
    "print(f'Testing  Score: {modelmlp.score(X_test, y_test)}')\n",
    "print(classification_report(y_test, y_predictedmlp))\n",
    "print(confusion_matrix(y_test, y_predictedmlp))"
   ]
  },
  {
   "cell_type": "code",
   "execution_count": null,
   "id": "21aaee20",
   "metadata": {},
   "outputs": [],
   "source": [
    "from sklearn.metrics import precision_score,recall_score,f1_score\n",
    "print('Precision: %.4f'%precision_score(y_test, y_predictedmlp))\n",
    "print('Recall: %.4f' % recall_score(y_test,y_predictedmlp))\n",
    "print('F1 score: %.4f' % f1_score(y_test,y_predictedmlp))\n",
    "accuracy_score(y_test, y_predictedmlp)"
   ]
  },
  {
   "cell_type": "code",
   "execution_count": null,
   "id": "c8f10255",
   "metadata": {},
   "outputs": [],
   "source": []
  },
  {
   "cell_type": "markdown",
   "id": "c2a89b1e",
   "metadata": {},
   "source": [
    "## Gradient Boosting Classifier"
   ]
  },
  {
   "cell_type": "code",
   "execution_count": null,
   "id": "cade22fd",
   "metadata": {},
   "outputs": [],
   "source": [
    "from sklearn.metrics import precision_recall_curve\n",
    "from sklearn.metrics import plot_precision_recall_curve\n",
    "from sklearn.metrics import roc_curve\n",
    "from sklearn.metrics import plot_roc_curve"
   ]
  },
  {
   "cell_type": "code",
   "execution_count": null,
   "id": "7df540f1",
   "metadata": {},
   "outputs": [],
   "source": []
  },
  {
   "cell_type": "code",
   "execution_count": null,
   "id": "7c840537",
   "metadata": {},
   "outputs": [],
   "source": []
  },
  {
   "cell_type": "code",
   "execution_count": null,
   "id": "39b79c93",
   "metadata": {},
   "outputs": [],
   "source": []
  },
  {
   "cell_type": "code",
   "execution_count": null,
   "id": "e6e622d7",
   "metadata": {},
   "outputs": [],
   "source": []
  },
  {
   "cell_type": "code",
   "execution_count": null,
   "id": "0cbb5e16",
   "metadata": {},
   "outputs": [],
   "source": []
  },
  {
   "cell_type": "code",
   "execution_count": null,
   "id": "4238eed8",
   "metadata": {},
   "outputs": [],
   "source": []
  },
  {
   "cell_type": "code",
   "execution_count": null,
   "id": "94bd8268",
   "metadata": {},
   "outputs": [],
   "source": []
  },
  {
   "cell_type": "code",
   "execution_count": null,
   "id": "70f9a044",
   "metadata": {},
   "outputs": [],
   "source": []
  },
  {
   "cell_type": "markdown",
   "id": "3a6ec172",
   "metadata": {},
   "source": [
    "# Artificial Neural Network"
   ]
  },
  {
   "cell_type": "code",
   "execution_count": null,
   "id": "2fd5a384",
   "metadata": {},
   "outputs": [],
   "source": []
  },
  {
   "cell_type": "code",
   "execution_count": null,
   "id": "f0db2312",
   "metadata": {},
   "outputs": [],
   "source": []
  },
  {
   "cell_type": "code",
   "execution_count": null,
   "id": "842c19f5",
   "metadata": {},
   "outputs": [],
   "source": [
    "#importing required packages\n",
    "import keras\n",
    "from keras.layers import Input, Dense\n",
    "from keras import regularizers\n",
    "import tensorflow as tf\n",
    "from keras.models import Model\n",
    "from sklearn import metrics"
   ]
  },
  {
   "cell_type": "code",
   "execution_count": null,
   "id": "c56ec317",
   "metadata": {},
   "outputs": [],
   "source": [
    "X_train.shape[1]"
   ]
  },
  {
   "cell_type": "code",
   "execution_count": null,
   "id": "bd633d31",
   "metadata": {},
   "outputs": [],
   "source": [
    "modelks = keras.Sequential(\n",
    " [\n",
    " keras.layers.Dense(512, activation=\"relu\", input_shape=(X_train.shape[1],)),\n",
    " keras.layers.Dense(512, activation=\"relu\"),\n",
    " keras.layers.Dropout(0.3),\n",
    " keras.layers.Dense(256, activation=\"relu\"),\n",
    " keras.layers.Dropout(0.3),\n",
    " keras.layers.Dense(1, activation=\"sigmoid\"),\n",
    " ]\n",
    ")\n",
    "modelks.summary()"
   ]
  },
  {
   "cell_type": "code",
   "execution_count": null,
   "id": "be00d450",
   "metadata": {},
   "outputs": [],
   "source": [
    "modelks.compile(\n",
    " optimizer=keras.optimizers.Adam(1e-2), \n",
    " #optimizer='adam' ,  \n",
    " loss=\"binary_crossentropy\", \n",
    " metrics=[\"accuracy\"]\n",
    ")"
   ]
  },
  {
   "cell_type": "code",
   "execution_count": null,
   "id": "6605c0df",
   "metadata": {},
   "outputs": [],
   "source": [
    "%%time\n",
    "history = modelks.fit(\n",
    " X_train,\n",
    " y_train,\n",
    " batch_size=1024,\n",
    " epochs=100,\n",
    " verbose=2,\n",
    " validation_data = [X_test, y_test])"
   ]
  },
  {
   "cell_type": "code",
   "execution_count": null,
   "id": "23acc94b",
   "metadata": {},
   "outputs": [],
   "source": [
    "X_test.shape"
   ]
  },
  {
   "cell_type": "code",
   "execution_count": null,
   "id": "f59241b6",
   "metadata": {},
   "outputs": [],
   "source": [
    "acc_train_auto = modelks.evaluate(X_train, y_train)[1]\n",
    "acc_test_auto = modelks.evaluate(X_test, y_test)[1]\n",
    "\n",
    "print('\\nAutoencoder: Accuracy on training Data: {:.4f}' .format(acc_train_auto))\n",
    "print('Autoencoder: Accuracy on test Data: {:.4f}' .format(acc_test_auto))"
   ]
  },
  {
   "cell_type": "code",
   "execution_count": null,
   "id": "8aa3483b",
   "metadata": {},
   "outputs": [],
   "source": [
    "loss_train = history.history['accuracy']\n",
    "loss_val = history.history['val_accuracy']\n",
    "epochs = range(1,101)\n",
    "plt.plot(epochs, loss_train, 'g', label='Training accuracy')\n",
    "plt.plot(epochs, loss_val, 'b', label='validation accuracy')\n",
    "plt.title(' Artificial Neural Network')\n",
    "plt.xlabel('Epochs')\n",
    "plt.ylabel('Accuracy')\n",
    "plt.legend()\n",
    "plt.show()"
   ]
  },
  {
   "cell_type": "code",
   "execution_count": null,
   "id": "d3d002b4",
   "metadata": {},
   "outputs": [],
   "source": [
    "loss_train = history.history['accuracy']\n",
    "loss_val = history.history['val_accuracy']\n",
    "epochs = range(1,201)\n",
    "plt.plot(epochs, loss_train, 'g', label='Training accuracy')\n",
    "plt.plot(epochs, loss_val, 'b', label='validation accuracy')\n",
    "plt.title('Artificial Neural Network')\n",
    "plt.xlabel('Epochs')\n",
    "plt.ylabel('Accuracy')\n",
    "plt.legend()\n",
    "plt.show()"
   ]
  },
  {
   "cell_type": "code",
   "execution_count": null,
   "id": "2c608074",
   "metadata": {},
   "outputs": [],
   "source": [
    "loss_train = history.history['loss']\n",
    "loss_val = history.history['val_loss']\n",
    "epochs = range(1,101)\n",
    "plt.plot(epochs, loss_train, 'g', label='Training loss')\n",
    "plt.plot(epochs, loss_val, 'b', label='validation loss')\n",
    "plt.title(' Simple Artificial Neural Network')\n",
    "plt.xlabel('Epochs')\n",
    "plt.ylabel('Loss')\n",
    "plt.legend()\n",
    "plt.show()"
   ]
  },
  {
   "cell_type": "code",
   "execution_count": null,
   "id": "1a30b5c5",
   "metadata": {},
   "outputs": [],
   "source": [
    "loss_train = history.history['loss']\n",
    "loss_val = history.history['val_loss']\n",
    "epochs = range(1,101)\n",
    "plt.plot(epochs, loss_train, 'g', label='Training loss')\n",
    "plt.plot(epochs, loss_val, 'b', label='validation loss')\n",
    "plt.title(' Simple Artificial Neural Network')\n",
    "plt.xlabel('Epochs')\n",
    "plt.ylabel('Loss')\n",
    "plt.legend()\n",
    "plt.show()"
   ]
  },
  {
   "cell_type": "code",
   "execution_count": null,
   "id": "b3c96c59",
   "metadata": {},
   "outputs": [],
   "source": []
  },
  {
   "cell_type": "code",
   "execution_count": null,
   "id": "4f29fd22",
   "metadata": {},
   "outputs": [],
   "source": [
    "y_predictedANN=modelks.predict(X_test)\n",
    "matrixANN=metrics.confusion_matrix(y_test,y_predictedANN.round())\n",
    "print(y_predictedANN)\n",
    "#print(classification_report(y_test, y_predictedANN))"
   ]
  },
  {
   "cell_type": "code",
   "execution_count": null,
   "id": "4c9adf18",
   "metadata": {},
   "outputs": [],
   "source": [
    "%%time\n",
    "from mlxtend.plotting import plot_confusion_matrix\n",
    "fig, ax = plot_confusion_matrix(conf_mat=matrixANN,figsize=(6.9, 6.9), \n",
    "                                show_absolute=True,\n",
    "                                show_normed=True,\n",
    "                                colorbar=True)\n",
    "plt.title('Artificial Neural Network')\n",
    "plt.xlabel('Predicted Value')\n",
    "plt.ylabel('True Value')\n",
    "plt.show()\n",
    "\n",
    "#print(f'Training Score: {modelks.score(X_train_sc, y_train)}')\n",
    "#print(f'Testing  Score: {modelks.score(X_test_sc, y_test)}')\n",
    "print(classification_report(y_test, y_predictedANN.round()))\n",
    "print(confusion_matrix(y_test, y_predictedANN.round()))"
   ]
  },
  {
   "cell_type": "code",
   "execution_count": null,
   "id": "68d941fc",
   "metadata": {},
   "outputs": [],
   "source": [
    "from sklearn.metrics import precision_score,recall_score,f1_score\n",
    "print('Precision: %.4f'%precision_score(y_test, y_predictedANN.round()))\n",
    "print('Recall: %.4f' % recall_score(y_test,y_predictedANN.round()))\n",
    "print('F1 score: %.4f' % f1_score(y_test,y_predictedANN.round()))\n",
    "accuracy_score(y_test, y_predictedANN.round())"
   ]
  },
  {
   "cell_type": "code",
   "execution_count": null,
   "id": "a99c3053",
   "metadata": {},
   "outputs": [],
   "source": []
  },
  {
   "cell_type": "code",
   "execution_count": null,
   "id": "503374c8",
   "metadata": {},
   "outputs": [],
   "source": [
    "from imblearn.over_sampling import SMOTE"
   ]
  },
  {
   "cell_type": "code",
   "execution_count": null,
   "id": "933cadc0",
   "metadata": {},
   "outputs": [],
   "source": [
    "X_resample,y_resample=SMOTE().fit_resample(X,y.values.ravel())\n",
    "y_resample=pd.DataFrame(y_resample)\n",
    "X_resample=pd.DataFrame(X_resample)"
   ]
  },
  {
   "cell_type": "code",
   "execution_count": null,
   "id": "a59532f2",
   "metadata": {},
   "outputs": [],
   "source": [
    "X_train, X_test, y_train, y_test = train_test_split(X_resample, y_resample, test_size = 0.2, random_state=0)"
   ]
  },
  {
   "cell_type": "code",
   "execution_count": null,
   "id": "2e694d11",
   "metadata": {},
   "outputs": [],
   "source": [
    "X_train = np.array(X_train)\n",
    "X_test=np.array(X_test)\n",
    "y_train=np.array(y_train)\n",
    "y_test=np.array(y_test)"
   ]
  },
  {
   "cell_type": "code",
   "execution_count": null,
   "id": "cce1b061",
   "metadata": {},
   "outputs": [],
   "source": [
    "modelks.compile(\n",
    " optimizer=keras.optimizers.Adam(1e-2), \n",
    " loss=\"binary_crossentropy\", \n",
    " metrics=[\"accuracy\"]\n",
    ")"
   ]
  },
  {
   "cell_type": "code",
   "execution_count": null,
   "id": "8513127f",
   "metadata": {},
   "outputs": [],
   "source": [
    "history = modelks.fit(\n",
    " X_train,\n",
    " y_train,\n",
    " batch_size=2048,\n",
    " epochs=100,\n",
    " verbose=2,\n",
    " validation_data = [X_test, y_test])"
   ]
  },
  {
   "cell_type": "code",
   "execution_count": null,
   "id": "d5d921c9",
   "metadata": {},
   "outputs": [],
   "source": []
  },
  {
   "cell_type": "code",
   "execution_count": null,
   "id": "2df17e52",
   "metadata": {},
   "outputs": [],
   "source": []
  },
  {
   "cell_type": "code",
   "execution_count": null,
   "id": "7b5581dc",
   "metadata": {},
   "outputs": [],
   "source": []
  },
  {
   "cell_type": "code",
   "execution_count": null,
   "id": "f3a83866",
   "metadata": {},
   "outputs": [],
   "source": []
  },
  {
   "cell_type": "code",
   "execution_count": null,
   "id": "044e8dbd",
   "metadata": {},
   "outputs": [],
   "source": []
  },
  {
   "cell_type": "code",
   "execution_count": null,
   "id": "5ea58f31",
   "metadata": {},
   "outputs": [],
   "source": []
  },
  {
   "cell_type": "code",
   "execution_count": null,
   "id": "7b1ba793",
   "metadata": {},
   "outputs": [],
   "source": []
  },
  {
   "cell_type": "markdown",
   "id": "8e0706f4",
   "metadata": {},
   "source": [
    "# naive bayes"
   ]
  },
  {
   "cell_type": "code",
   "execution_count": null,
   "id": "2eaa4b32",
   "metadata": {},
   "outputs": [],
   "source": [
    "from sklearn.naive_bayes import GaussianNB"
   ]
  },
  {
   "cell_type": "code",
   "execution_count": null,
   "id": "a6cec5f9",
   "metadata": {},
   "outputs": [],
   "source": [
    "gnb = GaussianNB()\n",
    "gnb.fit(X_train,y_train)\n",
    "y_predictedgnb=gnb.predict(X_test)\n",
    "matrixgnb=metrics.confusion_matrix(y_test,y_predictedgnb)"
   ]
  },
  {
   "cell_type": "code",
   "execution_count": null,
   "id": "68c36e11",
   "metadata": {},
   "outputs": [],
   "source": [
    "%%time\n",
    "from mlxtend.plotting import plot_confusion_matrix\n",
    "fig, ax = plot_confusion_matrix(conf_mat=matrixgnb,figsize=(6.9, 6.9), \n",
    "                                show_absolute=True,\n",
    "                                show_normed=True,\n",
    "                                colorbar=True)\n",
    "plt.title('Naive Bayes')\n",
    "plt.xlabel('Predicted Value')\n",
    "plt.ylabel('True Value')\n",
    "plt.show()\n",
    "\n",
    "print(f'Training Score: {gnb.score(X_train, y_train)}')\n",
    "print(f'Testing  Score: {gnb.score(X_test, y_test)}')\n",
    "print(classification_report(y_test, y_predictedgnb))\n",
    "print(confusion_matrix(y_test, y_predictedgnb))"
   ]
  },
  {
   "cell_type": "code",
   "execution_count": null,
   "id": "3304fef9",
   "metadata": {},
   "outputs": [],
   "source": [
    "get_scores_sc(GaussianNB)\n"
   ]
  },
  {
   "cell_type": "code",
   "execution_count": null,
   "id": "2942221f",
   "metadata": {},
   "outputs": [],
   "source": [
    "from sklearn.metrics import precision_score,recall_score,f1_score\n",
    "print('Precision: %.4f'%precision_score(y_test,  y_predictedgnb))\n",
    "print('Recall: %.4f' % recall_score(y_test, y_predictedgnb))\n",
    "print('F1 score: %.4f' % f1_score(y_test, y_predictedgnb))\n",
    "accuracy_score(y_test,  y_predictedgnb)"
   ]
  },
  {
   "cell_type": "code",
   "execution_count": null,
   "id": "18aafcad",
   "metadata": {},
   "outputs": [],
   "source": [
    "plot_roc_curve(gnb,X_test, y_test)"
   ]
  },
  {
   "cell_type": "code",
   "execution_count": null,
   "id": "db896424",
   "metadata": {},
   "outputs": [],
   "source": []
  },
  {
   "cell_type": "code",
   "execution_count": null,
   "id": "e1489bb7",
   "metadata": {},
   "outputs": [],
   "source": []
  },
  {
   "cell_type": "code",
   "execution_count": null,
   "id": "49642a2e",
   "metadata": {},
   "outputs": [],
   "source": [
    "from imblearn.over_sampling import SMOTE\n",
    "sm = SMOTE(random_state=42)\n",
    "X_res, y_res = sm.fit_resample(X_train, y_train)"
   ]
  },
  {
   "cell_type": "code",
   "execution_count": null,
   "id": "f8391023",
   "metadata": {},
   "outputs": [],
   "source": [
    "gnb = GaussianNB()\n",
    "gnb.fit(X_res, y_res)\n",
    "y_predictedgnb=gnb.predict(X_test)\n",
    "matrixgnb=metrics.confusion_matrix(y_test,y_predictedgnb)"
   ]
  },
  {
   "cell_type": "code",
   "execution_count": null,
   "id": "0dda7083",
   "metadata": {},
   "outputs": [],
   "source": [
    "from sklearn.metrics import precision_score,recall_score,f1_score\n",
    "print('Precision: %.3f'%precision_score(y_test,  y_predictedgnb))\n",
    "print('Recall: %.3f' % recall_score(y_test, y_predictedgnb))\n",
    "print('F1 score: %.3f' % f1_score(y_test, y_predictedgnb))\n",
    "accuracy_score(y_test,  y_predictedgnb)"
   ]
  },
  {
   "cell_type": "code",
   "execution_count": null,
   "id": "e0065f78",
   "metadata": {},
   "outputs": [],
   "source": [
    "print(confusion_matrix(y_test, y_predictedgnb))\n",
    "print(classification_report(y_test, y_predictedgnb))"
   ]
  },
  {
   "cell_type": "code",
   "execution_count": null,
   "id": "d379452d",
   "metadata": {},
   "outputs": [],
   "source": []
  },
  {
   "cell_type": "code",
   "execution_count": null,
   "id": "e00eebab",
   "metadata": {},
   "outputs": [],
   "source": []
  },
  {
   "cell_type": "markdown",
   "id": "60be9aed",
   "metadata": {},
   "source": []
  },
  {
   "cell_type": "code",
   "execution_count": null,
   "id": "4efe0f9f",
   "metadata": {},
   "outputs": [],
   "source": []
  },
  {
   "cell_type": "code",
   "execution_count": null,
   "id": "b4320afd",
   "metadata": {},
   "outputs": [],
   "source": []
  },
  {
   "cell_type": "code",
   "execution_count": null,
   "id": "feaed9f5",
   "metadata": {},
   "outputs": [],
   "source": []
  },
  {
   "cell_type": "code",
   "execution_count": null,
   "id": "3ff19fda",
   "metadata": {},
   "outputs": [],
   "source": []
  },
  {
   "cell_type": "markdown",
   "id": "1b97de52",
   "metadata": {},
   "source": [
    "# AUTOENCODER"
   ]
  },
  {
   "cell_type": "code",
   "execution_count": null,
   "id": "e861bde5",
   "metadata": {},
   "outputs": [],
   "source": [
    "#importing required packages\n",
    "import keras\n",
    "from keras.layers import Input, Dense\n",
    "from keras import regularizers\n",
    "import tensorflow as tf\n",
    "from keras.models import Model\n",
    "from sklearn import metrics\n",
    "from tensorflow.keras import layers, losses\n",
    "import numpy as np\n",
    "import pandas as pd\n",
    "import tensorflow as tf\n",
    "import matplotlib.pyplot as plt\n",
    "from sklearn.metrics import accuracy_score\n",
    "from tensorflow.keras.optimizers import Adam\n",
    "from sklearn.preprocessing import MinMaxScaler\n",
    "from tensorflow.keras import Model, Sequential\n",
    "from tensorflow.keras.layers import Dense, Dropout\n",
    "#from sklearn.model_selection import train_test_split\n",
    "from tensorflow.keras.losses import MeanSquaredLogarithmicError"
   ]
  },
  {
   "cell_type": "code",
   "execution_count": null,
   "id": "5699c638",
   "metadata": {},
   "outputs": [],
   "source": [
    "from tensorflow.keras.layers import Dense, Dropout\n",
    "\n",
    "class AutoEncoder(Model):\n",
    " \n",
    "\n",
    "  def __init__(self, output_units):\n",
    "    super().__init__()\n",
    "    self.encoder = Sequential([\n",
    "      Dense(output_units, activation='relu'),\n",
    "      Dense(64, activation='relu'),\n",
    "      Dense(output_units, activation='relu'),\n",
    "      Dense(32, activation='relu'),\n",
    "      \n",
    "    ])\n",
    "    self.decoder = Sequential([\n",
    "      Dense(16, activation='relu'),   \n",
    "      Dense(output_units, activation='sigmoid'),\n",
    "      Dense(output_units, activation='relu'),\n",
    "      Dense(70, activation='relu'),\n",
    "    ])\n",
    "  \n",
    "  def call(self, inputs):\n",
    "    encoded = self.encoder(inputs)\n",
    "    decoded = self.decoder(encoded)\n",
    "    return decoded\n",
    "  \n",
    "modeland = AutoEncoder(output_units=X_train_sc.shape[1])\n",
    "# configurations of model\n",
    "modeland.compile(optimizer='adam', loss='msle',  metrics=['accuracy'])"
   ]
  },
  {
   "cell_type": "code",
   "execution_count": null,
   "id": "1fea7382",
   "metadata": {},
   "outputs": [],
   "source": []
  },
  {
   "cell_type": "code",
   "execution_count": null,
   "id": "c9e820a5",
   "metadata": {},
   "outputs": [],
   "source": [
    "from keras.callbacks import ModelCheckpoint, EarlyStopping"
   ]
  },
  {
   "cell_type": "code",
   "execution_count": null,
   "id": "6bf89169",
   "metadata": {},
   "outputs": [],
   "source": [
    "%%time\n",
    "#from sklearn.model_selection import GridSearchCV, cross_val_score\n",
    "#batch_size1 = [10, 20, 40, 60, 80, 100]\n",
    "#epochs1 = [10, 50, 100]\n",
    "#param_grid = dict(batch_size=batch_size1, epochs=epochs1)\n",
    "\n",
    "#grid = GridSearchCV(estimator=Model, param_grid=param_grid, n_jobs=-1, cv=3)\n",
    "#qw= cross_val_score(autoencoder,X_test_sc, y_test)\n",
    "#grid_result = grid.fit(X_test_sc, y_test, qw)\n",
    "#cross_val_score(autoencoder,X_test_sc, y_test)\n",
    "\n",
    "#print(\"Best: %f using %s\" % (grid_result.best_score_, grid_result.best_params_))\n",
    "\n",
    "history= modeland.fit(X_train_sc, X_train_sc,\n",
    "                batch_size=1024,epochs=30,verbose=2,\n",
    "                shuffle=True,\n",
    "                validation_data=(X_test_sc, X_test_sc))\n"
   ]
  },
  {
   "cell_type": "code",
   "execution_count": null,
   "id": "4f7537de",
   "metadata": {},
   "outputs": [],
   "source": [
    "modeland.summary()"
   ]
  },
  {
   "cell_type": "code",
   "execution_count": null,
   "id": "9c7bd5f6",
   "metadata": {},
   "outputs": [],
   "source": [
    "acc_train_auto = modeland.evaluate(X_train_sc, X_train_sc)[1]\n",
    "acc_test_auto = modeland.evaluate(X_test_sc, X_test_sc)[1]\n",
    "\n",
    "print('\\nAutoencoder: Accuracy on training Data: {:}' .format(acc_train_auto))\n",
    "print('Autoencoder: Accuracy on test Data: {:}' .format(acc_test_auto))"
   ]
  },
  {
   "cell_type": "code",
   "execution_count": null,
   "id": "c931a87b",
   "metadata": {},
   "outputs": [],
   "source": [
    "len(X_train_sc)"
   ]
  },
  {
   "cell_type": "code",
   "execution_count": null,
   "id": "b5d6fbbf",
   "metadata": {},
   "outputs": [],
   "source": [
    "len(X_test_sc)"
   ]
  },
  {
   "cell_type": "code",
   "execution_count": null,
   "id": "372362e1",
   "metadata": {},
   "outputs": [],
   "source": [
    "loss_train = history.history['accuracy']\n",
    "loss_val = history.history['val_accuracy']\n",
    "epochs = range(1,31)\n",
    "plt.plot(epochs, loss_train, 'g', label='Training accuracy')\n",
    "plt.plot(epochs, loss_val, 'b', label='validation accuracy')\n",
    "plt.title(' Autoencoder Training and Validation accuracy')\n",
    "plt.xlabel('Epochs')\n",
    "plt.ylabel('Accuracy')\n",
    "plt.legend()\n",
    "plt.show()"
   ]
  },
  {
   "cell_type": "code",
   "execution_count": null,
   "id": "10f7b5f5",
   "metadata": {},
   "outputs": [],
   "source": [
    "loss_train = history.history['accuracy']\n",
    "loss_val = history.history['val_accuracy']\n",
    "epochs = range(1,31)\n",
    "plt.plot(epochs, loss_train, 'g', label='Training accuracy')\n",
    "plt.plot(epochs, loss_val, 'b', label='validation accuracy')\n",
    "plt.title(' Autoencoder Training and Validation accuracy')\n",
    "plt.xlabel('Epochs')\n",
    "plt.ylabel('Accuracy')\n",
    "plt.legend()\n",
    "plt.show()"
   ]
  },
  {
   "cell_type": "code",
   "execution_count": null,
   "id": "5c1968d5",
   "metadata": {},
   "outputs": [],
   "source": [
    "******\n",
    "from keras.models import Sequential\n",
    "from keras.layers import Dense\n",
    "from keras.utils.vis_utils import plot_model\n",
    "model = Sequential()\n",
    "model.add(Dense(2, input_dim=1, activation='relu'))\n",
    "model.add(Dense(1, activation='sigmoid'))\n",
    "plot_model(model, to_file='model_plot.png', show_shapes=True, show_layer_names=True)"
   ]
  },
  {
   "cell_type": "code",
   "execution_count": null,
   "id": "6a327dda",
   "metadata": {},
   "outputs": [],
   "source": [
    "#!pip install pydot"
   ]
  },
  {
   "cell_type": "code",
   "execution_count": null,
   "id": "7a7b449a",
   "metadata": {},
   "outputs": [],
   "source": [
    "#!pip install ann_visualizer"
   ]
  },
  {
   "cell_type": "code",
   "execution_count": null,
   "id": "1a029d9f",
   "metadata": {},
   "outputs": [],
   "source": [
    "#plot_model(model, show_shapes=True, show_layer_names=True)"
   ]
  },
  {
   "cell_type": "code",
   "execution_count": null,
   "id": "7ed86080",
   "metadata": {},
   "outputs": [],
   "source": [
    "loss_train = history.history['loss']\n",
    "loss_val = history.history['val_loss']\n",
    "epochs = range(1,31)\n",
    "plt.plot(epochs, loss_val, 'g', label='Training loss')\n",
    "plt.plot(epochs, loss_train, 'b', label='validation loss')\n",
    "plt.title('Autoencoder Training and Validation loss')\n",
    "plt.xlabel('Epochs')\n",
    "plt.ylabel('Loss')\n",
    "plt.legend()\n",
    "plt.show()"
   ]
  },
  {
   "cell_type": "code",
   "execution_count": null,
   "id": "f5274ba7",
   "metadata": {},
   "outputs": [],
   "source": [
    "loss_train = history.history['loss']\n",
    "loss_val = history.history['val_loss']\n",
    "epochs = range(1,31)\n",
    "plt.plot(epochs, loss_train, 'g', label='Training loss')\n",
    "plt.plot(epochs, loss_val, 'b', label='validation loss')\n",
    "plt.title('Autoencoder Training and Validation loss')\n",
    "plt.xlabel('Epochs')\n",
    "plt.ylabel('Loss')\n",
    "plt.legend()\n",
    "plt.show()"
   ]
  },
  {
   "cell_type": "code",
   "execution_count": null,
   "id": "123cbf66",
   "metadata": {},
   "outputs": [],
   "source": [
    "from sklearn.metrics import precision_score, recall_score, confusion_matrix, classification_report, accuracy_score, f1_score, ConfusionMatrixDisplay, plot_confusion_matrix\n"
   ]
  },
  {
   "cell_type": "code",
   "execution_count": null,
   "id": "c4798a44",
   "metadata": {},
   "outputs": [],
   "source": [
    "%%time\n",
    "from mlxtend.plotting import plot_confusion_matrix\n",
    "fig, ax = plot_confusion_matrix(conf_mat=Model,figsize=(6.9, 6.9), \n",
    "                                show_absolute=True,\n",
    "                                show_normed=True,\n",
    "                                colorbar=True)\n",
    "plt.title('Autoencoder')\n",
    "plt.xlabel('Predicted Value')\n",
    "plt.ylabel('True Value')\n",
    "plt.show()\n",
    "\n",
    "print(f'Training Score: {modeland.evaluate(X_train_sc, X_train_sc)}')\n",
    "print(f'Testing  Score: {modeland.evaluate(X_test_sc, X_test_sc)}')\n",
    "print(classification_report(y_test, history))\n",
    "print(confusion_matrix(y_test, history))"
   ]
  },
  {
   "cell_type": "code",
   "execution_count": null,
   "id": "01a9c3ee",
   "metadata": {},
   "outputs": [],
   "source": [
    "import tensorflow as tf"
   ]
  },
  {
   "cell_type": "markdown",
   "id": "b5c0f5e0",
   "metadata": {},
   "source": [
    "# CNN"
   ]
  },
  {
   "cell_type": "code",
   "execution_count": null,
   "id": "6db042db",
   "metadata": {},
   "outputs": [],
   "source": [
    "from tensorflow.keras.layers import BatchNormalization\n",
    "#import all the libraries for deep learning\n",
    "import tensorflow.keras\n",
    "from tensorflow.keras.layers import Dense,Conv1D,MaxPooling1D,Dropout,Flatten\n",
    "from tensorflow.keras.models import Sequential\n",
    "from tensorflow.keras.initializers import he_normal,he_uniform,glorot_normal,glorot_uniform,RandomNormal,RandomUniform\n",
    "from keras.utils import np_utils\n",
    "from tensorflow.keras.datasets import mnist\n",
    "import tensorflow.keras.backend as k"
   ]
  },
  {
   "cell_type": "code",
   "execution_count": null,
   "id": "a12fcc21",
   "metadata": {},
   "outputs": [],
   "source": [
    "X_train.shape"
   ]
  },
  {
   "cell_type": "code",
   "execution_count": null,
   "id": "565ff0d3",
   "metadata": {},
   "outputs": [],
   "source": [
    "from tensorflow import keras\n",
    "from tensorflow.keras import layers\n",
    "from keras.layers.convolutional import Conv1D    \n",
    "from keras.models import Sequential    \n",
    "from keras.optimizers import Adam    \n",
    "\n",
    "modelknn11 = keras.Sequential(\n",
    "    [\n",
    "    layers.BatchNormalization(input_shape=(20, 1)),\n",
    "    layers.Conv1D(filters=128,kernel_size=3,activation='relu'),\n",
    "    layers.BatchNormalization(),\n",
    "    layers.Conv1D(filters=64,kernel_size=3,activation='relu'),\n",
    "    layers.BatchNormalization(),\n",
    "    layers.MaxPooling1D(pool_size=2) ,\n",
    "    layers.Dropout(0.3),\n",
    "    layers.Flatten(), # flatten out the layers\n",
    "    layers.Dense(128,activation='relu'),\n",
    "    #layers.BatchNormalization(),\n",
    "    layers.Dropout(0.1),\n",
    "    layers.Dense(128,activation='relu'),\n",
    "    #layers.BatchNormalization(),\n",
    "    layers.Dropout(0.1),\n",
    "    layers.Dense(1, activation='sigmoid'),\n",
    "    ]\n",
    ")\n",
    "modelknn11.summary()\n",
    "\n"
   ]
  },
  {
   "cell_type": "code",
   "execution_count": null,
   "id": "e472f541",
   "metadata": {
    "scrolled": true
   },
   "outputs": [],
   "source": [
    "******\n",
    "model_3=Sequential()\n",
    "model_3.add(Conv1D(filters=256,kernel_size=4, activation='relu', input_shape=(30,1)))\n",
    "model_3.add(BatchNormalization())\n",
    "model_3.add(Dropout(0.1))\n",
    "model_3.add(Conv1D(filters=128,kernel_size=3, activation='relu'))\n",
    "model_3.add(BatchNormalization())\n",
    "model_3.add(Dropout(0.2))\n",
    "model_3.add(Conv1D(filters=128,kernel_size=1,activation='relu'))\n",
    "model_3.add(BatchNormalization())\n",
    "model_3.add(Dropout(0.3))\n",
    "model_3.add(MaxPooling1D(pool_size=4))\n",
    "model_3.add(Dropout(0.3))\n",
    "model_3.add(MaxPooling1D(pool_size=3))\n",
    "model_3.add(Dropout(0.2))\n",
    "model_3.add(Flatten())\n",
    "model_3.add(Dropout(0.1))\n",
    "model_3.add(Dense(256, activation='relu'))\n",
    "model_3.add(Dropout(0.1))\n",
    "model_3.add(Dense(1, activation='sigmoid'))\n",
    "model_3.summary()"
   ]
  },
  {
   "cell_type": "code",
   "execution_count": null,
   "id": "08535c7f",
   "metadata": {},
   "outputs": [],
   "source": [
    "model_3.compile(\n",
    " #optimizer='adam', \n",
    " optimizer=keras.optimizers.Adam(1e-2),\n",
    " loss=\"binary_crossentropy\", \n",
    " metrics=[\"accuracy\"]\n",
    ")"
   ]
  },
  {
   "cell_type": "code",
   "execution_count": null,
   "id": "b660bb53",
   "metadata": {},
   "outputs": [],
   "source": [
    "%%time\n",
    "history = model_3.fit(\n",
    " X_train,\n",
    " y_train,\n",
    " batch_size=2048,\n",
    " epochs=50,\n",
    " verbose=2,\n",
    " validation_data = [X_test, y_test])"
   ]
  },
  {
   "cell_type": "code",
   "execution_count": null,
   "id": "fd7ec8fa",
   "metadata": {},
   "outputs": [],
   "source": [
    "acc_train_auto1 = model_3.evaluate(X_train, y_train)[1]\n",
    "acc_test_auto1 = model_3.evaluate(X_test, y_test)[1]\n",
    "\n",
    "print('\\nCNN: Accuracy on training Data: {:.6f}' .format(acc_train_auto1))\n",
    "print('CNN: Accuracy on test Data: {:.4f}' .format(acc_test_auto1))"
   ]
  },
  {
   "cell_type": "code",
   "execution_count": null,
   "id": "08af2679",
   "metadata": {},
   "outputs": [],
   "source": [
    "loss_train = history.history['accuracy']\n",
    "loss_val = history.history['val_accuracy']\n",
    "epochs = range(1,101)\n",
    "plt.plot(epochs, loss_train, 'g', label='Training accuracy')\n",
    "plt.plot(epochs, loss_val, 'b', label='validation accuracy')\n",
    "plt.title('CNN Training and Validation accuracy')\n",
    "plt.xlabel('Epochs')\n",
    "plt.ylabel('Accuracy')\n",
    "plt.legend()\n",
    "plt.show()"
   ]
  },
  {
   "cell_type": "code",
   "execution_count": null,
   "id": "a72c6e20",
   "metadata": {},
   "outputs": [],
   "source": [
    "loss_train = history.history['loss']\n",
    "loss_val = history.history['val_loss']\n",
    "epochs = range(1,101)\n",
    "plt.plot(epochs, loss_train, 'g', label='Training loss')\n",
    "plt.plot(epochs, loss_val, 'b', label='validation loss')\n",
    "plt.title('CNN Training and Validation loss')\n",
    "plt.xlabel('Epochs')\n",
    "plt.ylabel('Loss')\n",
    "\n",
    "plt.show()\n",
    "\n"
   ]
  },
  {
   "cell_type": "code",
   "execution_count": 50,
   "id": "7b6ab3e7",
   "metadata": {},
   "outputs": [
    {
     "data": {
      "text/plain": [
       "(9023, 20)"
      ]
     },
     "execution_count": 50,
     "metadata": {},
     "output_type": "execute_result"
    }
   ],
   "source": [
    "X_train.shape"
   ]
  },
  {
   "cell_type": "code",
   "execution_count": null,
   "id": "0e557dab",
   "metadata": {},
   "outputs": [],
   "source": [
    "print(X_train_sc[1].shape)"
   ]
  },
  {
   "cell_type": "code",
   "execution_count": null,
   "id": "6a9dd878",
   "metadata": {},
   "outputs": [],
   "source": [
    "modelknn11.compile(\n",
    " optimizer=keras.optimizers.Adam(1e-2), \n",
    " #optimizer='adam',\n",
    " loss=\"binary_crossentropy\", \n",
    " metrics=[\"accuracy\"]\n",
    ")"
   ]
  },
  {
   "cell_type": "code",
   "execution_count": null,
   "id": "83e2b8b3",
   "metadata": {},
   "outputs": [],
   "source": [
    "%%time\n",
    "history = modelknn11.fit(\n",
    " X_train,\n",
    " y_train,\n",
    " batch_size=512,\n",
    " epochs=100,\n",
    " verbose=2,\n",
    " validation_data = [X_test, y_test])"
   ]
  },
  {
   "cell_type": "code",
   "execution_count": null,
   "id": "380d7a24",
   "metadata": {},
   "outputs": [],
   "source": [
    "acc_train_auto1 = modelknn11.evaluate(X_train, y_train)[1]\n",
    "acc_test_auto1 = modelknn11.evaluate(X_test, y_test)[1]\n",
    "\n",
    "print('\\nCNN: Accuracy on training Data: {:.6f}' .format(acc_train_auto1))\n",
    "print('CNN: Accuracy on test Data: {:.4f}' .format(acc_test_auto1))"
   ]
  },
  {
   "cell_type": "code",
   "execution_count": null,
   "id": "9f140e76",
   "metadata": {},
   "outputs": [],
   "source": [
    "loss_train = history.history['accuracy']\n",
    "loss_val = history.history['val_accuracy']\n",
    "epochs = range(1,101)\n",
    "plt.plot(epochs, loss_train, 'g', label='Training accuracy')\n",
    "plt.plot(epochs, loss_val, 'b', label='validation accuracy')\n",
    "plt.title('CNN Training and Validation accuracy')\n",
    "plt.xlabel('Epochs')\n",
    "plt.ylabel('Accuracy')\n",
    "plt.legend()\n",
    "plt.show()"
   ]
  },
  {
   "cell_type": "code",
   "execution_count": null,
   "id": "cd7935aa",
   "metadata": {},
   "outputs": [],
   "source": [
    "loss_train = history.history['loss']\n",
    "loss_val = history.history['val_loss']\n",
    "epochs = range(1,101)\n",
    "plt.plot(epochs, loss_train, 'g', label='Training loss')\n",
    "plt.plot(epochs, loss_val, 'b', label='validation loss')\n",
    "plt.title('CNN Training and Validation loss')\n",
    "plt.xlabel('Epochs')\n",
    "plt.ylabel('Loss')\n",
    "\n",
    "plt.show()"
   ]
  },
  {
   "cell_type": "code",
   "execution_count": null,
   "id": "a0020eef",
   "metadata": {},
   "outputs": [],
   "source": [
    "\n",
    "y_predictedCNN=modelknn11.predict(X_test)\n",
    "matrixCNN=metrics.confusion_matrix(y_test,y_predictedCNN.round())\n",
    "print(y_predictedCNN)\n",
    "#print(classification_report(y_test, y_predictedANN))\n",
    "\n",
    "\n",
    "\n"
   ]
  },
  {
   "cell_type": "code",
   "execution_count": null,
   "id": "998cb4ff",
   "metadata": {},
   "outputs": [],
   "source": [
    "%%time\n",
    "from mlxtend.plotting import plot_confusion_matrix\n",
    "fig, ax = plot_confusion_matrix(conf_mat=matrixCNN,figsize=(6.9, 6.9), \n",
    "                                show_absolute=True,\n",
    "                                show_normed=True,\n",
    "                                colorbar=True)\n",
    "plt.title('Convolutional Neural Network')\n",
    "plt.xlabel('Predicted Value')\n",
    "plt.ylabel('True Value')\n",
    "plt.show()\n",
    "\n",
    "#print(f'Training Score: {modelks.score(X_train_sc, y_train)}')\n",
    "#print(f'Testing  Score: {modelks.score(X_test_sc, y_test)}')\n",
    "print(classification_report(y_test, y_predictedCNN.round()))\n",
    "print(confusion_matrix(y_test, y_predictedCNN.round()))"
   ]
  },
  {
   "cell_type": "code",
   "execution_count": null,
   "id": "10dd37e5",
   "metadata": {},
   "outputs": [],
   "source": [
    "from sklearn.metrics import precision_score,recall_score,f1_score\n",
    "print('Precision: %.4f'%precision_score(y_test, y_predictedCNN.round()))\n",
    "print('Recall: %.4f' % recall_score(y_test,y_predictedCNN.round()))\n",
    "print('F1 score: %.4f' % f1_score(y_test,y_predictedCNN.round()))\n",
    "accuracy_score(y_test, y_predictedCNN.round())"
   ]
  },
  {
   "cell_type": "markdown",
   "id": "cc205e6c",
   "metadata": {},
   "source": [
    "# LSTM"
   ]
  },
  {
   "cell_type": "code",
   "execution_count": null,
   "id": "1f94b36a",
   "metadata": {},
   "outputs": [],
   "source": [
    "from tensorflow import keras\n",
    "from tensorflow.keras import layers\n",
    "\n",
    "\n",
    "modelLSTM = keras.Sequential(\n",
    "    [\n",
    "   \n",
    "    layers.LSTM(256, input_shape=(76,1), return_sequences=True),\n",
    "    layers.Dropout(0.5),\n",
    "    \n",
    "    layers.LSTM(128, return_sequences=False),\n",
    "    layers.Dropout(0.3),\n",
    "    layers.Flatten(), # flatten out the layers\n",
    "    layers.Dense(256,activation='relu'),\n",
    "    \n",
    "    layers.Dropout(0.3),\n",
    "    #layers.Dense(128,activation='relu'),\n",
    "    #layers.Dropout(0.3),\n",
    "    layers.Dense(128,activation='relu'),\n",
    "    \n",
    "    \n",
    "    layers.Dropout(0.3),\n",
    "    layers.Dense(1, activation='sigmoid'),\n",
    "    ]\n",
    ")\n",
    "modelLSTM.summary()"
   ]
  },
  {
   "cell_type": "code",
   "execution_count": null,
   "id": "cf4d8358",
   "metadata": {},
   "outputs": [],
   "source": [
    "from tensorflow import keras\n",
    "from tensorflow.keras import layers\n",
    "\n",
    "\n",
    "modelLSTM1 = keras.Sequential(\n",
    "    [\n",
    "   \n",
    "    layers.LSTM(256, input_shape=(30,1), return_sequences= True),\n",
    "    layers.Dropout(0.5),\n",
    "    \n",
    "    layers.LSTM(128, return_sequences=False),\n",
    "    layers.Dropout(0.3),\n",
    "    #layers.Flatten(), # flatten out the layers\n",
    "    layers.Dense(256,activation='relu'),\n",
    "    \n",
    "    layers.Dropout(0.3),\n",
    "    #layers.Dense(128,activation='relu'),\n",
    "    #layers.Dropout(0.3),\n",
    "    layers.Dense(128,activation='relu'),\n",
    "    \n",
    "    \n",
    "    layers.Dropout(0.3),\n",
    "    layers.Dense(1, activation='sigmoid'),\n",
    "    ]\n",
    ")\n",
    "modelLSTM1.summary()"
   ]
  },
  {
   "cell_type": "code",
   "execution_count": null,
   "id": "20f25032",
   "metadata": {},
   "outputs": [],
   "source": [
    "******\n",
    "from tensorflow import keras\n",
    "from tensorflow.keras import layers\n",
    "\n",
    "\n",
    "modelLSTM = keras.Sequential(\n",
    "    [\n",
    "    layers.BatchNormalization(input_shape=(None,70,1)),\n",
    "    layers.LSTM(128, return_sequences=True),\n",
    "    layers.BatchNormalization(),\n",
    "    #layers.Conv1D(filters=32,kernel_size=3,activation='relu'),\n",
    "    #layers.BatchNormalization(),\n",
    "    #layers.MaxPooling1D(pool_size=2) ,\n",
    "    layers.Dropout(0.3),\n",
    "    \n",
    "    layers.LSTM(64, return_sequences=False),\n",
    "    layers.Dropout(0.3),\n",
    "    #layers.Flatten(), # flatten out the layers\n",
    "    layers.Dense(512,activation='relu'),\n",
    "    layers.BatchNormalization(),\n",
    "    layers.Dropout(0.3),\n",
    "    layers.Dense(512,activation='relu'),\n",
    "    layers.BatchNormalization(),\n",
    "    layers.Dropout(0.3),\n",
    "    layers.Dense(1, activation='sigmoid'),\n",
    "    ]\n",
    ")\n",
    "modelLSTM.summary()"
   ]
  },
  {
   "cell_type": "code",
   "execution_count": null,
   "id": "b809d1c0",
   "metadata": {},
   "outputs": [],
   "source": [
    "modelLSTM1.compile(\n",
    " optimizer=keras.optimizers.Adam(1e-2),\n",
    " #optimizer='adam', \n",
    " loss=\"binary_crossentropy\", \n",
    " metrics=[\"accuracy\"]\n",
    ")"
   ]
  },
  {
   "cell_type": "code",
   "execution_count": null,
   "id": "41529bde",
   "metadata": {},
   "outputs": [],
   "source": [
    "modelLSTM.compile(\n",
    " optimizer=keras.optimizers.Adam(1e-2),\n",
    " #optimizer='adam', \n",
    " loss=\"binary_crossentropy\", \n",
    " metrics=[\"accuracy\"]\n",
    ")"
   ]
  },
  {
   "cell_type": "code",
   "execution_count": null,
   "id": "592a67e2",
   "metadata": {},
   "outputs": [],
   "source": [
    "%%time\n",
    "history = modelLSTM1.fit(\n",
    " X_train,\n",
    " y_train,\n",
    " batch_size=128,\n",
    " epochs=100,\n",
    " verbose=2,\n",
    " validation_data = [X_test, y_test])"
   ]
  },
  {
   "cell_type": "code",
   "execution_count": null,
   "id": "2497f23d",
   "metadata": {},
   "outputs": [],
   "source": [
    "history = modelLSTM.fit(\n",
    " X_train,\n",
    " y_train,\n",
    " batch_size=2048,\n",
    " epochs=100,\n",
    " verbose=1,\n",
    " validation_data = [X_test, y_test])"
   ]
  },
  {
   "cell_type": "code",
   "execution_count": null,
   "id": "3099d396",
   "metadata": {},
   "outputs": [],
   "source": [
    "acc_train_auto2 = modelLSTM1.evaluate(X_train, y_train)[1]\n",
    "acc_test_auto2 = modelLSTM1.evaluate(X_test, y_test)[1]\n",
    "\n",
    "print('\\nLSTM: Accuracy on training Data: {:.3f}' .format(acc_train_auto2))\n",
    "print('LSTM: Accuracy on test Data: {:.4f}' .format(acc_test_auto2))"
   ]
  },
  {
   "cell_type": "code",
   "execution_count": null,
   "id": "18a749ff",
   "metadata": {},
   "outputs": [],
   "source": [
    "acc_train_auto2 = modelLSTM.evaluate(X_train, y_train)[1]\n",
    "acc_test_auto2 = modelLSTM.evaluate(X_test, y_test)[1]\n",
    "\n",
    "print('\\nLSTM: Accuracy on training Data: {:.4f}' .format(acc_train_auto2))\n",
    "print('LSTM: Accuracy on test Data: {:.4f}' .format(acc_test_auto2))"
   ]
  },
  {
   "cell_type": "code",
   "execution_count": null,
   "id": "b7f77ca0",
   "metadata": {},
   "outputs": [],
   "source": [
    "loss_train = history.history['accuracy']\n",
    "loss_val = history.history['val_accuracy']\n",
    "epochs = range(1,101)\n",
    "plt.plot(epochs, loss_train, 'g', label='Training accuracy')\n",
    "plt.plot(epochs, loss_val, 'b', label='validation accuracy')\n",
    "plt.title('LSTM Training and Validation accuracy')\n",
    "plt.xlabel('Epochs')\n",
    "plt.ylabel('Accuracy')\n",
    "plt.legend()\n",
    "plt.show()"
   ]
  },
  {
   "cell_type": "code",
   "execution_count": null,
   "id": "bd87003f",
   "metadata": {},
   "outputs": [],
   "source": [
    "loss_train = history.history['loss']\n",
    "loss_val = history.history['val_loss']\n",
    "epochs = range(1,101)\n",
    "plt.plot(epochs, loss_train, 'g', label='Training loss')\n",
    "plt.plot(epochs, loss_val, 'b', label='validation loss')\n",
    "plt.title('LSTM Training and Validation loss')\n",
    "plt.xlabel('Epochs')\n",
    "plt.ylabel('Loss')\n",
    "\n",
    "plt.show()"
   ]
  },
  {
   "cell_type": "code",
   "execution_count": null,
   "id": "5a608692",
   "metadata": {},
   "outputs": [],
   "source": [
    "loss_train = history.history['accuracy']\n",
    "loss_val = history.history['val_accuracy']\n",
    "epochs = range(1,101)\n",
    "plt.plot(epochs, loss_train, 'g', label='Training accuracy')\n",
    "plt.plot(epochs, loss_val, 'b', label='validation accuracy')\n",
    "plt.title('LSTM Training and Validation accuracy')\n",
    "plt.xlabel('Epochs')\n",
    "plt.ylabel('Accuracy')\n",
    "plt.legend()\n",
    "plt.show()"
   ]
  },
  {
   "cell_type": "code",
   "execution_count": null,
   "id": "c9280ba9",
   "metadata": {},
   "outputs": [],
   "source": [
    "loss_train = history.history['loss']\n",
    "loss_val = history.history['val_loss']\n",
    "epochs = range(1,101)\n",
    "plt.plot(epochs, loss_train, 'g', label='Training loss')\n",
    "plt.plot(epochs, loss_val, 'b', label='validation loss')\n",
    "plt.title('LSTM Training and Validation loss')\n",
    "plt.xlabel('Epochs')\n",
    "plt.ylabel('Loss')\n",
    "\n",
    "plt.show()"
   ]
  },
  {
   "cell_type": "code",
   "execution_count": null,
   "id": "c0d05877",
   "metadata": {},
   "outputs": [],
   "source": [
    "y_predictedLSTM=modelLSTM.predict(X_test_sc)\n",
    "matrixLSTM=metrics.confusion_matrix(y_test,y_predictedLSTM.round())\n",
    "print(y_predictedLSTM)\n",
    "#print(classification_report(y_test, y_predictedANN))\n",
    "\n"
   ]
  },
  {
   "cell_type": "code",
   "execution_count": null,
   "id": "fa2097d9",
   "metadata": {},
   "outputs": [],
   "source": [
    "y_predictedLSTM1=modelLSTM1.predict(X_test)\n",
    "matrixLSTM1=metrics.confusion_matrix(y_test,y_predictedLSTM1.round())\n",
    "print(y_predictedLSTM1)\n",
    "#print(classification_report(y_test, y_predictedANN))\n"
   ]
  },
  {
   "cell_type": "code",
   "execution_count": null,
   "id": "c5b70f9c",
   "metadata": {},
   "outputs": [],
   "source": [
    "%%time\n",
    "from mlxtend.plotting import plot_confusion_matrix\n",
    "fig, ax = plot_confusion_matrix(conf_mat=matrixLSTM1,figsize=(6.9, 6.9), \n",
    "                                show_absolute=True,\n",
    "                                show_normed=True,\n",
    "                                colorbar=True)\n",
    "plt.title('Long Short-term memory')\n",
    "plt.xlabel('Predicted Value')\n",
    "plt.ylabel('True Value')\n",
    "plt.show()\n",
    "\n",
    "#print(f'Training Score: {modelks.score(X_train_sc, y_train)}')\n",
    "#print(f'Testing  Score: {modelks.score(X_test_sc, y_test)}')\n",
    "print(classification_report(y_test, y_predictedLSTM1.round()))\n",
    "print(confusion_matrix(y_test, y_predictedLSTM1.round()))"
   ]
  },
  {
   "cell_type": "code",
   "execution_count": null,
   "id": "24607574",
   "metadata": {},
   "outputs": [],
   "source": [
    "%%time\n",
    "from mlxtend.plotting import plot_confusion_matrix\n",
    "fig, ax = plot_confusion_matrix(conf_mat=matrixLSTM,figsize=(6.9, 6.9), \n",
    "                                show_absolute=True,\n",
    "                                show_normed=True,\n",
    "                                colorbar=True)\n",
    "plt.title('Long Short-term memory')\n",
    "plt.xlabel('Predicted Value')\n",
    "plt.ylabel('True Value')\n",
    "plt.show()\n",
    "\n",
    "#print(f'Training Score: {modelks.score(X_train_sc, y_train)}')\n",
    "#print(f'Testing  Score: {modelks.score(X_test_sc, y_test)}')\n",
    "print(classification_report(y_test, y_predictedLSTM.round()))\n",
    "print(confusion_matrix(y_test, y_predictedLSTM.round()))"
   ]
  },
  {
   "cell_type": "code",
   "execution_count": null,
   "id": "6da409c7",
   "metadata": {},
   "outputs": [],
   "source": [
    "from sklearn.metrics import precision_score,recall_score,f1_score\n",
    "print('Precision: %.4f'%precision_score(y_test, y_predictedLSTM1.round()))\n",
    "print('Recall: %.4f' % recall_score(y_test,y_predictedLSTM1.round()))\n",
    "print('F1 score: %.4f' % f1_score(y_test,y_predictedLSTM1.round()))\n",
    "accuracy_score(y_test, y_predictedLSTM1.round())"
   ]
  },
  {
   "cell_type": "code",
   "execution_count": null,
   "id": "ce9675a9",
   "metadata": {},
   "outputs": [],
   "source": []
  },
  {
   "cell_type": "code",
   "execution_count": null,
   "id": "63084eaf",
   "metadata": {},
   "outputs": [],
   "source": []
  },
  {
   "cell_type": "code",
   "execution_count": null,
   "id": "cc91a02f",
   "metadata": {},
   "outputs": [],
   "source": []
  },
  {
   "cell_type": "code",
   "execution_count": null,
   "id": "2788d1c6",
   "metadata": {},
   "outputs": [],
   "source": []
  },
  {
   "cell_type": "code",
   "execution_count": null,
   "id": "f11bfe5a",
   "metadata": {},
   "outputs": [],
   "source": [
    "from sklearn.metrics import precision_score,recall_score,f1_score\n",
    "print('Precision: %.3f'%precision_score(y_test, y_predictedLSTM.round()))\n",
    "print('Recall: %.3f' % recall_score(y_test,y_predictedLSTM.round()))\n",
    "print('F1 score: %.3f' % f1_score(y_test,y_predictedLSTM.round()))\n",
    "accuracy_score(y_test, y_predictedLSTM.round())"
   ]
  },
  {
   "cell_type": "markdown",
   "id": "905fd93b",
   "metadata": {},
   "source": [
    "# CNN-LSTM"
   ]
  },
  {
   "cell_type": "code",
   "execution_count": null,
   "id": "a82aedae",
   "metadata": {},
   "outputs": [],
   "source": [
    "X_train.shape"
   ]
  },
  {
   "cell_type": "code",
   "execution_count": null,
   "id": "fea631bf",
   "metadata": {},
   "outputs": [],
   "source": [
    "# Load Libraries - Make sure to run this cell!\n",
    "import pandas as pd\n",
    "import numpy as np\n",
    "import re, os\n",
    "from string import printable\n",
    "from sklearn import model_selection\n",
    "from tensorflow.keras.layers import Bidirectional\n",
    "\n",
    "#import gensim\n",
    "import tensorflow as tf\n",
    "from keras.models import Sequential, Model, model_from_json, load_model\n",
    "from keras import regularizers\n",
    "from keras.layers.core import Dense, Dropout, Activation, Lambda, Flatten\n",
    "from keras.layers import Input, ELU, LSTM, Embedding,Conv1D, Convolution2D, MaxPooling2D, BatchNormalization, Convolution1D, MaxPooling1D, concatenate\n",
    "from keras.preprocessing import sequence\n",
    "from keras.optimizers import SGD, Adam, RMSprop\n",
    "from keras.utils import np_utils\n",
    "from keras import backend as K\n",
    "\n",
    "from pathlib import Path\n",
    "import json\n",
    "\n",
    "import warnings\n",
    "warnings.filterwarnings(\"ignore\")"
   ]
  },
  {
   "cell_type": "code",
   "execution_count": null,
   "id": "7be40114",
   "metadata": {},
   "outputs": [],
   "source": [
    "model=Sequential()\n",
    "model.add(Conv1D(filters=256,kernel_size=3,input_shape=(30, 1)))\n",
    "model.add(Dropout(0.3))\n",
    "model.add(Conv1D(filters=128,kernel_size=3,activation='relu'))\n",
    "model.add(MaxPooling1D(pool_size=4))\n",
    "model.add(LSTM(256))\n",
    "\n",
    "model.add(Dropout(0.3))\n",
    "\n",
    "model.add(Dense(256,activation='relu'))\n",
    "    \n",
    "model.add(Dropout(0.1))\n",
    "model.add(Dense(128,activation='relu'))   \n",
    "model.add(Dropout(0.1))   \n",
    "    \n",
    "    \n",
    "model.add(Dense(1,activation='sigmoid'))\n",
    "model.summary()"
   ]
  },
  {
   "cell_type": "code",
   "execution_count": null,
   "id": "069017d5",
   "metadata": {},
   "outputs": [],
   "source": [
    "****************\n",
    "model = Sequential()\n",
    "\n",
    "model.add(Embedding(10000,\n",
    "                    output_dim = 100,\n",
    "                    weights = [embedding_matrix],\n",
    "                    input_length = 300,\n",
    "                    trainable = False))\n",
    "model.add(Bidirectional(LSTM(150))),\n",
    "\n",
    "model.add(Dense(units = 32,\n",
    "                activation = \"relu\"))\n",
    "model.add(Dense(1,\n",
    "                activation = \"sigmoid\"))"
   ]
  },
  {
   "cell_type": "code",
   "execution_count": null,
   "id": "4031815d",
   "metadata": {},
   "outputs": [],
   "source": [
    "model=Sequential()\n",
    "model.add(Conv1D(filters=256,kernel_size=5,input_shape=(71, 1)))\n",
    "model.add(Dropout(0.3))\n",
    "model.add(Conv1D(filters=128,kernel_size=3,activation='relu'))\n",
    "model.add(MaxPooling1D(pool_size=4))\n",
    "model.add(Bidirectional(LSTM(256)))\n",
    "\n",
    "model.add(Dropout(0.3))\n",
    "\n",
    "model.add(Dense(256,activation='relu'))\n",
    "    \n",
    "model.add(Dropout(0.3))\n",
    "model.add(Dense(256,activation='relu'))   \n",
    "model.add(Dropout(0.1))   \n",
    "    \n",
    "    \n",
    "model.add(Dense(1,activation='sigmoid'))\n",
    "model.summary()"
   ]
  },
  {
   "cell_type": "code",
   "execution_count": null,
   "id": "7e3e0090",
   "metadata": {},
   "outputs": [],
   "source": [
    "X.shape"
   ]
  },
  {
   "cell_type": "code",
   "execution_count": null,
   "id": "9f33a92f",
   "metadata": {},
   "outputs": [],
   "source": [
    "model.compile(\n",
    " #optimizer=keras.optimizers.Adam(1e-2),\n",
    " optimizer='adam', \n",
    " loss=\"binary_crossentropy\", \n",
    " metrics=[\"accuracy\"]\n",
    ")"
   ]
  },
  {
   "cell_type": "code",
   "execution_count": null,
   "id": "f8c41f7a",
   "metadata": {},
   "outputs": [],
   "source": [
    "%%time\n",
    "history = model.fit(\n",
    " X_train,\n",
    " y_train,\n",
    " batch_size=2048,\n",
    " epochs=100,\n",
    " verbose=1,\n",
    " validation_data = [X_test, y_test])"
   ]
  },
  {
   "cell_type": "code",
   "execution_count": null,
   "id": "0319fce5",
   "metadata": {},
   "outputs": [],
   "source": [
    "acc_train_auto3 = model.evaluate(X_train, y_train)[1]\n",
    "acc_test_auto3= model.evaluate(X_test, y_test)[1]\n",
    "\n",
    "print('\\nCNNLSTM: Accuracy on training Data: {:.3f}' .format(acc_train_auto3))\n",
    "print('CNNLSTM: Accuracy on test Data: {:.4f}' .format(acc_test_auto3))"
   ]
  },
  {
   "cell_type": "code",
   "execution_count": null,
   "id": "729e90e9",
   "metadata": {},
   "outputs": [],
   "source": [
    "loss_train = history.history['accuracy']\n",
    "loss_val = history.history['val_accuracy']\n",
    "epochs = range(1,101)\n",
    "plt.plot(epochs, loss_train, 'g', label='Training accuracy')\n",
    "plt.plot(epochs, loss_val, 'b', label='validation accuracy')\n",
    "plt.title('CNNLSTM Training and Validation accuracy')\n",
    "plt.xlabel('Epochs')\n",
    "plt.ylabel('Accuracy')\n",
    "plt.legend()\n",
    "plt.show()"
   ]
  },
  {
   "cell_type": "code",
   "execution_count": null,
   "id": "876511e3",
   "metadata": {},
   "outputs": [],
   "source": [
    "loss_train = history.history['loss']\n",
    "loss_val = history.history['val_loss']\n",
    "epochs = range(1,101)\n",
    "plt.plot(epochs, loss_train, 'g', label='Training loss')\n",
    "plt.plot(epochs, loss_val, 'b', label='validation loss')\n",
    "plt.title('CNNLSTM Training and Validation loss')\n",
    "plt.xlabel('Epochs')\n",
    "plt.ylabel('Loss')\n",
    "\n",
    "plt.show()"
   ]
  },
  {
   "cell_type": "code",
   "execution_count": null,
   "id": "10c0473a",
   "metadata": {},
   "outputs": [],
   "source": [
    "y_predictedCNNLSTM=model.predict(X_test_sc)\n",
    "matrixCNNLSTM=metrics.confusion_matrix(y_test,y_predictedCNNLSTM.round())\n",
    "print(y_predictedCNNLSTM)\n",
    "#print(classification_report(y_test, y_predictedANN))\n"
   ]
  },
  {
   "cell_type": "code",
   "execution_count": null,
   "id": "9a380e4e",
   "metadata": {},
   "outputs": [],
   "source": [
    "%%time\n",
    "from mlxtend.plotting import plot_confusion_matrix\n",
    "fig, ax = plot_confusion_matrix(conf_mat=matrixCNNLSTM,figsize=(6.9, 6.9), \n",
    "                                show_absolute=True,\n",
    "                                show_normed=True,\n",
    "                                colorbar=True)\n",
    "plt.title('CNN-LSTM')\n",
    "plt.xlabel('Predicted Value')\n",
    "plt.ylabel('True Value')\n",
    "plt.show()\n",
    "\n",
    "#print(f'Training Score: {modelks.score(X_train_sc, y_train)}')\n",
    "#print(f'Testing  Score: {modelks.score(X_test_sc, y_test)}')\n",
    "print(classification_report(y_test, y_predictedCNNLSTM.round()))\n",
    "print(confusion_matrix(y_test, y_predictedCNNLSTM.round()))"
   ]
  },
  {
   "cell_type": "code",
   "execution_count": null,
   "id": "7887ee13",
   "metadata": {},
   "outputs": [],
   "source": [
    "y_predictedCNNLSTM=model.predict(X_test_sc)\n",
    "matrixCNNLSTM=metrics.confusion_matrix(y_test,y_predictedCNNLSTM.round())\n",
    "print(y_predictedCNNLSTM)\n",
    "#print(classification_report(y_test, y_predictedANN))"
   ]
  },
  {
   "cell_type": "code",
   "execution_count": null,
   "id": "b311d72c",
   "metadata": {},
   "outputs": [],
   "source": [
    "from sklearn.metrics import precision_score,recall_score,f1_score\n",
    "print('Precision: %.3f'%precision_score(y_test, y_predictedCNNLSTM.round()))\n",
    "print('Recall: %.3f' % recall_score(y_test,y_predictedCNNLSTM.round()))\n",
    "print('F1 score: %.3f' % f1_score(y_test,y_predictedCNNLSTM.round()))\n",
    "accuracy_score(y_test, y_predictedCNNLSTM.round())"
   ]
  },
  {
   "cell_type": "code",
   "execution_count": null,
   "id": "95cce9aa",
   "metadata": {},
   "outputs": [],
   "source": [
    "plot_roc_curve([model1,y_test, y_predictedCNNLSTM.round()])"
   ]
  },
  {
   "cell_type": "code",
   "execution_count": 27,
   "id": "cb33375c",
   "metadata": {},
   "outputs": [],
   "source": [
    "from sklearn.ensemble import VotingClassifier\n"
   ]
  },
  {
   "cell_type": "code",
   "execution_count": null,
   "id": "140fa8e0",
   "metadata": {},
   "outputs": [],
   "source": [
    " # deep learning layers plot\n",
    "from keras.utils import plot_model\n",
    "plot_model(model, to_file='model.png')"
   ]
  },
  {
   "cell_type": "markdown",
   "id": "20ae9478",
   "metadata": {},
   "source": [
    "# Voting Classifier"
   ]
  },
  {
   "cell_type": "code",
   "execution_count": 51,
   "id": "64177399",
   "metadata": {},
   "outputs": [],
   "source": [
    "model_1=DecisionTreeClassifier()\n",
    "model_2=RandomForestClassifier()\n",
    "model_3=ExtraTreesClassifier()\n",
    "model_4=XGBClassifier()\n",
    "model_5=KNeighborsClassifier()\n"
   ]
  },
  {
   "cell_type": "code",
   "execution_count": 52,
   "id": "522bbff8",
   "metadata": {},
   "outputs": [],
   "source": [
    "ensemble= VotingClassifier(estimators=[('Decision Tree', model_1), ('RF', model_2), ('ExtraTreesClassifier', model_3), ('XGB', model_4),\n",
    "                                        ('KNN', model_5)], voting='hard')"
   ]
  },
  {
   "cell_type": "code",
   "execution_count": 53,
   "id": "b340cbe2",
   "metadata": {},
   "outputs": [
    {
     "data": {
      "text/html": [
       "<style>#sk-container-id-5 {color: black;background-color: white;}#sk-container-id-5 pre{padding: 0;}#sk-container-id-5 div.sk-toggleable {background-color: white;}#sk-container-id-5 label.sk-toggleable__label {cursor: pointer;display: block;width: 100%;margin-bottom: 0;padding: 0.3em;box-sizing: border-box;text-align: center;}#sk-container-id-5 label.sk-toggleable__label-arrow:before {content: \"▸\";float: left;margin-right: 0.25em;color: #696969;}#sk-container-id-5 label.sk-toggleable__label-arrow:hover:before {color: black;}#sk-container-id-5 div.sk-estimator:hover label.sk-toggleable__label-arrow:before {color: black;}#sk-container-id-5 div.sk-toggleable__content {max-height: 0;max-width: 0;overflow: hidden;text-align: left;background-color: #f0f8ff;}#sk-container-id-5 div.sk-toggleable__content pre {margin: 0.2em;color: black;border-radius: 0.25em;background-color: #f0f8ff;}#sk-container-id-5 input.sk-toggleable__control:checked~div.sk-toggleable__content {max-height: 200px;max-width: 100%;overflow: auto;}#sk-container-id-5 input.sk-toggleable__control:checked~label.sk-toggleable__label-arrow:before {content: \"▾\";}#sk-container-id-5 div.sk-estimator input.sk-toggleable__control:checked~label.sk-toggleable__label {background-color: #d4ebff;}#sk-container-id-5 div.sk-label input.sk-toggleable__control:checked~label.sk-toggleable__label {background-color: #d4ebff;}#sk-container-id-5 input.sk-hidden--visually {border: 0;clip: rect(1px 1px 1px 1px);clip: rect(1px, 1px, 1px, 1px);height: 1px;margin: -1px;overflow: hidden;padding: 0;position: absolute;width: 1px;}#sk-container-id-5 div.sk-estimator {font-family: monospace;background-color: #f0f8ff;border: 1px dotted black;border-radius: 0.25em;box-sizing: border-box;margin-bottom: 0.5em;}#sk-container-id-5 div.sk-estimator:hover {background-color: #d4ebff;}#sk-container-id-5 div.sk-parallel-item::after {content: \"\";width: 100%;border-bottom: 1px solid gray;flex-grow: 1;}#sk-container-id-5 div.sk-label:hover label.sk-toggleable__label {background-color: #d4ebff;}#sk-container-id-5 div.sk-serial::before {content: \"\";position: absolute;border-left: 1px solid gray;box-sizing: border-box;top: 0;bottom: 0;left: 50%;z-index: 0;}#sk-container-id-5 div.sk-serial {display: flex;flex-direction: column;align-items: center;background-color: white;padding-right: 0.2em;padding-left: 0.2em;position: relative;}#sk-container-id-5 div.sk-item {position: relative;z-index: 1;}#sk-container-id-5 div.sk-parallel {display: flex;align-items: stretch;justify-content: center;background-color: white;position: relative;}#sk-container-id-5 div.sk-item::before, #sk-container-id-5 div.sk-parallel-item::before {content: \"\";position: absolute;border-left: 1px solid gray;box-sizing: border-box;top: 0;bottom: 0;left: 50%;z-index: -1;}#sk-container-id-5 div.sk-parallel-item {display: flex;flex-direction: column;z-index: 1;position: relative;background-color: white;}#sk-container-id-5 div.sk-parallel-item:first-child::after {align-self: flex-end;width: 50%;}#sk-container-id-5 div.sk-parallel-item:last-child::after {align-self: flex-start;width: 50%;}#sk-container-id-5 div.sk-parallel-item:only-child::after {width: 0;}#sk-container-id-5 div.sk-dashed-wrapped {border: 1px dashed gray;margin: 0 0.4em 0.5em 0.4em;box-sizing: border-box;padding-bottom: 0.4em;background-color: white;}#sk-container-id-5 div.sk-label label {font-family: monospace;font-weight: bold;display: inline-block;line-height: 1.2em;}#sk-container-id-5 div.sk-label-container {text-align: center;}#sk-container-id-5 div.sk-container {/* jupyter's `normalize.less` sets `[hidden] { display: none; }` but bootstrap.min.css set `[hidden] { display: none !important; }` so we also need the `!important` here to be able to override the default hidden behavior on the sphinx rendered scikit-learn.org. See: https://github.com/scikit-learn/scikit-learn/issues/21755 */display: inline-block !important;position: relative;}#sk-container-id-5 div.sk-text-repr-fallback {display: none;}</style><div id=\"sk-container-id-5\" class=\"sk-top-container\"><div class=\"sk-text-repr-fallback\"><pre>VotingClassifier(estimators=[(&#x27;Decision Tree&#x27;, DecisionTreeClassifier()),\n",
       "                             (&#x27;RF&#x27;, RandomForestClassifier()),\n",
       "                             (&#x27;ExtraTreesClassifier&#x27;, ExtraTreesClassifier()),\n",
       "                             (&#x27;XGB&#x27;,\n",
       "                              XGBClassifier(base_score=None, booster=None,\n",
       "                                            callbacks=None,\n",
       "                                            colsample_bylevel=None,\n",
       "                                            colsample_bynode=None,\n",
       "                                            colsample_bytree=None,\n",
       "                                            early_stopping_rounds=None,\n",
       "                                            enable_categorical=False,\n",
       "                                            eval_metric=Non...\n",
       "                                            importance_type=None,\n",
       "                                            interaction_constraints=None,\n",
       "                                            learning_rate=None, max_bin=None,\n",
       "                                            max_cat_to_onehot=None,\n",
       "                                            max_delta_step=None, max_depth=None,\n",
       "                                            max_leaves=None,\n",
       "                                            min_child_weight=None, missing=nan,\n",
       "                                            monotone_constraints=None,\n",
       "                                            n_estimators=100, n_jobs=None,\n",
       "                                            num_parallel_tree=None,\n",
       "                                            predictor=None, random_state=None,\n",
       "                                            reg_alpha=None, reg_lambda=None, ...)),\n",
       "                             (&#x27;KNN&#x27;, KNeighborsClassifier())])</pre><b>In a Jupyter environment, please rerun this cell to show the HTML representation or trust the notebook. <br />On GitHub, the HTML representation is unable to render, please try loading this page with nbviewer.org.</b></div><div class=\"sk-container\" hidden><div class=\"sk-item sk-dashed-wrapped\"><div class=\"sk-label-container\"><div class=\"sk-label sk-toggleable\"><input class=\"sk-toggleable__control sk-hidden--visually\" id=\"sk-estimator-id-26\" type=\"checkbox\" ><label for=\"sk-estimator-id-26\" class=\"sk-toggleable__label sk-toggleable__label-arrow\">VotingClassifier</label><div class=\"sk-toggleable__content\"><pre>VotingClassifier(estimators=[(&#x27;Decision Tree&#x27;, DecisionTreeClassifier()),\n",
       "                             (&#x27;RF&#x27;, RandomForestClassifier()),\n",
       "                             (&#x27;ExtraTreesClassifier&#x27;, ExtraTreesClassifier()),\n",
       "                             (&#x27;XGB&#x27;,\n",
       "                              XGBClassifier(base_score=None, booster=None,\n",
       "                                            callbacks=None,\n",
       "                                            colsample_bylevel=None,\n",
       "                                            colsample_bynode=None,\n",
       "                                            colsample_bytree=None,\n",
       "                                            early_stopping_rounds=None,\n",
       "                                            enable_categorical=False,\n",
       "                                            eval_metric=Non...\n",
       "                                            importance_type=None,\n",
       "                                            interaction_constraints=None,\n",
       "                                            learning_rate=None, max_bin=None,\n",
       "                                            max_cat_to_onehot=None,\n",
       "                                            max_delta_step=None, max_depth=None,\n",
       "                                            max_leaves=None,\n",
       "                                            min_child_weight=None, missing=nan,\n",
       "                                            monotone_constraints=None,\n",
       "                                            n_estimators=100, n_jobs=None,\n",
       "                                            num_parallel_tree=None,\n",
       "                                            predictor=None, random_state=None,\n",
       "                                            reg_alpha=None, reg_lambda=None, ...)),\n",
       "                             (&#x27;KNN&#x27;, KNeighborsClassifier())])</pre></div></div></div><div class=\"sk-parallel\"><div class=\"sk-parallel-item\"><div class=\"sk-item\"><div class=\"sk-label-container\"><div class=\"sk-label sk-toggleable\"><label>Decision Tree</label></div></div><div class=\"sk-serial\"><div class=\"sk-item\"><div class=\"sk-estimator sk-toggleable\"><input class=\"sk-toggleable__control sk-hidden--visually\" id=\"sk-estimator-id-27\" type=\"checkbox\" ><label for=\"sk-estimator-id-27\" class=\"sk-toggleable__label sk-toggleable__label-arrow\">DecisionTreeClassifier</label><div class=\"sk-toggleable__content\"><pre>DecisionTreeClassifier()</pre></div></div></div></div></div></div><div class=\"sk-parallel-item\"><div class=\"sk-item\"><div class=\"sk-label-container\"><div class=\"sk-label sk-toggleable\"><label>RF</label></div></div><div class=\"sk-serial\"><div class=\"sk-item\"><div class=\"sk-estimator sk-toggleable\"><input class=\"sk-toggleable__control sk-hidden--visually\" id=\"sk-estimator-id-28\" type=\"checkbox\" ><label for=\"sk-estimator-id-28\" class=\"sk-toggleable__label sk-toggleable__label-arrow\">RandomForestClassifier</label><div class=\"sk-toggleable__content\"><pre>RandomForestClassifier()</pre></div></div></div></div></div></div><div class=\"sk-parallel-item\"><div class=\"sk-item\"><div class=\"sk-label-container\"><div class=\"sk-label sk-toggleable\"><label>ExtraTreesClassifier</label></div></div><div class=\"sk-serial\"><div class=\"sk-item\"><div class=\"sk-estimator sk-toggleable\"><input class=\"sk-toggleable__control sk-hidden--visually\" id=\"sk-estimator-id-29\" type=\"checkbox\" ><label for=\"sk-estimator-id-29\" class=\"sk-toggleable__label sk-toggleable__label-arrow\">ExtraTreesClassifier</label><div class=\"sk-toggleable__content\"><pre>ExtraTreesClassifier()</pre></div></div></div></div></div></div><div class=\"sk-parallel-item\"><div class=\"sk-item\"><div class=\"sk-label-container\"><div class=\"sk-label sk-toggleable\"><label>XGB</label></div></div><div class=\"sk-serial\"><div class=\"sk-item\"><div class=\"sk-estimator sk-toggleable\"><input class=\"sk-toggleable__control sk-hidden--visually\" id=\"sk-estimator-id-30\" type=\"checkbox\" ><label for=\"sk-estimator-id-30\" class=\"sk-toggleable__label sk-toggleable__label-arrow\">XGBClassifier</label><div class=\"sk-toggleable__content\"><pre>XGBClassifier(base_score=None, booster=None, callbacks=None,\n",
       "              colsample_bylevel=None, colsample_bynode=None,\n",
       "              colsample_bytree=None, early_stopping_rounds=None,\n",
       "              enable_categorical=False, eval_metric=None, gamma=None,\n",
       "              gpu_id=None, grow_policy=None, importance_type=None,\n",
       "              interaction_constraints=None, learning_rate=None, max_bin=None,\n",
       "              max_cat_to_onehot=None, max_delta_step=None, max_depth=None,\n",
       "              max_leaves=None, min_child_weight=None, missing=nan,\n",
       "              monotone_constraints=None, n_estimators=100, n_jobs=None,\n",
       "              num_parallel_tree=None, predictor=None, random_state=None,\n",
       "              reg_alpha=None, reg_lambda=None, ...)</pre></div></div></div></div></div></div><div class=\"sk-parallel-item\"><div class=\"sk-item\"><div class=\"sk-label-container\"><div class=\"sk-label sk-toggleable\"><label>KNN</label></div></div><div class=\"sk-serial\"><div class=\"sk-item\"><div class=\"sk-estimator sk-toggleable\"><input class=\"sk-toggleable__control sk-hidden--visually\" id=\"sk-estimator-id-31\" type=\"checkbox\" ><label for=\"sk-estimator-id-31\" class=\"sk-toggleable__label sk-toggleable__label-arrow\">KNeighborsClassifier</label><div class=\"sk-toggleable__content\"><pre>KNeighborsClassifier()</pre></div></div></div></div></div></div></div></div></div></div>"
      ],
      "text/plain": [
       "VotingClassifier(estimators=[('Decision Tree', DecisionTreeClassifier()),\n",
       "                             ('RF', RandomForestClassifier()),\n",
       "                             ('ExtraTreesClassifier', ExtraTreesClassifier()),\n",
       "                             ('XGB',\n",
       "                              XGBClassifier(base_score=None, booster=None,\n",
       "                                            callbacks=None,\n",
       "                                            colsample_bylevel=None,\n",
       "                                            colsample_bynode=None,\n",
       "                                            colsample_bytree=None,\n",
       "                                            early_stopping_rounds=None,\n",
       "                                            enable_categorical=False,\n",
       "                                            eval_metric=Non...\n",
       "                                            importance_type=None,\n",
       "                                            interaction_constraints=None,\n",
       "                                            learning_rate=None, max_bin=None,\n",
       "                                            max_cat_to_onehot=None,\n",
       "                                            max_delta_step=None, max_depth=None,\n",
       "                                            max_leaves=None,\n",
       "                                            min_child_weight=None, missing=nan,\n",
       "                                            monotone_constraints=None,\n",
       "                                            n_estimators=100, n_jobs=None,\n",
       "                                            num_parallel_tree=None,\n",
       "                                            predictor=None, random_state=None,\n",
       "                                            reg_alpha=None, reg_lambda=None, ...)),\n",
       "                             ('KNN', KNeighborsClassifier())])"
      ]
     },
     "execution_count": 53,
     "metadata": {},
     "output_type": "execute_result"
    }
   ],
   "source": [
    "ensemble.fit(X_train, y_train)"
   ]
  },
  {
   "cell_type": "code",
   "execution_count": 54,
   "id": "d7ddcdb4",
   "metadata": {},
   "outputs": [],
   "source": [
    "y_pred_test = ensemble.predict(X_test)\n",
    "y_pred_train = ensemble.predict(X_train)"
   ]
  },
  {
   "cell_type": "code",
   "execution_count": 55,
   "id": "744840c8",
   "metadata": {},
   "outputs": [
    {
     "name": "stdout",
     "output_type": "stream",
     "text": [
      "ensemble train :  1.0\n",
      "ensemble tets :  0.974290780141844\n"
     ]
    }
   ],
   "source": [
    "from sklearn.metrics import accuracy_score\n",
    "train_accurry = accuracy_score(y_pred_train, y_train)\n",
    "test_accurry = accuracy_score(y_pred_test, y_test)\n",
    "print('ensemble train : ', train_accurry)\n",
    "print('ensemble tets : ', test_accurry)"
   ]
  },
  {
   "cell_type": "code",
   "execution_count": 56,
   "id": "c1348422",
   "metadata": {},
   "outputs": [],
   "source": [
    "model_6= AdaBoostClassifier()\n",
    "model_7= ExtraTreesClassifier()\n",
    "model_8= XGBClassifier()"
   ]
  },
  {
   "cell_type": "code",
   "execution_count": 57,
   "id": "5719ef8d",
   "metadata": {},
   "outputs": [],
   "source": [
    "finalensemble= VotingClassifier(estimators=[ ('ADB', model_6), ('ETC', model_7), ('XGB', model_8)], voting='hard')"
   ]
  },
  {
   "cell_type": "code",
   "execution_count": 58,
   "id": "d6388c72",
   "metadata": {},
   "outputs": [
    {
     "data": {
      "text/html": [
       "<style>#sk-container-id-6 {color: black;background-color: white;}#sk-container-id-6 pre{padding: 0;}#sk-container-id-6 div.sk-toggleable {background-color: white;}#sk-container-id-6 label.sk-toggleable__label {cursor: pointer;display: block;width: 100%;margin-bottom: 0;padding: 0.3em;box-sizing: border-box;text-align: center;}#sk-container-id-6 label.sk-toggleable__label-arrow:before {content: \"▸\";float: left;margin-right: 0.25em;color: #696969;}#sk-container-id-6 label.sk-toggleable__label-arrow:hover:before {color: black;}#sk-container-id-6 div.sk-estimator:hover label.sk-toggleable__label-arrow:before {color: black;}#sk-container-id-6 div.sk-toggleable__content {max-height: 0;max-width: 0;overflow: hidden;text-align: left;background-color: #f0f8ff;}#sk-container-id-6 div.sk-toggleable__content pre {margin: 0.2em;color: black;border-radius: 0.25em;background-color: #f0f8ff;}#sk-container-id-6 input.sk-toggleable__control:checked~div.sk-toggleable__content {max-height: 200px;max-width: 100%;overflow: auto;}#sk-container-id-6 input.sk-toggleable__control:checked~label.sk-toggleable__label-arrow:before {content: \"▾\";}#sk-container-id-6 div.sk-estimator input.sk-toggleable__control:checked~label.sk-toggleable__label {background-color: #d4ebff;}#sk-container-id-6 div.sk-label input.sk-toggleable__control:checked~label.sk-toggleable__label {background-color: #d4ebff;}#sk-container-id-6 input.sk-hidden--visually {border: 0;clip: rect(1px 1px 1px 1px);clip: rect(1px, 1px, 1px, 1px);height: 1px;margin: -1px;overflow: hidden;padding: 0;position: absolute;width: 1px;}#sk-container-id-6 div.sk-estimator {font-family: monospace;background-color: #f0f8ff;border: 1px dotted black;border-radius: 0.25em;box-sizing: border-box;margin-bottom: 0.5em;}#sk-container-id-6 div.sk-estimator:hover {background-color: #d4ebff;}#sk-container-id-6 div.sk-parallel-item::after {content: \"\";width: 100%;border-bottom: 1px solid gray;flex-grow: 1;}#sk-container-id-6 div.sk-label:hover label.sk-toggleable__label {background-color: #d4ebff;}#sk-container-id-6 div.sk-serial::before {content: \"\";position: absolute;border-left: 1px solid gray;box-sizing: border-box;top: 0;bottom: 0;left: 50%;z-index: 0;}#sk-container-id-6 div.sk-serial {display: flex;flex-direction: column;align-items: center;background-color: white;padding-right: 0.2em;padding-left: 0.2em;position: relative;}#sk-container-id-6 div.sk-item {position: relative;z-index: 1;}#sk-container-id-6 div.sk-parallel {display: flex;align-items: stretch;justify-content: center;background-color: white;position: relative;}#sk-container-id-6 div.sk-item::before, #sk-container-id-6 div.sk-parallel-item::before {content: \"\";position: absolute;border-left: 1px solid gray;box-sizing: border-box;top: 0;bottom: 0;left: 50%;z-index: -1;}#sk-container-id-6 div.sk-parallel-item {display: flex;flex-direction: column;z-index: 1;position: relative;background-color: white;}#sk-container-id-6 div.sk-parallel-item:first-child::after {align-self: flex-end;width: 50%;}#sk-container-id-6 div.sk-parallel-item:last-child::after {align-self: flex-start;width: 50%;}#sk-container-id-6 div.sk-parallel-item:only-child::after {width: 0;}#sk-container-id-6 div.sk-dashed-wrapped {border: 1px dashed gray;margin: 0 0.4em 0.5em 0.4em;box-sizing: border-box;padding-bottom: 0.4em;background-color: white;}#sk-container-id-6 div.sk-label label {font-family: monospace;font-weight: bold;display: inline-block;line-height: 1.2em;}#sk-container-id-6 div.sk-label-container {text-align: center;}#sk-container-id-6 div.sk-container {/* jupyter's `normalize.less` sets `[hidden] { display: none; }` but bootstrap.min.css set `[hidden] { display: none !important; }` so we also need the `!important` here to be able to override the default hidden behavior on the sphinx rendered scikit-learn.org. See: https://github.com/scikit-learn/scikit-learn/issues/21755 */display: inline-block !important;position: relative;}#sk-container-id-6 div.sk-text-repr-fallback {display: none;}</style><div id=\"sk-container-id-6\" class=\"sk-top-container\"><div class=\"sk-text-repr-fallback\"><pre>VotingClassifier(estimators=[(&#x27;ADB&#x27;, AdaBoostClassifier()),\n",
       "                             (&#x27;ETC&#x27;, ExtraTreesClassifier()),\n",
       "                             (&#x27;XGB&#x27;,\n",
       "                              XGBClassifier(base_score=None, booster=None,\n",
       "                                            callbacks=None,\n",
       "                                            colsample_bylevel=None,\n",
       "                                            colsample_bynode=None,\n",
       "                                            colsample_bytree=None,\n",
       "                                            early_stopping_rounds=None,\n",
       "                                            enable_categorical=False,\n",
       "                                            eval_metric=None, gamma=None,\n",
       "                                            gpu_id=None, grow_policy=None,\n",
       "                                            importance_type=None,\n",
       "                                            interaction_constraints=None,\n",
       "                                            learning_rate=None, max_bin=None,\n",
       "                                            max_cat_to_onehot=None,\n",
       "                                            max_delta_step=None, max_depth=None,\n",
       "                                            max_leaves=None,\n",
       "                                            min_child_weight=None, missing=nan,\n",
       "                                            monotone_constraints=None,\n",
       "                                            n_estimators=100, n_jobs=None,\n",
       "                                            num_parallel_tree=None,\n",
       "                                            predictor=None, random_state=None,\n",
       "                                            reg_alpha=None, reg_lambda=None, ...))])</pre><b>In a Jupyter environment, please rerun this cell to show the HTML representation or trust the notebook. <br />On GitHub, the HTML representation is unable to render, please try loading this page with nbviewer.org.</b></div><div class=\"sk-container\" hidden><div class=\"sk-item sk-dashed-wrapped\"><div class=\"sk-label-container\"><div class=\"sk-label sk-toggleable\"><input class=\"sk-toggleable__control sk-hidden--visually\" id=\"sk-estimator-id-32\" type=\"checkbox\" ><label for=\"sk-estimator-id-32\" class=\"sk-toggleable__label sk-toggleable__label-arrow\">VotingClassifier</label><div class=\"sk-toggleable__content\"><pre>VotingClassifier(estimators=[(&#x27;ADB&#x27;, AdaBoostClassifier()),\n",
       "                             (&#x27;ETC&#x27;, ExtraTreesClassifier()),\n",
       "                             (&#x27;XGB&#x27;,\n",
       "                              XGBClassifier(base_score=None, booster=None,\n",
       "                                            callbacks=None,\n",
       "                                            colsample_bylevel=None,\n",
       "                                            colsample_bynode=None,\n",
       "                                            colsample_bytree=None,\n",
       "                                            early_stopping_rounds=None,\n",
       "                                            enable_categorical=False,\n",
       "                                            eval_metric=None, gamma=None,\n",
       "                                            gpu_id=None, grow_policy=None,\n",
       "                                            importance_type=None,\n",
       "                                            interaction_constraints=None,\n",
       "                                            learning_rate=None, max_bin=None,\n",
       "                                            max_cat_to_onehot=None,\n",
       "                                            max_delta_step=None, max_depth=None,\n",
       "                                            max_leaves=None,\n",
       "                                            min_child_weight=None, missing=nan,\n",
       "                                            monotone_constraints=None,\n",
       "                                            n_estimators=100, n_jobs=None,\n",
       "                                            num_parallel_tree=None,\n",
       "                                            predictor=None, random_state=None,\n",
       "                                            reg_alpha=None, reg_lambda=None, ...))])</pre></div></div></div><div class=\"sk-parallel\"><div class=\"sk-parallel-item\"><div class=\"sk-item\"><div class=\"sk-label-container\"><div class=\"sk-label sk-toggleable\"><label>ADB</label></div></div><div class=\"sk-serial\"><div class=\"sk-item\"><div class=\"sk-estimator sk-toggleable\"><input class=\"sk-toggleable__control sk-hidden--visually\" id=\"sk-estimator-id-33\" type=\"checkbox\" ><label for=\"sk-estimator-id-33\" class=\"sk-toggleable__label sk-toggleable__label-arrow\">AdaBoostClassifier</label><div class=\"sk-toggleable__content\"><pre>AdaBoostClassifier()</pre></div></div></div></div></div></div><div class=\"sk-parallel-item\"><div class=\"sk-item\"><div class=\"sk-label-container\"><div class=\"sk-label sk-toggleable\"><label>ETC</label></div></div><div class=\"sk-serial\"><div class=\"sk-item\"><div class=\"sk-estimator sk-toggleable\"><input class=\"sk-toggleable__control sk-hidden--visually\" id=\"sk-estimator-id-34\" type=\"checkbox\" ><label for=\"sk-estimator-id-34\" class=\"sk-toggleable__label sk-toggleable__label-arrow\">ExtraTreesClassifier</label><div class=\"sk-toggleable__content\"><pre>ExtraTreesClassifier()</pre></div></div></div></div></div></div><div class=\"sk-parallel-item\"><div class=\"sk-item\"><div class=\"sk-label-container\"><div class=\"sk-label sk-toggleable\"><label>XGB</label></div></div><div class=\"sk-serial\"><div class=\"sk-item\"><div class=\"sk-estimator sk-toggleable\"><input class=\"sk-toggleable__control sk-hidden--visually\" id=\"sk-estimator-id-35\" type=\"checkbox\" ><label for=\"sk-estimator-id-35\" class=\"sk-toggleable__label sk-toggleable__label-arrow\">XGBClassifier</label><div class=\"sk-toggleable__content\"><pre>XGBClassifier(base_score=None, booster=None, callbacks=None,\n",
       "              colsample_bylevel=None, colsample_bynode=None,\n",
       "              colsample_bytree=None, early_stopping_rounds=None,\n",
       "              enable_categorical=False, eval_metric=None, gamma=None,\n",
       "              gpu_id=None, grow_policy=None, importance_type=None,\n",
       "              interaction_constraints=None, learning_rate=None, max_bin=None,\n",
       "              max_cat_to_onehot=None, max_delta_step=None, max_depth=None,\n",
       "              max_leaves=None, min_child_weight=None, missing=nan,\n",
       "              monotone_constraints=None, n_estimators=100, n_jobs=None,\n",
       "              num_parallel_tree=None, predictor=None, random_state=None,\n",
       "              reg_alpha=None, reg_lambda=None, ...)</pre></div></div></div></div></div></div></div></div></div></div>"
      ],
      "text/plain": [
       "VotingClassifier(estimators=[('ADB', AdaBoostClassifier()),\n",
       "                             ('ETC', ExtraTreesClassifier()),\n",
       "                             ('XGB',\n",
       "                              XGBClassifier(base_score=None, booster=None,\n",
       "                                            callbacks=None,\n",
       "                                            colsample_bylevel=None,\n",
       "                                            colsample_bynode=None,\n",
       "                                            colsample_bytree=None,\n",
       "                                            early_stopping_rounds=None,\n",
       "                                            enable_categorical=False,\n",
       "                                            eval_metric=None, gamma=None,\n",
       "                                            gpu_id=None, grow_policy=None,\n",
       "                                            importance_type=None,\n",
       "                                            interaction_constraints=None,\n",
       "                                            learning_rate=None, max_bin=None,\n",
       "                                            max_cat_to_onehot=None,\n",
       "                                            max_delta_step=None, max_depth=None,\n",
       "                                            max_leaves=None,\n",
       "                                            min_child_weight=None, missing=nan,\n",
       "                                            monotone_constraints=None,\n",
       "                                            n_estimators=100, n_jobs=None,\n",
       "                                            num_parallel_tree=None,\n",
       "                                            predictor=None, random_state=None,\n",
       "                                            reg_alpha=None, reg_lambda=None, ...))])"
      ]
     },
     "execution_count": 58,
     "metadata": {},
     "output_type": "execute_result"
    }
   ],
   "source": [
    "finalensemble.fit(X_train, y_train)"
   ]
  },
  {
   "cell_type": "code",
   "execution_count": 59,
   "id": "874adb4f",
   "metadata": {},
   "outputs": [],
   "source": [
    "y_pred_test1 =finalensemble.predict(X_test)\n",
    "y_pred_train1 = finalensemble.predict(X_train)"
   ]
  },
  {
   "cell_type": "code",
   "execution_count": 60,
   "id": "aa18818f",
   "metadata": {},
   "outputs": [
    {
     "name": "stdout",
     "output_type": "stream",
     "text": [
      "ensemble train :  0.9945694336695112\n",
      "ensemble tets :  0.9694148936170213\n"
     ]
    }
   ],
   "source": [
    "from sklearn.metrics import accuracy_score\n",
    "train_accurry = accuracy_score(y_pred_train1, y_train)\n",
    "test_accurry = accuracy_score(y_pred_test1, y_test)\n",
    "print('ensemble train : ', train_accurry)\n",
    "print('ensemble tets : ', test_accurry)"
   ]
  },
  {
   "cell_type": "code",
   "execution_count": 61,
   "id": "59c203e3",
   "metadata": {},
   "outputs": [],
   "source": [
    "model_9=XGBClassifier()"
   ]
  },
  {
   "cell_type": "code",
   "execution_count": 62,
   "id": "e49e10b5",
   "metadata": {},
   "outputs": [],
   "source": [
    "final= VotingClassifier(estimators=[('enseble', ensemble)], voting='hard')"
   ]
  },
  {
   "cell_type": "code",
   "execution_count": 63,
   "id": "604d1af5",
   "metadata": {},
   "outputs": [
    {
     "data": {
      "text/html": [
       "<style>#sk-container-id-7 {color: black;background-color: white;}#sk-container-id-7 pre{padding: 0;}#sk-container-id-7 div.sk-toggleable {background-color: white;}#sk-container-id-7 label.sk-toggleable__label {cursor: pointer;display: block;width: 100%;margin-bottom: 0;padding: 0.3em;box-sizing: border-box;text-align: center;}#sk-container-id-7 label.sk-toggleable__label-arrow:before {content: \"▸\";float: left;margin-right: 0.25em;color: #696969;}#sk-container-id-7 label.sk-toggleable__label-arrow:hover:before {color: black;}#sk-container-id-7 div.sk-estimator:hover label.sk-toggleable__label-arrow:before {color: black;}#sk-container-id-7 div.sk-toggleable__content {max-height: 0;max-width: 0;overflow: hidden;text-align: left;background-color: #f0f8ff;}#sk-container-id-7 div.sk-toggleable__content pre {margin: 0.2em;color: black;border-radius: 0.25em;background-color: #f0f8ff;}#sk-container-id-7 input.sk-toggleable__control:checked~div.sk-toggleable__content {max-height: 200px;max-width: 100%;overflow: auto;}#sk-container-id-7 input.sk-toggleable__control:checked~label.sk-toggleable__label-arrow:before {content: \"▾\";}#sk-container-id-7 div.sk-estimator input.sk-toggleable__control:checked~label.sk-toggleable__label {background-color: #d4ebff;}#sk-container-id-7 div.sk-label input.sk-toggleable__control:checked~label.sk-toggleable__label {background-color: #d4ebff;}#sk-container-id-7 input.sk-hidden--visually {border: 0;clip: rect(1px 1px 1px 1px);clip: rect(1px, 1px, 1px, 1px);height: 1px;margin: -1px;overflow: hidden;padding: 0;position: absolute;width: 1px;}#sk-container-id-7 div.sk-estimator {font-family: monospace;background-color: #f0f8ff;border: 1px dotted black;border-radius: 0.25em;box-sizing: border-box;margin-bottom: 0.5em;}#sk-container-id-7 div.sk-estimator:hover {background-color: #d4ebff;}#sk-container-id-7 div.sk-parallel-item::after {content: \"\";width: 100%;border-bottom: 1px solid gray;flex-grow: 1;}#sk-container-id-7 div.sk-label:hover label.sk-toggleable__label {background-color: #d4ebff;}#sk-container-id-7 div.sk-serial::before {content: \"\";position: absolute;border-left: 1px solid gray;box-sizing: border-box;top: 0;bottom: 0;left: 50%;z-index: 0;}#sk-container-id-7 div.sk-serial {display: flex;flex-direction: column;align-items: center;background-color: white;padding-right: 0.2em;padding-left: 0.2em;position: relative;}#sk-container-id-7 div.sk-item {position: relative;z-index: 1;}#sk-container-id-7 div.sk-parallel {display: flex;align-items: stretch;justify-content: center;background-color: white;position: relative;}#sk-container-id-7 div.sk-item::before, #sk-container-id-7 div.sk-parallel-item::before {content: \"\";position: absolute;border-left: 1px solid gray;box-sizing: border-box;top: 0;bottom: 0;left: 50%;z-index: -1;}#sk-container-id-7 div.sk-parallel-item {display: flex;flex-direction: column;z-index: 1;position: relative;background-color: white;}#sk-container-id-7 div.sk-parallel-item:first-child::after {align-self: flex-end;width: 50%;}#sk-container-id-7 div.sk-parallel-item:last-child::after {align-self: flex-start;width: 50%;}#sk-container-id-7 div.sk-parallel-item:only-child::after {width: 0;}#sk-container-id-7 div.sk-dashed-wrapped {border: 1px dashed gray;margin: 0 0.4em 0.5em 0.4em;box-sizing: border-box;padding-bottom: 0.4em;background-color: white;}#sk-container-id-7 div.sk-label label {font-family: monospace;font-weight: bold;display: inline-block;line-height: 1.2em;}#sk-container-id-7 div.sk-label-container {text-align: center;}#sk-container-id-7 div.sk-container {/* jupyter's `normalize.less` sets `[hidden] { display: none; }` but bootstrap.min.css set `[hidden] { display: none !important; }` so we also need the `!important` here to be able to override the default hidden behavior on the sphinx rendered scikit-learn.org. See: https://github.com/scikit-learn/scikit-learn/issues/21755 */display: inline-block !important;position: relative;}#sk-container-id-7 div.sk-text-repr-fallback {display: none;}</style><div id=\"sk-container-id-7\" class=\"sk-top-container\"><div class=\"sk-text-repr-fallback\"><pre>VotingClassifier(estimators=[(&#x27;enseble&#x27;,\n",
       "                              VotingClassifier(estimators=[(&#x27;Decision Tree&#x27;,\n",
       "                                                            DecisionTreeClassifier()),\n",
       "                                                           (&#x27;RF&#x27;,\n",
       "                                                            RandomForestClassifier()),\n",
       "                                                           (&#x27;ExtraTreesClassifier&#x27;,\n",
       "                                                            ExtraTreesClassifier()),\n",
       "                                                           (&#x27;XGB&#x27;,\n",
       "                                                            XGBClassifier(base_score=None,\n",
       "                                                                          booster=None,\n",
       "                                                                          callbacks=None,\n",
       "                                                                          colsample_bylevel=None,\n",
       "                                                                          colsample_bynode=None,\n",
       "                                                                          colsample_bytree=None,\n",
       "                                                                          early_stopping_rounds=None,...\n",
       "                                                                          interaction_constraints=None,\n",
       "                                                                          learning_rate=None,\n",
       "                                                                          max_bin=None,\n",
       "                                                                          max_cat_to_onehot=None,\n",
       "                                                                          max_delta_step=None,\n",
       "                                                                          max_depth=None,\n",
       "                                                                          max_leaves=None,\n",
       "                                                                          min_child_weight=None,\n",
       "                                                                          missing=nan,\n",
       "                                                                          monotone_constraints=None,\n",
       "                                                                          n_estimators=100,\n",
       "                                                                          n_jobs=None,\n",
       "                                                                          num_parallel_tree=None,\n",
       "                                                                          predictor=None,\n",
       "                                                                          random_state=None,\n",
       "                                                                          reg_alpha=None,\n",
       "                                                                          reg_lambda=None, ...)),\n",
       "                                                           (&#x27;KNN&#x27;,\n",
       "                                                            KNeighborsClassifier())]))])</pre><b>In a Jupyter environment, please rerun this cell to show the HTML representation or trust the notebook. <br />On GitHub, the HTML representation is unable to render, please try loading this page with nbviewer.org.</b></div><div class=\"sk-container\" hidden><div class=\"sk-item sk-dashed-wrapped\"><div class=\"sk-label-container\"><div class=\"sk-label sk-toggleable\"><input class=\"sk-toggleable__control sk-hidden--visually\" id=\"sk-estimator-id-36\" type=\"checkbox\" ><label for=\"sk-estimator-id-36\" class=\"sk-toggleable__label sk-toggleable__label-arrow\">VotingClassifier</label><div class=\"sk-toggleable__content\"><pre>VotingClassifier(estimators=[(&#x27;enseble&#x27;,\n",
       "                              VotingClassifier(estimators=[(&#x27;Decision Tree&#x27;,\n",
       "                                                            DecisionTreeClassifier()),\n",
       "                                                           (&#x27;RF&#x27;,\n",
       "                                                            RandomForestClassifier()),\n",
       "                                                           (&#x27;ExtraTreesClassifier&#x27;,\n",
       "                                                            ExtraTreesClassifier()),\n",
       "                                                           (&#x27;XGB&#x27;,\n",
       "                                                            XGBClassifier(base_score=None,\n",
       "                                                                          booster=None,\n",
       "                                                                          callbacks=None,\n",
       "                                                                          colsample_bylevel=None,\n",
       "                                                                          colsample_bynode=None,\n",
       "                                                                          colsample_bytree=None,\n",
       "                                                                          early_stopping_rounds=None,...\n",
       "                                                                          interaction_constraints=None,\n",
       "                                                                          learning_rate=None,\n",
       "                                                                          max_bin=None,\n",
       "                                                                          max_cat_to_onehot=None,\n",
       "                                                                          max_delta_step=None,\n",
       "                                                                          max_depth=None,\n",
       "                                                                          max_leaves=None,\n",
       "                                                                          min_child_weight=None,\n",
       "                                                                          missing=nan,\n",
       "                                                                          monotone_constraints=None,\n",
       "                                                                          n_estimators=100,\n",
       "                                                                          n_jobs=None,\n",
       "                                                                          num_parallel_tree=None,\n",
       "                                                                          predictor=None,\n",
       "                                                                          random_state=None,\n",
       "                                                                          reg_alpha=None,\n",
       "                                                                          reg_lambda=None, ...)),\n",
       "                                                           (&#x27;KNN&#x27;,\n",
       "                                                            KNeighborsClassifier())]))])</pre></div></div></div><div class=\"sk-parallel\"><div class=\"sk-parallel-item\"><div class=\"sk-item\"><div class=\"sk-label-container\"><div class=\"sk-label sk-toggleable\"><label>enseble</label></div></div><div class=\"sk-serial\"><div class=\"sk-item sk-dashed-wrapped\"><div class=\"sk-parallel\"><div class=\"sk-parallel-item\"><div class=\"sk-item\"><div class=\"sk-label-container\"><div class=\"sk-label sk-toggleable\"><label>Decision Tree</label></div></div><div class=\"sk-serial\"><div class=\"sk-item\"><div class=\"sk-estimator sk-toggleable\"><input class=\"sk-toggleable__control sk-hidden--visually\" id=\"sk-estimator-id-37\" type=\"checkbox\" ><label for=\"sk-estimator-id-37\" class=\"sk-toggleable__label sk-toggleable__label-arrow\">DecisionTreeClassifier</label><div class=\"sk-toggleable__content\"><pre>DecisionTreeClassifier()</pre></div></div></div></div></div></div><div class=\"sk-parallel-item\"><div class=\"sk-item\"><div class=\"sk-label-container\"><div class=\"sk-label sk-toggleable\"><label>RF</label></div></div><div class=\"sk-serial\"><div class=\"sk-item\"><div class=\"sk-estimator sk-toggleable\"><input class=\"sk-toggleable__control sk-hidden--visually\" id=\"sk-estimator-id-38\" type=\"checkbox\" ><label for=\"sk-estimator-id-38\" class=\"sk-toggleable__label sk-toggleable__label-arrow\">RandomForestClassifier</label><div class=\"sk-toggleable__content\"><pre>RandomForestClassifier()</pre></div></div></div></div></div></div><div class=\"sk-parallel-item\"><div class=\"sk-item\"><div class=\"sk-label-container\"><div class=\"sk-label sk-toggleable\"><label>ExtraTreesClassifier</label></div></div><div class=\"sk-serial\"><div class=\"sk-item\"><div class=\"sk-estimator sk-toggleable\"><input class=\"sk-toggleable__control sk-hidden--visually\" id=\"sk-estimator-id-39\" type=\"checkbox\" ><label for=\"sk-estimator-id-39\" class=\"sk-toggleable__label sk-toggleable__label-arrow\">ExtraTreesClassifier</label><div class=\"sk-toggleable__content\"><pre>ExtraTreesClassifier()</pre></div></div></div></div></div></div><div class=\"sk-parallel-item\"><div class=\"sk-item\"><div class=\"sk-label-container\"><div class=\"sk-label sk-toggleable\"><label>XGB</label></div></div><div class=\"sk-serial\"><div class=\"sk-item\"><div class=\"sk-estimator sk-toggleable\"><input class=\"sk-toggleable__control sk-hidden--visually\" id=\"sk-estimator-id-40\" type=\"checkbox\" ><label for=\"sk-estimator-id-40\" class=\"sk-toggleable__label sk-toggleable__label-arrow\">XGBClassifier</label><div class=\"sk-toggleable__content\"><pre>XGBClassifier(base_score=None, booster=None, callbacks=None,\n",
       "              colsample_bylevel=None, colsample_bynode=None,\n",
       "              colsample_bytree=None, early_stopping_rounds=None,\n",
       "              enable_categorical=False, eval_metric=None, gamma=None,\n",
       "              gpu_id=None, grow_policy=None, importance_type=None,\n",
       "              interaction_constraints=None, learning_rate=None, max_bin=None,\n",
       "              max_cat_to_onehot=None, max_delta_step=None, max_depth=None,\n",
       "              max_leaves=None, min_child_weight=None, missing=nan,\n",
       "              monotone_constraints=None, n_estimators=100, n_jobs=None,\n",
       "              num_parallel_tree=None, predictor=None, random_state=None,\n",
       "              reg_alpha=None, reg_lambda=None, ...)</pre></div></div></div></div></div></div><div class=\"sk-parallel-item\"><div class=\"sk-item\"><div class=\"sk-label-container\"><div class=\"sk-label sk-toggleable\"><label>KNN</label></div></div><div class=\"sk-serial\"><div class=\"sk-item\"><div class=\"sk-estimator sk-toggleable\"><input class=\"sk-toggleable__control sk-hidden--visually\" id=\"sk-estimator-id-41\" type=\"checkbox\" ><label for=\"sk-estimator-id-41\" class=\"sk-toggleable__label sk-toggleable__label-arrow\">KNeighborsClassifier</label><div class=\"sk-toggleable__content\"><pre>KNeighborsClassifier()</pre></div></div></div></div></div></div></div></div></div></div></div></div></div></div></div>"
      ],
      "text/plain": [
       "VotingClassifier(estimators=[('enseble',\n",
       "                              VotingClassifier(estimators=[('Decision Tree',\n",
       "                                                            DecisionTreeClassifier()),\n",
       "                                                           ('RF',\n",
       "                                                            RandomForestClassifier()),\n",
       "                                                           ('ExtraTreesClassifier',\n",
       "                                                            ExtraTreesClassifier()),\n",
       "                                                           ('XGB',\n",
       "                                                            XGBClassifier(base_score=None,\n",
       "                                                                          booster=None,\n",
       "                                                                          callbacks=None,\n",
       "                                                                          colsample_bylevel=None,\n",
       "                                                                          colsample_bynode=None,\n",
       "                                                                          colsample_bytree=None,\n",
       "                                                                          early_stopping_rounds=None,...\n",
       "                                                                          interaction_constraints=None,\n",
       "                                                                          learning_rate=None,\n",
       "                                                                          max_bin=None,\n",
       "                                                                          max_cat_to_onehot=None,\n",
       "                                                                          max_delta_step=None,\n",
       "                                                                          max_depth=None,\n",
       "                                                                          max_leaves=None,\n",
       "                                                                          min_child_weight=None,\n",
       "                                                                          missing=nan,\n",
       "                                                                          monotone_constraints=None,\n",
       "                                                                          n_estimators=100,\n",
       "                                                                          n_jobs=None,\n",
       "                                                                          num_parallel_tree=None,\n",
       "                                                                          predictor=None,\n",
       "                                                                          random_state=None,\n",
       "                                                                          reg_alpha=None,\n",
       "                                                                          reg_lambda=None, ...)),\n",
       "                                                           ('KNN',\n",
       "                                                            KNeighborsClassifier())]))])"
      ]
     },
     "execution_count": 63,
     "metadata": {},
     "output_type": "execute_result"
    }
   ],
   "source": [
    "final.fit(X_train, y_train)"
   ]
  },
  {
   "cell_type": "code",
   "execution_count": 64,
   "id": "4c44a168",
   "metadata": {},
   "outputs": [],
   "source": [
    "y_pred_test11 =final.predict(X_test)\n",
    "y_pred_train11 = final.predict(X_train)"
   ]
  },
  {
   "cell_type": "code",
   "execution_count": 65,
   "id": "752024a4",
   "metadata": {},
   "outputs": [
    {
     "name": "stdout",
     "output_type": "stream",
     "text": [
      "ensemble train :  1.0\n",
      "ensemble tets :  0.9738475177304965\n"
     ]
    }
   ],
   "source": [
    "from sklearn.metrics import accuracy_score\n",
    "train_accurry = accuracy_score(y_pred_train11, y_train)\n",
    "test_accurry = accuracy_score(y_pred_test11, y_test)\n",
    "print('ensemble train : ', train_accurry)\n",
    "print('ensemble tets : ', test_accurry)"
   ]
  },
  {
   "cell_type": "code",
   "execution_count": 66,
   "id": "8dc57eac",
   "metadata": {},
   "outputs": [],
   "source": [
    "final11= VotingClassifier(estimators=[('ensemble1', ensemble),('ensemble2',finalensemble)], voting='hard')"
   ]
  },
  {
   "cell_type": "code",
   "execution_count": 67,
   "id": "c687549d",
   "metadata": {},
   "outputs": [
    {
     "name": "stdout",
     "output_type": "stream",
     "text": [
      "CPU times: total: 10.1 s\n",
      "Wall time: 2.42 s\n"
     ]
    },
    {
     "data": {
      "text/html": [
       "<style>#sk-container-id-8 {color: black;background-color: white;}#sk-container-id-8 pre{padding: 0;}#sk-container-id-8 div.sk-toggleable {background-color: white;}#sk-container-id-8 label.sk-toggleable__label {cursor: pointer;display: block;width: 100%;margin-bottom: 0;padding: 0.3em;box-sizing: border-box;text-align: center;}#sk-container-id-8 label.sk-toggleable__label-arrow:before {content: \"▸\";float: left;margin-right: 0.25em;color: #696969;}#sk-container-id-8 label.sk-toggleable__label-arrow:hover:before {color: black;}#sk-container-id-8 div.sk-estimator:hover label.sk-toggleable__label-arrow:before {color: black;}#sk-container-id-8 div.sk-toggleable__content {max-height: 0;max-width: 0;overflow: hidden;text-align: left;background-color: #f0f8ff;}#sk-container-id-8 div.sk-toggleable__content pre {margin: 0.2em;color: black;border-radius: 0.25em;background-color: #f0f8ff;}#sk-container-id-8 input.sk-toggleable__control:checked~div.sk-toggleable__content {max-height: 200px;max-width: 100%;overflow: auto;}#sk-container-id-8 input.sk-toggleable__control:checked~label.sk-toggleable__label-arrow:before {content: \"▾\";}#sk-container-id-8 div.sk-estimator input.sk-toggleable__control:checked~label.sk-toggleable__label {background-color: #d4ebff;}#sk-container-id-8 div.sk-label input.sk-toggleable__control:checked~label.sk-toggleable__label {background-color: #d4ebff;}#sk-container-id-8 input.sk-hidden--visually {border: 0;clip: rect(1px 1px 1px 1px);clip: rect(1px, 1px, 1px, 1px);height: 1px;margin: -1px;overflow: hidden;padding: 0;position: absolute;width: 1px;}#sk-container-id-8 div.sk-estimator {font-family: monospace;background-color: #f0f8ff;border: 1px dotted black;border-radius: 0.25em;box-sizing: border-box;margin-bottom: 0.5em;}#sk-container-id-8 div.sk-estimator:hover {background-color: #d4ebff;}#sk-container-id-8 div.sk-parallel-item::after {content: \"\";width: 100%;border-bottom: 1px solid gray;flex-grow: 1;}#sk-container-id-8 div.sk-label:hover label.sk-toggleable__label {background-color: #d4ebff;}#sk-container-id-8 div.sk-serial::before {content: \"\";position: absolute;border-left: 1px solid gray;box-sizing: border-box;top: 0;bottom: 0;left: 50%;z-index: 0;}#sk-container-id-8 div.sk-serial {display: flex;flex-direction: column;align-items: center;background-color: white;padding-right: 0.2em;padding-left: 0.2em;position: relative;}#sk-container-id-8 div.sk-item {position: relative;z-index: 1;}#sk-container-id-8 div.sk-parallel {display: flex;align-items: stretch;justify-content: center;background-color: white;position: relative;}#sk-container-id-8 div.sk-item::before, #sk-container-id-8 div.sk-parallel-item::before {content: \"\";position: absolute;border-left: 1px solid gray;box-sizing: border-box;top: 0;bottom: 0;left: 50%;z-index: -1;}#sk-container-id-8 div.sk-parallel-item {display: flex;flex-direction: column;z-index: 1;position: relative;background-color: white;}#sk-container-id-8 div.sk-parallel-item:first-child::after {align-self: flex-end;width: 50%;}#sk-container-id-8 div.sk-parallel-item:last-child::after {align-self: flex-start;width: 50%;}#sk-container-id-8 div.sk-parallel-item:only-child::after {width: 0;}#sk-container-id-8 div.sk-dashed-wrapped {border: 1px dashed gray;margin: 0 0.4em 0.5em 0.4em;box-sizing: border-box;padding-bottom: 0.4em;background-color: white;}#sk-container-id-8 div.sk-label label {font-family: monospace;font-weight: bold;display: inline-block;line-height: 1.2em;}#sk-container-id-8 div.sk-label-container {text-align: center;}#sk-container-id-8 div.sk-container {/* jupyter's `normalize.less` sets `[hidden] { display: none; }` but bootstrap.min.css set `[hidden] { display: none !important; }` so we also need the `!important` here to be able to override the default hidden behavior on the sphinx rendered scikit-learn.org. See: https://github.com/scikit-learn/scikit-learn/issues/21755 */display: inline-block !important;position: relative;}#sk-container-id-8 div.sk-text-repr-fallback {display: none;}</style><div id=\"sk-container-id-8\" class=\"sk-top-container\"><div class=\"sk-text-repr-fallback\"><pre>VotingClassifier(estimators=[(&#x27;ensemble1&#x27;,\n",
       "                              VotingClassifier(estimators=[(&#x27;Decision Tree&#x27;,\n",
       "                                                            DecisionTreeClassifier()),\n",
       "                                                           (&#x27;RF&#x27;,\n",
       "                                                            RandomForestClassifier()),\n",
       "                                                           (&#x27;ExtraTreesClassifier&#x27;,\n",
       "                                                            ExtraTreesClassifier()),\n",
       "                                                           (&#x27;XGB&#x27;,\n",
       "                                                            XGBClassifier(base_score=None,\n",
       "                                                                          booster=None,\n",
       "                                                                          callbacks=None,\n",
       "                                                                          colsample_bylevel=None,\n",
       "                                                                          colsample_bynode=None,\n",
       "                                                                          colsample_bytree=None,\n",
       "                                                                          early_stopping_rounds=Non...\n",
       "                                                                          grow_policy=None,\n",
       "                                                                          importance_type=None,\n",
       "                                                                          interaction_constraints=None,\n",
       "                                                                          learning_rate=None,\n",
       "                                                                          max_bin=None,\n",
       "                                                                          max_cat_to_onehot=None,\n",
       "                                                                          max_delta_step=None,\n",
       "                                                                          max_depth=None,\n",
       "                                                                          max_leaves=None,\n",
       "                                                                          min_child_weight=None,\n",
       "                                                                          missing=nan,\n",
       "                                                                          monotone_constraints=None,\n",
       "                                                                          n_estimators=100,\n",
       "                                                                          n_jobs=None,\n",
       "                                                                          num_parallel_tree=None,\n",
       "                                                                          predictor=None,\n",
       "                                                                          random_state=None,\n",
       "                                                                          reg_alpha=None,\n",
       "                                                                          reg_lambda=None, ...))]))])</pre><b>In a Jupyter environment, please rerun this cell to show the HTML representation or trust the notebook. <br />On GitHub, the HTML representation is unable to render, please try loading this page with nbviewer.org.</b></div><div class=\"sk-container\" hidden><div class=\"sk-item sk-dashed-wrapped\"><div class=\"sk-label-container\"><div class=\"sk-label sk-toggleable\"><input class=\"sk-toggleable__control sk-hidden--visually\" id=\"sk-estimator-id-42\" type=\"checkbox\" ><label for=\"sk-estimator-id-42\" class=\"sk-toggleable__label sk-toggleable__label-arrow\">VotingClassifier</label><div class=\"sk-toggleable__content\"><pre>VotingClassifier(estimators=[(&#x27;ensemble1&#x27;,\n",
       "                              VotingClassifier(estimators=[(&#x27;Decision Tree&#x27;,\n",
       "                                                            DecisionTreeClassifier()),\n",
       "                                                           (&#x27;RF&#x27;,\n",
       "                                                            RandomForestClassifier()),\n",
       "                                                           (&#x27;ExtraTreesClassifier&#x27;,\n",
       "                                                            ExtraTreesClassifier()),\n",
       "                                                           (&#x27;XGB&#x27;,\n",
       "                                                            XGBClassifier(base_score=None,\n",
       "                                                                          booster=None,\n",
       "                                                                          callbacks=None,\n",
       "                                                                          colsample_bylevel=None,\n",
       "                                                                          colsample_bynode=None,\n",
       "                                                                          colsample_bytree=None,\n",
       "                                                                          early_stopping_rounds=Non...\n",
       "                                                                          grow_policy=None,\n",
       "                                                                          importance_type=None,\n",
       "                                                                          interaction_constraints=None,\n",
       "                                                                          learning_rate=None,\n",
       "                                                                          max_bin=None,\n",
       "                                                                          max_cat_to_onehot=None,\n",
       "                                                                          max_delta_step=None,\n",
       "                                                                          max_depth=None,\n",
       "                                                                          max_leaves=None,\n",
       "                                                                          min_child_weight=None,\n",
       "                                                                          missing=nan,\n",
       "                                                                          monotone_constraints=None,\n",
       "                                                                          n_estimators=100,\n",
       "                                                                          n_jobs=None,\n",
       "                                                                          num_parallel_tree=None,\n",
       "                                                                          predictor=None,\n",
       "                                                                          random_state=None,\n",
       "                                                                          reg_alpha=None,\n",
       "                                                                          reg_lambda=None, ...))]))])</pre></div></div></div><div class=\"sk-parallel\"><div class=\"sk-parallel-item\"><div class=\"sk-item\"><div class=\"sk-label-container\"><div class=\"sk-label sk-toggleable\"><label>ensemble1</label></div></div><div class=\"sk-serial\"><div class=\"sk-item sk-dashed-wrapped\"><div class=\"sk-parallel\"><div class=\"sk-parallel-item\"><div class=\"sk-item\"><div class=\"sk-label-container\"><div class=\"sk-label sk-toggleable\"><label>Decision Tree</label></div></div><div class=\"sk-serial\"><div class=\"sk-item\"><div class=\"sk-estimator sk-toggleable\"><input class=\"sk-toggleable__control sk-hidden--visually\" id=\"sk-estimator-id-43\" type=\"checkbox\" ><label for=\"sk-estimator-id-43\" class=\"sk-toggleable__label sk-toggleable__label-arrow\">DecisionTreeClassifier</label><div class=\"sk-toggleable__content\"><pre>DecisionTreeClassifier()</pre></div></div></div></div></div></div><div class=\"sk-parallel-item\"><div class=\"sk-item\"><div class=\"sk-label-container\"><div class=\"sk-label sk-toggleable\"><label>RF</label></div></div><div class=\"sk-serial\"><div class=\"sk-item\"><div class=\"sk-estimator sk-toggleable\"><input class=\"sk-toggleable__control sk-hidden--visually\" id=\"sk-estimator-id-44\" type=\"checkbox\" ><label for=\"sk-estimator-id-44\" class=\"sk-toggleable__label sk-toggleable__label-arrow\">RandomForestClassifier</label><div class=\"sk-toggleable__content\"><pre>RandomForestClassifier()</pre></div></div></div></div></div></div><div class=\"sk-parallel-item\"><div class=\"sk-item\"><div class=\"sk-label-container\"><div class=\"sk-label sk-toggleable\"><label>ExtraTreesClassifier</label></div></div><div class=\"sk-serial\"><div class=\"sk-item\"><div class=\"sk-estimator sk-toggleable\"><input class=\"sk-toggleable__control sk-hidden--visually\" id=\"sk-estimator-id-45\" type=\"checkbox\" ><label for=\"sk-estimator-id-45\" class=\"sk-toggleable__label sk-toggleable__label-arrow\">ExtraTreesClassifier</label><div class=\"sk-toggleable__content\"><pre>ExtraTreesClassifier()</pre></div></div></div></div></div></div><div class=\"sk-parallel-item\"><div class=\"sk-item\"><div class=\"sk-label-container\"><div class=\"sk-label sk-toggleable\"><label>XGB</label></div></div><div class=\"sk-serial\"><div class=\"sk-item\"><div class=\"sk-estimator sk-toggleable\"><input class=\"sk-toggleable__control sk-hidden--visually\" id=\"sk-estimator-id-46\" type=\"checkbox\" ><label for=\"sk-estimator-id-46\" class=\"sk-toggleable__label sk-toggleable__label-arrow\">XGBClassifier</label><div class=\"sk-toggleable__content\"><pre>XGBClassifier(base_score=None, booster=None, callbacks=None,\n",
       "              colsample_bylevel=None, colsample_bynode=None,\n",
       "              colsample_bytree=None, early_stopping_rounds=None,\n",
       "              enable_categorical=False, eval_metric=None, gamma=None,\n",
       "              gpu_id=None, grow_policy=None, importance_type=None,\n",
       "              interaction_constraints=None, learning_rate=None, max_bin=None,\n",
       "              max_cat_to_onehot=None, max_delta_step=None, max_depth=None,\n",
       "              max_leaves=None, min_child_weight=None, missing=nan,\n",
       "              monotone_constraints=None, n_estimators=100, n_jobs=None,\n",
       "              num_parallel_tree=None, predictor=None, random_state=None,\n",
       "              reg_alpha=None, reg_lambda=None, ...)</pre></div></div></div></div></div></div><div class=\"sk-parallel-item\"><div class=\"sk-item\"><div class=\"sk-label-container\"><div class=\"sk-label sk-toggleable\"><label>KNN</label></div></div><div class=\"sk-serial\"><div class=\"sk-item\"><div class=\"sk-estimator sk-toggleable\"><input class=\"sk-toggleable__control sk-hidden--visually\" id=\"sk-estimator-id-47\" type=\"checkbox\" ><label for=\"sk-estimator-id-47\" class=\"sk-toggleable__label sk-toggleable__label-arrow\">KNeighborsClassifier</label><div class=\"sk-toggleable__content\"><pre>KNeighborsClassifier()</pre></div></div></div></div></div></div></div></div></div></div></div><div class=\"sk-parallel-item\"><div class=\"sk-item\"><div class=\"sk-label-container\"><div class=\"sk-label sk-toggleable\"><label>ensemble2</label></div></div><div class=\"sk-serial\"><div class=\"sk-item sk-dashed-wrapped\"><div class=\"sk-parallel\"><div class=\"sk-parallel-item\"><div class=\"sk-item\"><div class=\"sk-label-container\"><div class=\"sk-label sk-toggleable\"><label>ADB</label></div></div><div class=\"sk-serial\"><div class=\"sk-item\"><div class=\"sk-estimator sk-toggleable\"><input class=\"sk-toggleable__control sk-hidden--visually\" id=\"sk-estimator-id-48\" type=\"checkbox\" ><label for=\"sk-estimator-id-48\" class=\"sk-toggleable__label sk-toggleable__label-arrow\">AdaBoostClassifier</label><div class=\"sk-toggleable__content\"><pre>AdaBoostClassifier()</pre></div></div></div></div></div></div><div class=\"sk-parallel-item\"><div class=\"sk-item\"><div class=\"sk-label-container\"><div class=\"sk-label sk-toggleable\"><label>ETC</label></div></div><div class=\"sk-serial\"><div class=\"sk-item\"><div class=\"sk-estimator sk-toggleable\"><input class=\"sk-toggleable__control sk-hidden--visually\" id=\"sk-estimator-id-49\" type=\"checkbox\" ><label for=\"sk-estimator-id-49\" class=\"sk-toggleable__label sk-toggleable__label-arrow\">ExtraTreesClassifier</label><div class=\"sk-toggleable__content\"><pre>ExtraTreesClassifier()</pre></div></div></div></div></div></div><div class=\"sk-parallel-item\"><div class=\"sk-item\"><div class=\"sk-label-container\"><div class=\"sk-label sk-toggleable\"><label>XGB</label></div></div><div class=\"sk-serial\"><div class=\"sk-item\"><div class=\"sk-estimator sk-toggleable\"><input class=\"sk-toggleable__control sk-hidden--visually\" id=\"sk-estimator-id-50\" type=\"checkbox\" ><label for=\"sk-estimator-id-50\" class=\"sk-toggleable__label sk-toggleable__label-arrow\">XGBClassifier</label><div class=\"sk-toggleable__content\"><pre>XGBClassifier(base_score=None, booster=None, callbacks=None,\n",
       "              colsample_bylevel=None, colsample_bynode=None,\n",
       "              colsample_bytree=None, early_stopping_rounds=None,\n",
       "              enable_categorical=False, eval_metric=None, gamma=None,\n",
       "              gpu_id=None, grow_policy=None, importance_type=None,\n",
       "              interaction_constraints=None, learning_rate=None, max_bin=None,\n",
       "              max_cat_to_onehot=None, max_delta_step=None, max_depth=None,\n",
       "              max_leaves=None, min_child_weight=None, missing=nan,\n",
       "              monotone_constraints=None, n_estimators=100, n_jobs=None,\n",
       "              num_parallel_tree=None, predictor=None, random_state=None,\n",
       "              reg_alpha=None, reg_lambda=None, ...)</pre></div></div></div></div></div></div></div></div></div></div></div></div></div></div></div>"
      ],
      "text/plain": [
       "VotingClassifier(estimators=[('ensemble1',\n",
       "                              VotingClassifier(estimators=[('Decision Tree',\n",
       "                                                            DecisionTreeClassifier()),\n",
       "                                                           ('RF',\n",
       "                                                            RandomForestClassifier()),\n",
       "                                                           ('ExtraTreesClassifier',\n",
       "                                                            ExtraTreesClassifier()),\n",
       "                                                           ('XGB',\n",
       "                                                            XGBClassifier(base_score=None,\n",
       "                                                                          booster=None,\n",
       "                                                                          callbacks=None,\n",
       "                                                                          colsample_bylevel=None,\n",
       "                                                                          colsample_bynode=None,\n",
       "                                                                          colsample_bytree=None,\n",
       "                                                                          early_stopping_rounds=Non...\n",
       "                                                                          grow_policy=None,\n",
       "                                                                          importance_type=None,\n",
       "                                                                          interaction_constraints=None,\n",
       "                                                                          learning_rate=None,\n",
       "                                                                          max_bin=None,\n",
       "                                                                          max_cat_to_onehot=None,\n",
       "                                                                          max_delta_step=None,\n",
       "                                                                          max_depth=None,\n",
       "                                                                          max_leaves=None,\n",
       "                                                                          min_child_weight=None,\n",
       "                                                                          missing=nan,\n",
       "                                                                          monotone_constraints=None,\n",
       "                                                                          n_estimators=100,\n",
       "                                                                          n_jobs=None,\n",
       "                                                                          num_parallel_tree=None,\n",
       "                                                                          predictor=None,\n",
       "                                                                          random_state=None,\n",
       "                                                                          reg_alpha=None,\n",
       "                                                                          reg_lambda=None, ...))]))])"
      ]
     },
     "execution_count": 67,
     "metadata": {},
     "output_type": "execute_result"
    }
   ],
   "source": [
    "%%time\n",
    "final11.fit(X_train, y_train)"
   ]
  },
  {
   "cell_type": "code",
   "execution_count": null,
   "id": "8b55612b",
   "metadata": {},
   "outputs": [],
   "source": []
  },
  {
   "cell_type": "code",
   "execution_count": 68,
   "id": "9947f29f",
   "metadata": {},
   "outputs": [],
   "source": [
    "y_pred_test11 =final11.predict(X_test)\n",
    "y_pred_train11 = final11.predict(X_train)"
   ]
  },
  {
   "cell_type": "code",
   "execution_count": 69,
   "id": "4409d121",
   "metadata": {},
   "outputs": [
    {
     "name": "stdout",
     "output_type": "stream",
     "text": [
      "ensemble train :  0.9994458605785216\n",
      "ensemble tets :  0.9725177304964538\n"
     ]
    }
   ],
   "source": [
    "from sklearn.metrics import accuracy_score\n",
    "train_accurry = accuracy_score(y_pred_train11, y_train)\n",
    "test_accurry = accuracy_score(y_pred_test11, y_test)\n",
    "print('ensemble train : ', train_accurry)\n",
    "print('ensemble tets : ', test_accurry)"
   ]
  },
  {
   "cell_type": "code",
   "execution_count": 70,
   "id": "dc6a8a27",
   "metadata": {},
   "outputs": [
    {
     "name": "stdout",
     "output_type": "stream",
     "text": [
      "[1 1 0 ... 1 1 1]\n"
     ]
    }
   ],
   "source": [
    "\n",
    "y_predicted1=final11.predict(X_test)\n",
    "vcf=metrics.confusion_matrix(y_pred_test11, y_test)\n",
    "print(y_predicted1)\n",
    "#print(classification_report(y_test, y_predictedANN))\n",
    "\n"
   ]
  },
  {
   "cell_type": "code",
   "execution_count": 71,
   "id": "d9079117",
   "metadata": {},
   "outputs": [
    {
     "data": {
      "image/png": "[encoded data removed]",
      "text/plain": [
       "<Figure size 496.8x496.8 with 2 Axes>"
      ]
     },
     "metadata": {
      "needs_background": "light"
     },
     "output_type": "display_data"
    },
    {
     "name": "stdout",
     "output_type": "stream",
     "text": [
      "              precision    recall  f1-score   support\n",
      "\n",
      "           0       0.92      0.96      0.94       528\n",
      "           1       0.99      0.98      0.98      1728\n",
      "\n",
      "    accuracy                           0.97      2256\n",
      "   macro avg       0.96      0.97      0.96      2256\n",
      "weighted avg       0.97      0.97      0.97      2256\n",
      "\n",
      "[[ 508   20]\n",
      " [  42 1686]]\n",
      "CPU times: total: 109 ms\n",
      "Wall time: 113 ms\n"
     ]
    }
   ],
   "source": [
    "%%time\n",
    "from mlxtend.plotting import plot_confusion_matrix\n",
    "fig, ax = plot_confusion_matrix(conf_mat=vcf,figsize=(6.9, 6.9), \n",
    "                                show_absolute=True,\n",
    "                                show_normed=True,\n",
    "                                colorbar=True)\n",
    "plt.title('Multi-Layer Ensemble model')\n",
    "plt.xlabel('Predicted Value')\n",
    "plt.ylabel('True Value')\n",
    "plt.show()\n",
    "\n",
    "#print(f'Training Score: {modelks.score(X_train_sc, y_train)}')\n",
    "#print(f'Testing  Score: {modelks.score(X_test_sc, y_test)}')\n",
    "print(classification_report(y_pred_test11, y_test))\n",
    "print(confusion_matrix(y_pred_test11, y_test))"
   ]
  },
  {
   "cell_type": "code",
   "execution_count": 72,
   "id": "3991db40",
   "metadata": {},
   "outputs": [
    {
     "name": "stdout",
     "output_type": "stream",
     "text": [
      "Precision: 0.9883\n",
      "Recall: 0.9757\n",
      "F1 score: 0.9819\n",
      "Accuracy Score: 0.9725\n"
     ]
    },
    {
     "data": {
      "text/plain": [
       "0.9725177304964538"
      ]
     },
     "execution_count": 72,
     "metadata": {},
     "output_type": "execute_result"
    }
   ],
   "source": [
    "from sklearn.metrics import precision_score,recall_score,f1_score\n",
    "print('Precision: %.4f'%precision_score(y_pred_test11, y_test))\n",
    "print('Recall: %.4f' % recall_score(y_pred_test11, y_test))\n",
    "print('F1 score: %.4f' % f1_score(y_pred_test11, y_test))\n",
    "print('Accuracy Score: %.4f' % accuracy_score(y_pred_test11, y_test))\n",
    "accuracy_score(y_pred_test11, y_test)"
   ]
  },
  {
   "cell_type": "code",
   "execution_count": null,
   "id": "82fe5850",
   "metadata": {},
   "outputs": [],
   "source": [
    "import streamlit as st\n"
   ]
  },
  {
   "cell_type": "code",
   "execution_count": null,
   "id": "7afb2721",
   "metadata": {},
   "outputs": [],
   "source": [
    "!pip install streamlit"
   ]
  },
  {
   "cell_type": "code",
   "execution_count": null,
   "id": "0de3c906",
   "metadata": {},
   "outputs": [],
   "source": []
  },
  {
   "cell_type": "code",
   "execution_count": null,
   "id": "78ab3503",
   "metadata": {},
   "outputs": [],
   "source": []
  },
  {
   "cell_type": "code",
   "execution_count": null,
   "id": "196a8847",
   "metadata": {},
   "outputs": [],
   "source": [
    "\n"
   ]
  },
  {
   "cell_type": "code",
   "execution_count": null,
   "id": "bc895f30",
   "metadata": {},
   "outputs": [],
   "source": []
  },
  {
   "cell_type": "code",
   "execution_count": null,
   "id": "786bc911",
   "metadata": {},
   "outputs": [],
   "source": []
  },
  {
   "cell_type": "code",
   "execution_count": null,
   "id": "e3542ff6",
   "metadata": {},
   "outputs": [],
   "source": []
  },
  {
   "cell_type": "code",
   "execution_count": null,
   "id": "f9401144",
   "metadata": {},
   "outputs": [],
   "source": []
  },
  {
   "cell_type": "code",
   "execution_count": null,
   "id": "67b89ca3",
   "metadata": {},
   "outputs": [],
   "source": []
  },
  {
   "cell_type": "code",
   "execution_count": null,
   "id": "27fdbb4d",
   "metadata": {},
   "outputs": [],
   "source": [
    "y_predicted1"
   ]
  },
  {
   "cell_type": "code",
   "execution_count": null,
   "id": "78cbd571",
   "metadata": {},
   "outputs": [],
   "source": []
  },
  {
   "cell_type": "code",
   "execution_count": null,
   "id": "405e6414",
   "metadata": {},
   "outputs": [],
   "source": [
    "y_predicted1.save_model('MLELM.json')"
   ]
  },
  {
   "cell_type": "code",
   "execution_count": null,
   "id": "6b2c85d2",
   "metadata": {},
   "outputs": [],
   "source": []
  },
  {
   "cell_type": "code",
   "execution_count": null,
   "id": "5447d272",
   "metadata": {},
   "outputs": [],
   "source": []
  },
  {
   "cell_type": "code",
   "execution_count": null,
   "id": "ba305fb7",
   "metadata": {},
   "outputs": [],
   "source": []
  },
  {
   "cell_type": "code",
   "execution_count": null,
   "id": "339f24ef",
   "metadata": {},
   "outputs": [],
   "source": []
  },
  {
   "cell_type": "code",
   "execution_count": null,
   "id": "8b1c98f5",
   "metadata": {},
   "outputs": [],
   "source": []
  },
  {
   "cell_type": "code",
   "execution_count": null,
   "id": "01e24dc8",
   "metadata": {},
   "outputs": [],
   "source": []
  },
  {
   "cell_type": "markdown",
   "id": "7a095cba",
   "metadata": {},
   "source": [
    "# Stacking"
   ]
  },
  {
   "cell_type": "code",
   "execution_count": null,
   "id": "87643de1",
   "metadata": {},
   "outputs": [],
   "source": [
    "all_models = [model_1, model_2, model_3, model_4, model_5]"
   ]
  },
  {
   "cell_type": "code",
   "execution_count": null,
   "id": "c2354146",
   "metadata": {},
   "outputs": [],
   "source": [
    "clf = [('Decision Tree', model_1), ('RF', model_2), ('LogisticRegression', model_3), ('XGB', model_4),('KNN', model_5)] "
   ]
  },
  {
   "cell_type": "code",
   "execution_count": null,
   "id": "69e6395d",
   "metadata": {},
   "outputs": [],
   "source": [
    " from sklearn.ensemble import StackingClassifier\n"
   ]
  },
  {
   "cell_type": "code",
   "execution_count": null,
   "id": "141e4031",
   "metadata": {},
   "outputs": [],
   "source": [
    "stack_model = StackingClassifier(all_models, meta_classifier = model_2)"
   ]
  },
  {
   "cell_type": "code",
   "execution_count": null,
   "id": "2ebc8732",
   "metadata": {},
   "outputs": [],
   "source": [
    "stack_model.fit(X_train, y_train)"
   ]
  },
  {
   "cell_type": "code",
   "execution_count": null,
   "id": "aa699d25",
   "metadata": {},
   "outputs": [],
   "source": []
  },
  {
   "cell_type": "code",
   "execution_count": null,
   "id": "05c308b1",
   "metadata": {},
   "outputs": [],
   "source": [
    "from sklearn.model_selection import cross_val_score"
   ]
  },
  {
   "cell_type": "code",
   "execution_count": null,
   "id": "ea040c7c",
   "metadata": {},
   "outputs": [],
   "source": [
    "\n",
    "sclf = StackingClassifier(classifiers=[model_1, model_2, model_3, model_4, model_5],\n",
    "                          meta_classifier= model_8)"
   ]
  },
  {
   "cell_type": "code",
   "execution_count": null,
   "id": "2372c80e",
   "metadata": {},
   "outputs": [],
   "source": [
    "from mlxtend.classifier import StackingClassifier"
   ]
  },
  {
   "cell_type": "code",
   "execution_count": null,
   "id": "04333de3",
   "metadata": {},
   "outputs": [],
   "source": [
    "sclf.fit(X_train_sc, y_train)"
   ]
  },
  {
   "cell_type": "code",
   "execution_count": null,
   "id": "220a26d7",
   "metadata": {},
   "outputs": [],
   "source": [
    "y_pred_test11 =sclf.predict(X_test_sc)\n",
    "y_pred_train11 = sclf.predict(X_train_sc)"
   ]
  },
  {
   "cell_type": "code",
   "execution_count": null,
   "id": "efeab42e",
   "metadata": {},
   "outputs": [],
   "source": [
    "from sklearn.metrics import accuracy_score\n",
    "train_accurry = accuracy_score(y_pred_train11, y_train)\n",
    "test_accurry = accuracy_score(y_pred_test11, y_test)\n",
    "print('ensemble train : ', train_accurry)\n",
    "print('ensemble tets : ', test_accurry)"
   ]
  },
  {
   "cell_type": "code",
   "execution_count": null,
   "id": "4ada115b",
   "metadata": {},
   "outputs": [],
   "source": [
    "clf = StackingClassifier(estimators=estimators)\n",
    "clf.fit(X_train_sc,y_train)"
   ]
  },
  {
   "cell_type": "code",
   "execution_count": null,
   "id": "8b91418a",
   "metadata": {},
   "outputs": [],
   "source": [
    "estimators=[('Decision Tree', model_1), ('RF', model_2), ('LogisticRegression', model_3), ('XGB', model_4),\n",
    "                                        ('KNN', model_6)]"
   ]
  },
  {
   "cell_type": "code",
   "execution_count": null,
   "id": "ed9f4288",
   "metadata": {},
   "outputs": [],
   "source": [
    "from sklearn.ensemble import StackingClassifier"
   ]
  },
  {
   "cell_type": "code",
   "execution_count": null,
   "id": "9ccfa41f",
   "metadata": {},
   "outputs": [],
   "source": [
    "y_pred_test11 =clf.predict(X_test_sc)\n",
    "y_pred_train11 = clf.predict(X_train_sc)"
   ]
  },
  {
   "cell_type": "code",
   "execution_count": null,
   "id": "c47689ae",
   "metadata": {},
   "outputs": [],
   "source": [
    "from sklearn.metrics import accuracy_score\n",
    "train_accurry = accuracy_score(y_pred_train11, y_train)\n",
    "test_accurry = accuracy_score(y_pred_test11, y_test)\n",
    "print('ensemble train : ', train_accurry)\n",
    "print('ensemble tets : ', test_accurry)"
   ]
  },
  {
   "cell_type": "code",
   "execution_count": null,
   "id": "9c76eccf",
   "metadata": {},
   "outputs": [],
   "source": [
    "!pip install arff"
   ]
  },
  {
   "cell_type": "code",
   "execution_count": null,
   "id": "31468571",
   "metadata": {},
   "outputs": [],
   "source": [
    "import arff\n",
    "import numpy as np\n",
    "dataset = arff.load(open('Mohammad14JulyDS_1.arff', 'rb'))\n",
    "data = np.array(dataset['data'])"
   ]
  },
  {
   "cell_type": "code",
   "execution_count": null,
   "id": "9d7293f3",
   "metadata": {},
   "outputs": [],
   "source": [
    "\n",
    "from scipy.io import arff\n",
    "import pandas as pd\n",
    "\n",
    "data = arff.loadarff('Training Dataset.arff')\n",
    "df = pd.DataFrame(data[0])\n",
    "df.head()"
   ]
  },
  {
   "cell_type": "code",
   "execution_count": null,
   "id": "cdb29a65",
   "metadata": {},
   "outputs": [],
   "source": [
    "import h5py    \n"
   ]
  },
  {
   "cell_type": "code",
   "execution_count": null,
   "id": "14066231",
   "metadata": {},
   "outputs": [],
   "source": [
    "import numpy as np    \n",
    "f1 = h5py.File(model_all.h5,'r') "
   ]
  },
  {
   "cell_type": "code",
   "execution_count": null,
   "id": "f79c768c",
   "metadata": {},
   "outputs": [],
   "source": []
  },
  {
   "cell_type": "code",
   "execution_count": null,
   "id": "8ae3ca35",
   "metadata": {},
   "outputs": [],
   "source": [
    "\n"
   ]
  },
  {
   "cell_type": "code",
   "execution_count": null,
   "id": "92317c6e",
   "metadata": {},
   "outputs": [],
   "source": [
    "import requests\n",
    "# importing required packages for this section\n",
    "from urllib.parse import urlparse,urlencode\n",
    "import ipaddress\n",
    "import re\n",
    "import urllib\n",
    "from urllib.parse import urlparse, urlencode\n",
    "import re\n",
    "from bs4 import BeautifulSoup\n",
    "#import whois\n",
    "import urllib\n",
    "import urllib.request\n",
    "from datetime import datetime"
   ]
  },
  {
   "cell_type": "code",
   "execution_count": null,
   "id": "77f43526",
   "metadata": {},
   "outputs": [],
   "source": [
    "def abnormal_url(domain, url):\n",
    "    hostname = domain.name\n",
    "    match = re.search(hostname, url)\n",
    "    return 1 if match else -1"
   ]
  },
  {
   "cell_type": "code",
   "execution_count": null,
   "id": "a092ecc4",
   "metadata": {},
   "outputs": [],
   "source": [
    "from tensorflow.keras.models import Sequential\n",
    "from tensorflow.keras.layers import Dense, Dropout\n",
    "model=Sequential()\n",
    "model.add(Dense(256,input_dim=71,activation='relu'))\n",
    "model.add(Dropout(0.2))\n",
    "model.add(Dense(128,activation='relu'))\n",
    "model.add(Dense(64,activation='relu'))\n",
    "model.add(Dense(1,activation='sigmoid'))\n",
    "model.compile(loss='binary_crossentropy', optimizer='adam',\n",
    "metrics=['accuracy'])\n",
    "model.summary() "
   ]
  },
  {
   "cell_type": "code",
   "execution_count": null,
   "id": "874cc08d",
   "metadata": {},
   "outputs": [],
   "source": [
    "model.fit(X_train, y_train, epochs=200, batch_size=100) \n"
   ]
  },
  {
   "cell_type": "code",
   "execution_count": null,
   "id": "6403914b",
   "metadata": {},
   "outputs": [],
   "source": [
    "##BILSTM"
   ]
  },
  {
   "cell_type": "code",
   "execution_count": null,
   "id": "24168d8d",
   "metadata": {},
   "outputs": [],
   "source": [
    "import keras\n",
    "from keras.preprocessing.text import Tokenizer\n",
    "#from keras.preprocessing.sequence import pad_sequences\n",
    "from keras.models import load_model\n",
    "from keras.models import Sequential\n",
    "from keras.layers import LSTM, GRU, Embedding, Dense, Flatten, Bidirectional\n",
    "from keras.layers.core import Dense, Dropout, Activation\n",
    "#from keras.layers.normalization import BatchNormalization\n",
    "import numpy as np"
   ]
  },
  {
   "cell_type": "code",
   "execution_count": null,
   "id": "031dce24",
   "metadata": {},
   "outputs": [],
   "source": [
    "model=Sequential()\n",
    "#model.add(Conv1D(filters=256,kernel_size=5,input_shape=(71, 1)))\n",
    "model.add(Bidirectional(LSTM(256, return_sequences=False),\n",
    "                             input_shape=(76, 1)))\n",
    "#model.add(Bidirectional(LSTM(256, dropout=0.3, input_shape=(None,76, 1), return_sequences=True)))\n",
    "#model.add(Bidirectional(LSTM(256, dropout=0.3, recurrent_dropout=0.3, return_sequences=False)))\n",
    "#model.add(Bidirectional(LSTM(128, dropout=0.3, recurrent_dropout=0.3)))\n",
    "#model.add(Dense(1, activation='sigmoid'))\n",
    "model.add(Dense(256,activation='relu'))\n",
    "    \n",
    "model.add(Dropout(0.3))\n",
    "model.add(Dense(256,activation='relu'))   \n",
    "model.add(Dropout(0.1))   \n",
    "    \n",
    "    \n",
    "model.add(Dense(1,activation='sigmoid'))\n"
   ]
  },
  {
   "cell_type": "code",
   "execution_count": null,
   "id": "13b7aebe",
   "metadata": {},
   "outputs": [],
   "source": [
    "model.compile(\n",
    " optimizer=keras.optimizers.Adam(1e-2),\n",
    " #optimizer='adam', \n",
    " loss=\"binary_crossentropy\", \n",
    " metrics=[\"accuracy\"]\n",
    ")"
   ]
  },
  {
   "cell_type": "code",
   "execution_count": null,
   "id": "8365afae",
   "metadata": {},
   "outputs": [],
   "source": [
    "history = model.fit(\n",
    " X_train,\n",
    " y_train,\n",
    " batch_size=2048,\n",
    " epochs=100,\n",
    " verbose=1,\n",
    " validation_data = [X_test, y_test])"
   ]
  },
  {
   "cell_type": "code",
   "execution_count": null,
   "id": "a8008555",
   "metadata": {},
   "outputs": [],
   "source": []
  },
  {
   "cell_type": "code",
   "execution_count": null,
   "id": "4e3b5db0",
   "metadata": {},
   "outputs": [],
   "source": []
  }
 ],
 "metadata": {
  "kernelspec": {
   "display_name": "Python 3 (ipykernel)",
   "language": "python",
   "name": "python3"
  },
  "language_info": {
   "codemirror_mode": {
    "name": "ipython",
    "version": 3
   },
   "file_extension": ".py",
   "mimetype": "text/x-python",
   "name": "python",
   "nbconvert_exporter": "python",
   "pygments_lexer": "ipython3",
   "version": "3.9.13"
  }
 },
 "nbformat": 4,
 "nbformat_minor": 5
}
